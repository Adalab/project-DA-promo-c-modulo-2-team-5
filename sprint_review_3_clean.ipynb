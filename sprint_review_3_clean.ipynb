{
 "cells": [
  {
   "cell_type": "markdown",
   "metadata": {},
   "source": [
    "### Sprint Review III"
   ]
  },
  {
   "cell_type": "markdown",
   "metadata": {},
   "source": [
    "¿Qué logramos en este sprint?:\n",
    "- Lenguaje_prog\n",
    "- Salario_max (casi lo hemos conseguido categorizar)\n",
    "- Varias visualizaciones (gráficas)\n",
    "- Separar salarios por países\n",
    "- Importar la librería de europa y filtrar los datos por Europa\n",
    "- Profundizar en las preguntas y aproximarnos a la elaboración de dataframes al respecto de ellas"
   ]
  },
  {
   "cell_type": "code",
   "execution_count": 1,
   "metadata": {},
   "outputs": [],
   "source": [
    "import pandas as pd\n",
    "import matplotlib.pyplot as plt\n",
    "import seaborn as sns \n",
    "import numpy as np\n",
    "import sidetable\n",
    "import re "
   ]
  },
  {
   "cell_type": "code",
   "execution_count": 2,
   "metadata": {},
   "outputs": [],
   "source": [
    "df = pd.read_pickle(\"data/data_limpieza.pickle\")"
   ]
  },
  {
   "cell_type": "code",
   "execution_count": null,
   "metadata": {},
   "outputs": [],
   "source": [
    "df.isnull().sum()*100/df.shape[0]"
   ]
  },
  {
   "cell_type": "markdown",
   "metadata": {},
   "source": [
    "#### Histograma por puestos segun especialidad\n"
   ]
  },
  {
   "cell_type": "code",
   "execution_count": null,
   "metadata": {},
   "outputs": [],
   "source": [
    "plt.figure(figsize =(10,7))\n",
    "\n",
    "fig = sns.histplot(x=df['puesto'], data = df, hue = 'puesto', kde=True)\n",
    "fig.set_title('Histograma de los puestos de trabajo segun especialidad')\n",
    "plt.xticks(rotation= 75)\n",
    "\n",
    "plt.show()"
   ]
  },
  {
   "cell_type": "markdown",
   "metadata": {},
   "source": [
    "#### Counplot por sexos segun especialidad"
   ]
  },
  {
   "cell_type": "code",
   "execution_count": null,
   "metadata": {},
   "outputs": [],
   "source": [
    "plt.figure(figsize = (10, 10))\n",
    "\n",
    "fig = sns.countplot(data = df, y = \"puesto\", hue = \"gender\", palette = \"husl\", edgecolor = \"black\")\n",
    "fig.set(xlabel = \"Cantidad\", ylabel = \"Puesto\")\n",
    "\n",
    "sns.set(font = \"serif\")\n",
    "\n",
    "plt.legend(bbox_to_anchor = (0.7, 0.7))\n",
    "plt.xlabel(\"Cantidad\", fontsize = 20, font = \"serif\")\n",
    "plt.ylabel(\"Puesto\", fontsize = 20, font = \"serif\")\n",
    "\n",
    "plt.xticks(fontsize = 14)\n",
    "plt.yticks(fontsize = 14);"
   ]
  },
  {
   "cell_type": "markdown",
   "metadata": {},
   "source": [
    "#### Counplot por puesto segun la formacion"
   ]
  },
  {
   "cell_type": "code",
   "execution_count": null,
   "metadata": {},
   "outputs": [],
   "source": [
    "plt.figure( figsize=(25,6))\n",
    "\n",
    "fig = sns.countplot(x = 'puesto', data = df, hue= 'formacion')\n",
    "plt.xticks(rotation = 45)\n",
    "\n",
    "plt.show(); "
   ]
  },
  {
   "cell_type": "markdown",
   "metadata": {},
   "source": [
    "#### Counplot por puesto segun herramientas data"
   ]
  },
  {
   "cell_type": "code",
   "execution_count": null,
   "metadata": {},
   "outputs": [],
   "source": [
    "plt.figure( figsize=(25,6))\n",
    "\n",
    "fig = sns.countplot(x = 'puesto', data = df, hue= 'ppal_herramienta_data')\n",
    "\n",
    "plt.xticks(rotation = 45)\n",
    "plt.show(); "
   ]
  },
  {
   "cell_type": "markdown",
   "metadata": {},
   "source": [
    "----"
   ]
  },
  {
   "cell_type": "markdown",
   "metadata": {},
   "source": [
    "#### Comenzamos a analizar la columna lenguaje_prog:"
   ]
  },
  {
   "cell_type": "code",
   "execution_count": null,
   "metadata": {},
   "outputs": [],
   "source": [
    "df.lenguaje_prog.value_counts()"
   ]
  },
  {
   "cell_type": "code",
   "execution_count": null,
   "metadata": {},
   "outputs": [],
   "source": [
    "print(df[\"lenguaje_prog\"].isnull().sum())\n"
   ]
  },
  {
   "cell_type": "code",
   "execution_count": null,
   "metadata": {},
   "outputs": [],
   "source": [
    "df_lenguajeprog_sinnulos = df.copy()"
   ]
  },
  {
   "cell_type": "code",
   "execution_count": null,
   "metadata": {},
   "outputs": [],
   "source": [
    "df_lenguajeprog_sinnulos[\"lenguaje_prog\"].replace(np.nan,\"unknown\",inplace=True)"
   ]
  },
  {
   "cell_type": "code",
   "execution_count": null,
   "metadata": {},
   "outputs": [],
   "source": [
    "df_lenguajeprog_sinnulos.isnull().sum()"
   ]
  },
  {
   "cell_type": "code",
   "execution_count": null,
   "metadata": {},
   "outputs": [],
   "source": [
    "df_lenguajeprog_sinnulos['Lenguaje']= df_lenguajeprog_sinnulos[\"lenguaje_prog\"].apply(lambda x: x.split(',')) "
   ]
  },
  {
   "cell_type": "markdown",
   "metadata": {},
   "source": [
    "     Una vez categorizados los nulos ya podemos separar la columna"
   ]
  },
  {
   "cell_type": "code",
   "execution_count": null,
   "metadata": {},
   "outputs": [],
   "source": [
    "df_lenguajeprog_sinnulos.head(2)"
   ]
  },
  {
   "cell_type": "markdown",
   "metadata": {},
   "source": [
    "       Esta funcion nos ha creado una sola columna con una lista de valores.\n",
    "       Decidimos separar cada respuesta en  una columna separada."
   ]
  },
  {
   "cell_type": "code",
   "execution_count": null,
   "metadata": {},
   "outputs": [],
   "source": [
    "df_lenguajeprog_sinnulos[['1','2','3','4','5','6','7','8','9','10','11','12']] = df_lenguajeprog_sinnulos[\"lenguaje_prog\"].str.split(',', expand=True, n=-1)"
   ]
  },
  {
   "cell_type": "code",
   "execution_count": null,
   "metadata": {},
   "outputs": [],
   "source": [
    "pd.options.display.max_columns=None\n",
    "df_lenguajeprog_sinnulos.sample(5)"
   ]
  },
  {
   "cell_type": "code",
   "execution_count": null,
   "metadata": {},
   "outputs": [],
   "source": [
    "df_lenguajeprog_sinnulos.isnull().sum()"
   ]
  },
  {
   "cell_type": "code",
   "execution_count": null,
   "metadata": {},
   "outputs": [],
   "source": [
    "df_lenguajeprog_sinnulos[\"1\"][0:3]"
   ]
  },
  {
   "cell_type": "code",
   "execution_count": null,
   "metadata": {},
   "outputs": [],
   "source": [
    "df_lenguajeprog_sinnulos[\"1\"].value_counts()"
   ]
  },
  {
   "cell_type": "code",
   "execution_count": null,
   "metadata": {},
   "outputs": [],
   "source": [
    "df_lenguajeprog_sinnulos[\"2\"].value_counts()"
   ]
  },
  {
   "cell_type": "code",
   "execution_count": null,
   "metadata": {},
   "outputs": [],
   "source": [
    "df_lenguajeprog_sinnulos[\"3\"].value_counts()"
   ]
  },
  {
   "cell_type": "code",
   "execution_count": null,
   "metadata": {},
   "outputs": [],
   "source": [
    "df_lenguajeprog_sinnulos[\"4\"].value_counts()"
   ]
  },
  {
   "cell_type": "code",
   "execution_count": null,
   "metadata": {},
   "outputs": [],
   "source": [
    "df_lenguajeprog_sinnulos[\"5\"].value_counts()"
   ]
  },
  {
   "cell_type": "code",
   "execution_count": null,
   "metadata": {},
   "outputs": [],
   "source": [
    "df_lenguajeprog_sinnulos.columns"
   ]
  },
  {
   "cell_type": "markdown",
   "metadata": {},
   "source": [
    "----"
   ]
  },
  {
   "cell_type": "code",
   "execution_count": null,
   "metadata": {},
   "outputs": [],
   "source": [
    "df_explode =df_lenguajeprog_sinnulos.explode('Lenguaje')"
   ]
  },
  {
   "cell_type": "code",
   "execution_count": null,
   "metadata": {},
   "outputs": [],
   "source": [
    "df_group_leng =pd.DataFrame(df_explode.groupby('Lenguaje')['Lenguaje'].count())\n",
    "df_group_leng"
   ]
  },
  {
   "cell_type": "code",
   "execution_count": null,
   "metadata": {},
   "outputs": [],
   "source": [
    "df_group_leng.rename(columns={'Lenguaje':'conteo_eleccion'}, inplace= True)"
   ]
  },
  {
   "cell_type": "code",
   "execution_count": null,
   "metadata": {},
   "outputs": [],
   "source": [
    "df_group_leng.reset_index(inplace=True)"
   ]
  },
  {
   "cell_type": "code",
   "execution_count": null,
   "metadata": {},
   "outputs": [],
   "source": [
    "df_group_leng"
   ]
  },
  {
   "cell_type": "markdown",
   "metadata": {},
   "source": [
    "#### Pie por tipo de lenguaje de programacion"
   ]
  },
  {
   "cell_type": "code",
   "execution_count": null,
   "metadata": {},
   "outputs": [],
   "source": [
    "# Hacemos la grafica pero para el recuento total de registros respecto del explode.\n",
    "plt.figure()\n",
    "\n",
    "colors = sns.color_palette('pastel')[0:13]\n",
    "\n",
    "plt.pie(df_group_leng['conteo_eleccion'],colors= colors, labels=df_group_leng[\"Lenguaje\"], autopct= '%.0f%%', radius= 3)\n",
    "plt.title('Eleccion de lenguaje de programacion')\n",
    "\n",
    "plt.show();"
   ]
  },
  {
   "cell_type": "markdown",
   "metadata": {},
   "source": [
    "---"
   ]
  },
  {
   "cell_type": "markdown",
   "metadata": {},
   "source": [
    "        Realizamos analisis respecto a los registros del DataFrame original sin tener en cuenta el explode.\n"
   ]
  },
  {
   "cell_type": "code",
   "execution_count": null,
   "metadata": {},
   "outputs": [],
   "source": [
    "total=df_lenguajeprog_sinnulos.shape[0]\n",
    "total"
   ]
  },
  {
   "cell_type": "code",
   "execution_count": null,
   "metadata": {},
   "outputs": [],
   "source": [
    "def porcentajes (x):\n",
    "    return round((x/total)*100, 2)"
   ]
  },
  {
   "cell_type": "code",
   "execution_count": null,
   "metadata": {},
   "outputs": [],
   "source": [
    "df_group_leng['porcentaje']= df_group_leng['conteo_eleccion'].apply(porcentajes)\n",
    "df_group_leng"
   ]
  },
  {
   "cell_type": "code",
   "execution_count": null,
   "metadata": {},
   "outputs": [],
   "source": [
    "df_group_leng.dtypes"
   ]
  },
  {
   "cell_type": "markdown",
   "metadata": {},
   "source": [
    "#### Barplot con los porcentajes segun tipo de lenguaje de programacion"
   ]
  },
  {
   "cell_type": "code",
   "execution_count": null,
   "metadata": {},
   "outputs": [],
   "source": [
    "plt.figure( figsize=(25,6))\n",
    "\n",
    "sns.set_color_codes(\"pastel\")\n",
    "sns.set(font = \"serif\")\n",
    "\n",
    "ordenado =df_group_leng.sort_values(\"porcentaje\", ascending=False)\n",
    "fig = sns.barplot(x = 'porcentaje', y= 'Lenguaje', data = ordenado, edgecolor = 'black')\n",
    "\n",
    "plt.title('Porcentaje de uso de lenguaje de programacion')\n",
    "plt.xticks(rotation = 45)\n",
    "\n",
    "plt.show(); "
   ]
  },
  {
   "cell_type": "markdown",
   "metadata": {},
   "source": [
    "        Vemos que realizar una comparacion entre variables categoricas con el dataframe que ya tiene agrupado por lenguaje no nos sirve, por lo que vamos a trabajar directamente sobre el df_explode que tiene todos los registros."
   ]
  },
  {
   "cell_type": "code",
   "execution_count": null,
   "metadata": {},
   "outputs": [],
   "source": [
    "df_explode.columns"
   ]
  },
  {
   "cell_type": "code",
   "execution_count": null,
   "metadata": {},
   "outputs": [],
   "source": [
    "df_lenguajes=df_explode[['gender','puesto','formacion','experiencia_prog', 'Lenguaje']]\n",
    "df_lenguajes"
   ]
  },
  {
   "cell_type": "markdown",
   "metadata": {},
   "source": [
    "#### Countplot segun puesto y lenguajes de programacion"
   ]
  },
  {
   "cell_type": "code",
   "execution_count": null,
   "metadata": {},
   "outputs": [],
   "source": [
    "plt.figure( figsize=(25,6))\n",
    "\n",
    "sns.set_color_codes(\"pastel\")\n",
    "sns.set(font = \"serif\")\n",
    "\n",
    "fig = sns.countplot(x = 'puesto', data = df_lenguajes, hue= 'Lenguaje',edgecolor = 'black')\n",
    "\n",
    "plt.title('Porcentaje de uso de lenguaje de programacion')\n",
    "plt.xticks(rotation = 45)\n",
    "plt.show(); "
   ]
  },
  {
   "cell_type": "code",
   "execution_count": null,
   "metadata": {},
   "outputs": [],
   "source": [
    "lista_puesto= ['Program/Project Manager',\n",
    " 'Software Engineer',\n",
    " 'Research Scientist',\n",
    " 'Data Scientist',\n",
    " 'Data Analyst',\n",
    " 'Machine Learning Engineer',\n",
    " 'Business Analyst',\n",
    " 'Data Engineer',\n",
    " 'Product Manager',\n",
    " 'Statistician',\n",
    " 'Developer Relations/Advocacy',\n",
    " 'DBA/Database Engineer']"
   ]
  },
  {
   "cell_type": "code",
   "execution_count": null,
   "metadata": {},
   "outputs": [],
   "source": [
    "df_puesto_filtrado = df_explode[df_explode['puesto'].isin(lista_puesto)]\n",
    "df_puesto_filtrado.head(2)"
   ]
  },
  {
   "cell_type": "code",
   "execution_count": null,
   "metadata": {},
   "outputs": [],
   "source": [
    "df_puesto_filtrado['puesto'].unique()"
   ]
  },
  {
   "cell_type": "code",
   "execution_count": null,
   "metadata": {},
   "outputs": [],
   "source": [
    "df['puesto'].value_counts()"
   ]
  },
  {
   "cell_type": "markdown",
   "metadata": {},
   "source": [
    "----\n"
   ]
  },
  {
   "cell_type": "markdown",
   "metadata": {},
   "source": [
    "#### Comenzamos a trabajar con la columna de salario "
   ]
  },
  {
   "cell_type": "code",
   "execution_count": null,
   "metadata": {},
   "outputs": [],
   "source": [
    "df['salario'].unique()"
   ]
  },
  {
   "cell_type": "code",
   "execution_count": null,
   "metadata": {},
   "outputs": [],
   "source": [
    "df['salario']=df[\"salario\"].str.replace(',','').str.replace('$','').str.replace('>','-') \n",
    "#Quitamos todos los simbolos que estaban por demas en el string."
   ]
  },
  {
   "cell_type": "code",
   "execution_count": null,
   "metadata": {},
   "outputs": [],
   "source": [
    "df['salario_max']=df[\"salario\"].str.split('-', n=1, expand=True).get(1) \n",
    "# Separamos el rango del salario para quedarnos con el mayor y poder convertir la columna en numerica"
   ]
  },
  {
   "cell_type": "code",
   "execution_count": null,
   "metadata": {},
   "outputs": [],
   "source": [
    "df['salario_max'].unique()"
   ]
  },
  {
   "cell_type": "code",
   "execution_count": null,
   "metadata": {},
   "outputs": [],
   "source": [
    "df[df[\"salario\"] == \"1000000\"].count()"
   ]
  },
  {
   "cell_type": "code",
   "execution_count": null,
   "metadata": {},
   "outputs": [],
   "source": [
    "print(df[\"salario_max\"].isnull().sum())\n",
    "print(df[\"salario\"].isnull().sum())"
   ]
  },
  {
   "cell_type": "code",
   "execution_count": null,
   "metadata": {},
   "outputs": [],
   "source": [
    "df.dtypes"
   ]
  },
  {
   "cell_type": "code",
   "execution_count": null,
   "metadata": {},
   "outputs": [],
   "source": [
    "df['salario_max']=df['salario_max'].astype(\"Int64\", errors= 'ignore')\n",
    "df['salario_max'].info"
   ]
  },
  {
   "cell_type": "code",
   "execution_count": null,
   "metadata": {},
   "outputs": [],
   "source": [
    "df[\"salario_max\"].isnull().sum()"
   ]
  },
  {
   "cell_type": "code",
   "execution_count": null,
   "metadata": {},
   "outputs": [],
   "source": [
    "df_estudiantes = df[df[\"puesto\"] == \"Student\"]\n",
    "print(df_estudiantes.shape)\n",
    "print('----------')\n",
    "print(df_estudiantes[\"salario_max\"].isnull().sum())\n"
   ]
  },
  {
   "cell_type": "code",
   "execution_count": null,
   "metadata": {},
   "outputs": [],
   "source": [
    "df_other = df[df[\"puesto\"] == \"Other\"]\n",
    "print(df_other.shape)\n",
    "print('----------')\n",
    "print(df_other[\"salario_max\"].isnull().sum())"
   ]
  },
  {
   "cell_type": "code",
   "execution_count": null,
   "metadata": {},
   "outputs": [],
   "source": [
    "df_desem = df[df[\"puesto\"] == \"Currently not employed\"]\n",
    "print(df_desem.shape)\n",
    "print('----------')\n",
    "print(df_desem[\"salario_max\"].isnull().sum())"
   ]
  },
  {
   "cell_type": "markdown",
   "metadata": {},
   "source": [
    "### Students, Others, Currently not employed, crear un df donde no los encluya para poder hacer un KNN"
   ]
  },
  {
   "cell_type": "code",
   "execution_count": null,
   "metadata": {},
   "outputs": [],
   "source": [
    "df[\"rango_salario\"] = pd.cut(df[\"salario_max\"], 12, right = True, labels = [\"Salario muy bajo\",\n",
    "                \"Salario bajo\", \"Salario bajo-medio\", \"Salario bajo-medio\", \"Salario medio\", \"Salario medio-alto\", \n",
    "                \"Salario alto\", \"Salario alto\", \"Salario muy alto\", \"Salario muy alto\", \"Salario altísimo\", \"Salario altísimo\"], \n",
    "                ordered = False)"
   ]
  },
  {
   "cell_type": "code",
   "execution_count": null,
   "metadata": {},
   "outputs": [],
   "source": [
    "df.sample(5)"
   ]
  },
  {
   "cell_type": "code",
   "execution_count": null,
   "metadata": {},
   "outputs": [],
   "source": [
    "df_salarios_pais= pd.DataFrame(df.groupby(['pais','gender', 'puesto'])['salario_max'].mean().round(2))"
   ]
  },
  {
   "cell_type": "markdown",
   "metadata": {},
   "source": [
    "#### Importamos libreria AWOC para trabajar con los paises "
   ]
  },
  {
   "cell_type": "markdown",
   "metadata": {},
   "source": [
    "-----\n"
   ]
  },
  {
   "cell_type": "markdown",
   "metadata": {},
   "source": [
    "### COMO SEPARAR POR EUROPA EN UNA COLUMNA "
   ]
  },
  {
   "cell_type": "code",
   "execution_count": null,
   "metadata": {},
   "outputs": [],
   "source": [
    "pip install a-world-of-countries #Instalacion de libreria"
   ]
  },
  {
   "cell_type": "code",
   "execution_count": 4,
   "metadata": {},
   "outputs": [],
   "source": [
    "# Import the AWOC package.\n",
    "import awoc\n",
    "\n",
    "# Initialize the AWOC class.\n",
    "my_world = awoc.AWOC()"
   ]
  },
  {
   "cell_type": "code",
   "execution_count": 5,
   "metadata": {},
   "outputs": [],
   "source": [
    "europa= my_world.get_countries_list_of('Europe')\n",
    "europa\n"
   ]
  },
  {
   "cell_type": "code",
   "execution_count": 6,
   "metadata": {},
   "outputs": [
    {
     "data": {
      "text/plain": [
       "['Albania',\n",
       " 'Andorra',\n",
       " 'Austria',\n",
       " 'Belarus',\n",
       " 'Belgium',\n",
       " 'Bosnia and Herzegovina',\n",
       " 'Bulgaria',\n",
       " 'Croatia',\n",
       " 'Cyprus',\n",
       " 'Czech Republic',\n",
       " 'Denmark',\n",
       " 'Estonia',\n",
       " 'Faroe Islands',\n",
       " 'Finland',\n",
       " 'France',\n",
       " 'Germany',\n",
       " 'Gibraltar',\n",
       " 'Greece',\n",
       " 'Guernsey',\n",
       " 'Hungary',\n",
       " 'Iceland',\n",
       " 'Ireland',\n",
       " 'Isle of Man',\n",
       " 'Italy',\n",
       " 'Jersey',\n",
       " 'Kosovo',\n",
       " 'Latvia',\n",
       " 'Liechtenstein',\n",
       " 'Lithuania',\n",
       " 'Luxembourg',\n",
       " 'Macedonia',\n",
       " 'Malta',\n",
       " 'Moldova',\n",
       " 'Monaco',\n",
       " 'Montenegro',\n",
       " 'Netherlands',\n",
       " 'Norway',\n",
       " 'Poland',\n",
       " 'Portugal',\n",
       " 'Romania',\n",
       " 'Russia',\n",
       " 'San Marino',\n",
       " 'Serbia',\n",
       " 'Slovakia',\n",
       " 'Slovenia',\n",
       " 'Spain',\n",
       " 'Svalbard and Jan Mayen',\n",
       " 'Sweden',\n",
       " 'Switzerland',\n",
       " 'Ukraine',\n",
       " 'United Kingdom',\n",
       " 'Vatican']"
      ]
     },
     "execution_count": 6,
     "metadata": {},
     "output_type": "execute_result"
    }
   ],
   "source": [
    "df['pais']\n",
    "europa"
   ]
  },
  {
   "cell_type": "code",
   "execution_count": 19,
   "metadata": {},
   "outputs": [],
   "source": [
    "df['europa']= 'NO'\n",
    "for x in df['pais'].unique():\n",
    "    if x in europa: \n",
    "        df.loc[df['pais'] == x, ['europa']] = 'SI'\n",
    "            #print ('YES')\n"
   ]
  },
  {
   "cell_type": "code",
   "execution_count": 21,
   "metadata": {},
   "outputs": [
    {
     "data": {
      "text/html": [
       "<div>\n",
       "<style scoped>\n",
       "    .dataframe tbody tr th:only-of-type {\n",
       "        vertical-align: middle;\n",
       "    }\n",
       "\n",
       "    .dataframe tbody tr th {\n",
       "        vertical-align: top;\n",
       "    }\n",
       "\n",
       "    .dataframe thead th {\n",
       "        text-align: right;\n",
       "    }\n",
       "</style>\n",
       "<table border=\"1\" class=\"dataframe\">\n",
       "  <thead>\n",
       "    <tr style=\"text-align: right;\">\n",
       "      <th></th>\n",
       "      <th>level_0</th>\n",
       "      <th>index</th>\n",
       "      <th>time</th>\n",
       "      <th>age</th>\n",
       "      <th>gender</th>\n",
       "      <th>pais</th>\n",
       "      <th>formacion</th>\n",
       "      <th>puesto</th>\n",
       "      <th>experiencia_prog</th>\n",
       "      <th>lenguaje_top</th>\n",
       "      <th>...</th>\n",
       "      <th>salario</th>\n",
       "      <th>inversion_ml</th>\n",
       "      <th>ppal_herramienta_data</th>\n",
       "      <th>lenguaje_prog</th>\n",
       "      <th>plataforma</th>\n",
       "      <th>plat_cursos</th>\n",
       "      <th>nubes</th>\n",
       "      <th>plataforma_top</th>\n",
       "      <th>salario_max</th>\n",
       "      <th>europa</th>\n",
       "    </tr>\n",
       "  </thead>\n",
       "  <tbody>\n",
       "    <tr>\n",
       "      <th>18046</th>\n",
       "      <td>18046</td>\n",
       "      <td>18046</td>\n",
       "      <td>1881</td>\n",
       "      <td>30-34</td>\n",
       "      <td>Woman</td>\n",
       "      <td>Egypt</td>\n",
       "      <td>Bachelor’s degree</td>\n",
       "      <td>Business Analyst</td>\n",
       "      <td>&lt; 1 years</td>\n",
       "      <td>Python</td>\n",
       "      <td>...</td>\n",
       "      <td>NaN</td>\n",
       "      <td>NaN</td>\n",
       "      <td>NaN</td>\n",
       "      <td>Python, Javascript</td>\n",
       "      <td>Visual Studio ,Visual Studio Code (VSCode)</td>\n",
       "      <td>NaN</td>\n",
       "      <td>NaN</td>\n",
       "      <td>NaN</td>\n",
       "      <td>NaN</td>\n",
       "      <td>NO</td>\n",
       "    </tr>\n",
       "    <tr>\n",
       "      <th>14843</th>\n",
       "      <td>14843</td>\n",
       "      <td>14843</td>\n",
       "      <td>149</td>\n",
       "      <td>22-24</td>\n",
       "      <td>Man</td>\n",
       "      <td>Austria</td>\n",
       "      <td>Master’s degree</td>\n",
       "      <td>Student</td>\n",
       "      <td>&lt; 1 years</td>\n",
       "      <td>C++</td>\n",
       "      <td>...</td>\n",
       "      <td>NaN</td>\n",
       "      <td>NaN</td>\n",
       "      <td>NaN</td>\n",
       "      <td>C, C++</td>\n",
       "      <td>Visual Studio Code (VSCode) ,PyCharm ,MATLAB</td>\n",
       "      <td>NaN</td>\n",
       "      <td>NaN</td>\n",
       "      <td>NaN</td>\n",
       "      <td>NaN</td>\n",
       "      <td>SI</td>\n",
       "    </tr>\n",
       "    <tr>\n",
       "      <th>18500</th>\n",
       "      <td>18500</td>\n",
       "      <td>18500</td>\n",
       "      <td>549</td>\n",
       "      <td>18-21</td>\n",
       "      <td>Woman</td>\n",
       "      <td>India</td>\n",
       "      <td>Bachelor’s degree</td>\n",
       "      <td>Student</td>\n",
       "      <td>&lt; 1 years</td>\n",
       "      <td>Python</td>\n",
       "      <td>...</td>\n",
       "      <td>NaN</td>\n",
       "      <td>NaN</td>\n",
       "      <td>Business intelligence software (Salesforce, Ta...</td>\n",
       "      <td>Python, SQL, C, C++</td>\n",
       "      <td>Spyder,Jupyter Notebook</td>\n",
       "      <td>NaN</td>\n",
       "      <td>NaN</td>\n",
       "      <td>NaN</td>\n",
       "      <td>NaN</td>\n",
       "      <td>NO</td>\n",
       "    </tr>\n",
       "    <tr>\n",
       "      <th>2913</th>\n",
       "      <td>2913</td>\n",
       "      <td>2913</td>\n",
       "      <td>762</td>\n",
       "      <td>25-29</td>\n",
       "      <td>Woman</td>\n",
       "      <td>United States of America</td>\n",
       "      <td>Master’s degree</td>\n",
       "      <td>Data Analyst</td>\n",
       "      <td>&lt; 1 years</td>\n",
       "      <td>Python</td>\n",
       "      <td>...</td>\n",
       "      <td>15000-19999</td>\n",
       "      <td>$1000-$9,999</td>\n",
       "      <td>Basic statistical software (Microsoft Excel, G...</td>\n",
       "      <td>Python, R, MATLAB</td>\n",
       "      <td>Jupyter (JupyterLab, Jupyter Notebooks, etc) ,...</td>\n",
       "      <td>Kaggle Learn Courses,DataCamp,Udemy,LinkedIn L...</td>\n",
       "      <td>GitHub , Kaggle , Colab</td>\n",
       "      <td>They all had a similarly enjoyable developer e...</td>\n",
       "      <td>19999</td>\n",
       "      <td>NO</td>\n",
       "    </tr>\n",
       "    <tr>\n",
       "      <th>21688</th>\n",
       "      <td>21688</td>\n",
       "      <td>21688</td>\n",
       "      <td>520</td>\n",
       "      <td>22-24</td>\n",
       "      <td>Woman</td>\n",
       "      <td>United States of America</td>\n",
       "      <td>Bachelor’s degree</td>\n",
       "      <td>Data Analyst</td>\n",
       "      <td>1-3 years</td>\n",
       "      <td>MATLAB</td>\n",
       "      <td>...</td>\n",
       "      <td>70000-79999</td>\n",
       "      <td>$0 ($USD)</td>\n",
       "      <td>Basic statistical software (Microsoft Excel, G...</td>\n",
       "      <td>Python, SQL, MATLAB, Other</td>\n",
       "      <td>PyCharm ,MATLAB ,Jupyter Notebook</td>\n",
       "      <td>DataCamp</td>\n",
       "      <td>NaN</td>\n",
       "      <td>NaN</td>\n",
       "      <td>79999</td>\n",
       "      <td>NO</td>\n",
       "    </tr>\n",
       "  </tbody>\n",
       "</table>\n",
       "<p>5 rows × 23 columns</p>\n",
       "</div>"
      ],
      "text/plain": [
       "       level_0  index  time    age gender                      pais  \\\n",
       "18046    18046  18046  1881  30-34  Woman                     Egypt   \n",
       "14843    14843  14843   149  22-24    Man                   Austria   \n",
       "18500    18500  18500   549  18-21  Woman                     India   \n",
       "2913      2913   2913   762  25-29  Woman  United States of America   \n",
       "21688    21688  21688   520  22-24  Woman  United States of America   \n",
       "\n",
       "               formacion            puesto experiencia_prog lenguaje_top  ...  \\\n",
       "18046  Bachelor’s degree  Business Analyst        < 1 years       Python  ...   \n",
       "14843    Master’s degree           Student        < 1 years          C++  ...   \n",
       "18500  Bachelor’s degree           Student        < 1 years       Python  ...   \n",
       "2913     Master’s degree      Data Analyst        < 1 years       Python  ...   \n",
       "21688  Bachelor’s degree      Data Analyst        1-3 years       MATLAB  ...   \n",
       "\n",
       "           salario  inversion_ml  \\\n",
       "18046          NaN           NaN   \n",
       "14843          NaN           NaN   \n",
       "18500          NaN           NaN   \n",
       "2913   15000-19999  $1000-$9,999   \n",
       "21688  70000-79999     $0 ($USD)   \n",
       "\n",
       "                                   ppal_herramienta_data  \\\n",
       "18046                                                NaN   \n",
       "14843                                                NaN   \n",
       "18500  Business intelligence software (Salesforce, Ta...   \n",
       "2913   Basic statistical software (Microsoft Excel, G...   \n",
       "21688  Basic statistical software (Microsoft Excel, G...   \n",
       "\n",
       "                    lenguaje_prog  \\\n",
       "18046          Python, Javascript   \n",
       "14843                      C, C++   \n",
       "18500         Python, SQL, C, C++   \n",
       "2913            Python, R, MATLAB   \n",
       "21688  Python, SQL, MATLAB, Other   \n",
       "\n",
       "                                              plataforma  \\\n",
       "18046        Visual Studio ,Visual Studio Code (VSCode)    \n",
       "14843      Visual Studio Code (VSCode) ,PyCharm ,MATLAB    \n",
       "18500                            Spyder,Jupyter Notebook   \n",
       "2913   Jupyter (JupyterLab, Jupyter Notebooks, etc) ,...   \n",
       "21688                  PyCharm ,MATLAB ,Jupyter Notebook   \n",
       "\n",
       "                                             plat_cursos  \\\n",
       "18046                                                NaN   \n",
       "14843                                                NaN   \n",
       "18500                                                NaN   \n",
       "2913   Kaggle Learn Courses,DataCamp,Udemy,LinkedIn L...   \n",
       "21688                                           DataCamp   \n",
       "\n",
       "                           nubes  \\\n",
       "18046                        NaN   \n",
       "14843                        NaN   \n",
       "18500                        NaN   \n",
       "2913    GitHub , Kaggle , Colab    \n",
       "21688                        NaN   \n",
       "\n",
       "                                          plataforma_top salario_max europa  \n",
       "18046                                                NaN         NaN     NO  \n",
       "14843                                                NaN         NaN     SI  \n",
       "18500                                                NaN         NaN     NO  \n",
       "2913   They all had a similarly enjoyable developer e...       19999     NO  \n",
       "21688                                                NaN       79999     NO  \n",
       "\n",
       "[5 rows x 23 columns]"
      ]
     },
     "execution_count": 21,
     "metadata": {},
     "output_type": "execute_result"
    }
   ],
   "source": [
    "df.sample(5)"
   ]
  },
  {
   "cell_type": "code",
   "execution_count": 17,
   "metadata": {},
   "outputs": [
    {
     "data": {
      "text/html": [
       "<div>\n",
       "<style scoped>\n",
       "    .dataframe tbody tr th:only-of-type {\n",
       "        vertical-align: middle;\n",
       "    }\n",
       "\n",
       "    .dataframe tbody tr th {\n",
       "        vertical-align: top;\n",
       "    }\n",
       "\n",
       "    .dataframe thead th {\n",
       "        text-align: right;\n",
       "    }\n",
       "</style>\n",
       "<table border=\"1\" class=\"dataframe\">\n",
       "  <thead>\n",
       "    <tr style=\"text-align: right;\">\n",
       "      <th></th>\n",
       "      <th>level_0</th>\n",
       "      <th>index</th>\n",
       "      <th>time</th>\n",
       "      <th>age</th>\n",
       "      <th>gender</th>\n",
       "      <th>pais</th>\n",
       "      <th>formacion</th>\n",
       "      <th>puesto</th>\n",
       "      <th>experiencia_prog</th>\n",
       "      <th>lenguaje_top</th>\n",
       "      <th>...</th>\n",
       "      <th>salario</th>\n",
       "      <th>inversion_ml</th>\n",
       "      <th>ppal_herramienta_data</th>\n",
       "      <th>lenguaje_prog</th>\n",
       "      <th>plataforma</th>\n",
       "      <th>plat_cursos</th>\n",
       "      <th>nubes</th>\n",
       "      <th>plataforma_top</th>\n",
       "      <th>salario_max</th>\n",
       "      <th>europa</th>\n",
       "    </tr>\n",
       "  </thead>\n",
       "  <tbody>\n",
       "    <tr>\n",
       "      <th>8</th>\n",
       "      <td>8</td>\n",
       "      <td>8</td>\n",
       "      <td>1744</td>\n",
       "      <td>22-24</td>\n",
       "      <td>Man</td>\n",
       "      <td>Russia</td>\n",
       "      <td>Bachelor’s degree</td>\n",
       "      <td>Currently not employed</td>\n",
       "      <td>3-5 years</td>\n",
       "      <td>Python</td>\n",
       "      <td>...</td>\n",
       "      <td>NaN</td>\n",
       "      <td>NaN</td>\n",
       "      <td>Basic statistical software (Microsoft Excel, G...</td>\n",
       "      <td>Python, SQL</td>\n",
       "      <td>Other</td>\n",
       "      <td>Kaggle Learn Courses</td>\n",
       "      <td>NaN</td>\n",
       "      <td>NaN</td>\n",
       "      <td>NaN</td>\n",
       "      <td>SI</td>\n",
       "    </tr>\n",
       "    <tr>\n",
       "      <th>15</th>\n",
       "      <td>15</td>\n",
       "      <td>15</td>\n",
       "      <td>563</td>\n",
       "      <td>35-39</td>\n",
       "      <td>Man</td>\n",
       "      <td>Greece</td>\n",
       "      <td>Doctoral degree</td>\n",
       "      <td>Research Scientist</td>\n",
       "      <td>10-20 years</td>\n",
       "      <td>Python</td>\n",
       "      <td>...</td>\n",
       "      <td>10000-14999</td>\n",
       "      <td>$0 ($USD)</td>\n",
       "      <td>Local development environments (RStudio, Jupyt...</td>\n",
       "      <td>Python, C, C++, MATLAB</td>\n",
       "      <td>Spyder</td>\n",
       "      <td>Udacity,University Courses (resulting in a uni...</td>\n",
       "      <td>NaN</td>\n",
       "      <td>NaN</td>\n",
       "      <td>14999</td>\n",
       "      <td>SI</td>\n",
       "    </tr>\n",
       "    <tr>\n",
       "      <th>16</th>\n",
       "      <td>16</td>\n",
       "      <td>16</td>\n",
       "      <td>1315</td>\n",
       "      <td>50-54</td>\n",
       "      <td>Man</td>\n",
       "      <td>Belgium</td>\n",
       "      <td>Bachelor’s degree</td>\n",
       "      <td>Data Analyst</td>\n",
       "      <td>20+ years</td>\n",
       "      <td>Python</td>\n",
       "      <td>...</td>\n",
       "      <td>2000-2999</td>\n",
       "      <td>$0 ($USD)</td>\n",
       "      <td>Local development environments (RStudio, Jupyt...</td>\n",
       "      <td>Python, SQL</td>\n",
       "      <td>Jupyter (JupyterLab, Jupyter Notebooks, etc) ,...</td>\n",
       "      <td>Kaggle Learn Courses,Cloud-certification progr...</td>\n",
       "      <td>NaN</td>\n",
       "      <td>NaN</td>\n",
       "      <td>2999</td>\n",
       "      <td>SI</td>\n",
       "    </tr>\n",
       "  </tbody>\n",
       "</table>\n",
       "<p>3 rows × 23 columns</p>\n",
       "</div>"
      ],
      "text/plain": [
       "    level_0  index  time    age gender     pais          formacion  \\\n",
       "8         8      8  1744  22-24    Man   Russia  Bachelor’s degree   \n",
       "15       15     15   563  35-39    Man   Greece    Doctoral degree   \n",
       "16       16     16  1315  50-54    Man  Belgium  Bachelor’s degree   \n",
       "\n",
       "                    puesto experiencia_prog lenguaje_top  ...      salario  \\\n",
       "8   Currently not employed        3-5 years       Python  ...          NaN   \n",
       "15      Research Scientist      10-20 years       Python  ...  10000-14999   \n",
       "16            Data Analyst        20+ years       Python  ...    2000-2999   \n",
       "\n",
       "   inversion_ml                              ppal_herramienta_data  \\\n",
       "8           NaN  Basic statistical software (Microsoft Excel, G...   \n",
       "15    $0 ($USD)  Local development environments (RStudio, Jupyt...   \n",
       "16    $0 ($USD)  Local development environments (RStudio, Jupyt...   \n",
       "\n",
       "             lenguaje_prog                                         plataforma  \\\n",
       "8              Python, SQL                                              Other   \n",
       "15  Python, C, C++, MATLAB                                             Spyder   \n",
       "16             Python, SQL  Jupyter (JupyterLab, Jupyter Notebooks, etc) ,...   \n",
       "\n",
       "                                          plat_cursos nubes plataforma_top  \\\n",
       "8                                Kaggle Learn Courses   NaN            NaN   \n",
       "15  Udacity,University Courses (resulting in a uni...   NaN            NaN   \n",
       "16  Kaggle Learn Courses,Cloud-certification progr...   NaN            NaN   \n",
       "\n",
       "   salario_max europa  \n",
       "8          NaN     SI  \n",
       "15       14999     SI  \n",
       "16        2999     SI  \n",
       "\n",
       "[3 rows x 23 columns]"
      ]
     },
     "execution_count": 17,
     "metadata": {},
     "output_type": "execute_result"
    }
   ],
   "source": [
    "df_europa = df[df['europa']=='SI']\n",
    "df_europa.head(3)"
   ]
  },
  {
   "cell_type": "code",
   "execution_count": 24,
   "metadata": {},
   "outputs": [
    {
     "data": {
      "text/plain": [
       "array(['India', 'Indonesia', 'Pakistan', 'Mexico', 'Russia', 'Turkey',\n",
       "       'Australia', 'Nigeria', 'Greece', 'Belgium', 'Japan', 'Egypt',\n",
       "       'Singapore', 'Brazil', 'Poland', 'China',\n",
       "       'Iran, Islamic Republic of...', 'United States of America',\n",
       "       'Italy', 'Viet Nam', 'Israel', 'Peru', 'South Africa', 'Other',\n",
       "       'Spain', 'Bangladesh',\n",
       "       'United Kingdom of Great Britain and Northern Ireland', 'France',\n",
       "       'Switzerland', 'Algeria', 'Tunisia', 'Argentina', 'Sweden',\n",
       "       'Colombia', 'I do not wish to disclose my location', 'Canada',\n",
       "       'Chile', 'Netherlands', 'Ukraine', 'Saudi Arabia', 'Romania',\n",
       "       'Morocco', 'Austria', 'Taiwan', 'Kenya', 'Belarus', 'Ireland',\n",
       "       'Portugal', 'Hong Kong (S.A.R.)', 'Denmark', 'Germany',\n",
       "       'South Korea', 'Philippines', 'Sri Lanka', 'United Arab Emirates',\n",
       "       'Uganda', 'Ghana', 'Malaysia', 'Thailand', 'Nepal', 'Kazakhstan',\n",
       "       'Ethiopia', 'Iraq', 'Ecuador', 'Norway', 'Czech Republic'],\n",
       "      dtype=object)"
      ]
     },
     "execution_count": 24,
     "metadata": {},
     "output_type": "execute_result"
    }
   ],
   "source": [
    "df['pais'].unique()"
   ]
  },
  {
   "cell_type": "code",
   "execution_count": 23,
   "metadata": {},
   "outputs": [
    {
     "data": {
      "text/plain": [
       "array(['Russia', 'Greece', 'Belgium', 'Poland', 'Italy', 'Spain',\n",
       "       'France', 'Switzerland', 'Sweden', 'Netherlands', 'Ukraine',\n",
       "       'Romania', 'Austria', 'Belarus', 'Ireland', 'Portugal', 'Denmark',\n",
       "       'Germany', 'Norway', 'Czech Republic'], dtype=object)"
      ]
     },
     "execution_count": 23,
     "metadata": {},
     "output_type": "execute_result"
    }
   ],
   "source": [
    "df_europa['pais'].unique()"
   ]
  },
  {
   "cell_type": "code",
   "execution_count": 22,
   "metadata": {},
   "outputs": [
    {
     "data": {
      "text/plain": [
       "array(['NO', 'SI'], dtype=object)"
      ]
     },
     "execution_count": 22,
     "metadata": {},
     "output_type": "execute_result"
    }
   ],
   "source": [
    "df['europa'].unique()"
   ]
  },
  {
   "cell_type": "markdown",
   "metadata": {},
   "source": [
    "----"
   ]
  },
  {
   "cell_type": "markdown",
   "metadata": {},
   "source": [
    "#### Próximos objetivos:\n",
    "- Filtrar por todos los países de Europa, para realizar el analisis, según genero, salario, puesto, formación.\n",
    "- Terminar de acordar los dataframes a las preguntas\n",
    "- Elaborar las conclusiones de cada pregunta\n",
    "- Organizar los archivos por preguntas (por ejemplo) o por tipo (EDA o limpieza) y hacer el README\n",
    "- Presentación, plasmar tipo de idea ¨empresa de venta programas¨"
   ]
  },
  {
   "cell_type": "markdown",
   "metadata": {},
   "source": [
    "### - ¿Cual es el ratio de hombres y mujeres segun el perfil? (posibilidad nivel mundial)\n",
    "- Columnas que toca:\n",
    "        - gender= no tiene nulos asique esta lista, verificar unique para descartar que no tenga cosas raras.\n",
    "        - puesto = tampoco tiene nulos, ver uniques y ver si recategorizamos por menos cantidades.\n",
    "        - formacion = tampoco tiene nulos, ver uniques y ver si recategorizamos  ver que hacemos con los estudiantes y otros.\n",
    "### - ¿Cual es perfil educativo para cada puesto? (Europa)\n",
    "- Columnas que toca:\n",
    "    - puesto = no tiene nulos ver si categorizamos mejor o si nos enfocamos en uno en particular.\n",
    "    - formacion= no tiene nulos, ver que hacer con studens o los que no respondieron.\n",
    "Ver si damos vuelta de rosca y lo profundizamos mas para mujeres y un pais o continente especifico!\n",
    "### - Herramientas mas utilizadas segun los perfiles. (leguaje_prog y plataforma)(Europa)\n",
    "- Columnas que toca:\n",
    "    - ppal_herramienta_data: tiene muchos muchos nulos, ver si podemos aplicar alguno de los metodos de imputer para solucionarlo o en el caso que lo sesgemos solo para un area especifica volver a verificar nulos ahi.\n",
    "    - puesto = no tiene nulos, ver lo de la recategorizacion\n",
    "Me parece interesante poder mezclar esta pregunta con otras dos columnas mas como son lenguaje_prog y plataforma para poder tener el combo de todo lo que se usa en ese area.\n",
    "### - ¿Cuál es la diferencia de salarios entre hombres y mujeres segun el perfil? \n",
    "- Columnas que toca:\n",
    "    - gender: no tiene nulos\n",
    "    - salarios : poder hacer analisis de numeros con medias y demas segun genero.. verificar que cantidad de datos de hombre y mujer hay en el dataframe para jugar un poco con la poderacion.\n",
    "### - Perfil segun pais que herramientas usan, en coparativa con España.\n",
    "- Columnas que toca:\n",
    "    -pais: no tiene nulos, los vamos a fraccionar y analizar solo algunos?\n",
    "    -herramientas de trabajo tenemos que alinearlo con  loque hagamos con los paises y demas preguntas.\n",
    "Extras:\n",
    "- ¿Cómo se distribuye este porcentaje segun los paises?"
   ]
  }
 ],
 "metadata": {
  "kernelspec": {
   "display_name": "Python 3.10.8 64-bit",
   "language": "python",
   "name": "python3"
  },
  "language_info": {
   "codemirror_mode": {
    "name": "ipython",
    "version": 3
   },
   "file_extension": ".py",
   "mimetype": "text/x-python",
   "name": "python",
   "nbconvert_exporter": "python",
   "pygments_lexer": "ipython3",
   "version": "3.10.8"
  },
  "orig_nbformat": 4,
  "vscode": {
   "interpreter": {
    "hash": "aee8b7b246df8f9039afb4144a1f6fd8d2ca17a180786b69acc140d282b71a49"
   }
  }
 },
 "nbformat": 4,
 "nbformat_minor": 2
}
