{
 "cells": [
  {
   "cell_type": "code",
   "execution_count": 2,
   "metadata": {},
   "outputs": [],
   "source": [
    "import pandas as pd\n",
    "import matplotlib.pyplot as plt\n",
    "import seaborn as sns \n",
    "import numpy as np\n"
   ]
  },
  {
   "cell_type": "code",
   "execution_count": 3,
   "metadata": {},
   "outputs": [],
   "source": [
    "df=pd.read_csv('data/columnas_final.csv')"
   ]
  },
  {
   "cell_type": "markdown",
   "metadata": {},
   "source": [
    "#### Vamos a realizar un EDA sobre los datos de nuestro nuevo DataFrame que contiene solo las columnas seleciconadas para el analisis."
   ]
  },
  {
   "cell_type": "markdown",
   "metadata": {},
   "source": [
    "Redefinimos las preguntas \n",
    "\n",
    "Preguntas nuevas:\n",
    "\n",
    "- ¿Cual es el ratio de hombres y mujeres segun el perfil?\n",
    "- ¿Cual es perfil educativo para cada puesto?\n",
    "- Herramientas mas utilizadas segun los perfiles. \n",
    "- ¿Cuál es la diferencia de salarios entre hombres y mujeres segun el perfil?\n",
    "- Perfil segun pais que herramientas usan, en coparativa con España.\n",
    "\n",
    "\n",
    "Extras:\n",
    "- ¿Cómo se distribuye este porcentaje segun los paises?\n"
   ]
  },
  {
   "cell_type": "markdown",
   "metadata": {},
   "source": [
    "Conteo de las filas que estan ducplicadas "
   ]
  },
  {
   "cell_type": "code",
   "execution_count": 4,
   "metadata": {},
   "outputs": [
    {
     "data": {
      "text/plain": [
       "0"
      ]
     },
     "execution_count": 4,
     "metadata": {},
     "output_type": "execute_result"
    }
   ],
   "source": [
    "df.duplicated().sum()"
   ]
  },
  {
   "cell_type": "markdown",
   "metadata": {},
   "source": [
    "Calculamos el porcentaje de nulos que tenemos en cada una de nuestras columnas"
   ]
  },
  {
   "cell_type": "code",
   "execution_count": 5,
   "metadata": {},
   "outputs": [
    {
     "data": {
      "text/plain": [
       "level_0                   0.000000\n",
       "index                     0.000000\n",
       "time                      0.000000\n",
       "age                       0.000000\n",
       "gender                    0.000000\n",
       "pais                      0.000000\n",
       "formacion                 0.000000\n",
       "puesto                    0.000000\n",
       "experiencia_prog          0.000000\n",
       "lenguaje_top              3.977207\n",
       "exp_ml                    8.543487\n",
       "tamaño_empresa           37.431179\n",
       "uso_ml                   38.582374\n",
       "salario                  40.742309\n",
       "inversion_ml             41.543141\n",
       "ppal_herramienta_data    28.814538\n",
       "lenguaje_prog             3.973357\n",
       "plataforma                4.000308\n",
       "plat_cursos              30.189042\n",
       "nubes                    64.671005\n",
       "plataforma_top           87.960574\n",
       "dtype: float64"
      ]
     },
     "execution_count": 5,
     "metadata": {},
     "output_type": "execute_result"
    }
   ],
   "source": [
    "df.isnull().sum()*100/df.shape[0]"
   ]
  },
  {
   "cell_type": "code",
   "execution_count": 6,
   "metadata": {},
   "outputs": [
    {
     "data": {
      "text/html": [
       "<div>\n",
       "<style scoped>\n",
       "    .dataframe tbody tr th:only-of-type {\n",
       "        vertical-align: middle;\n",
       "    }\n",
       "\n",
       "    .dataframe tbody tr th {\n",
       "        vertical-align: top;\n",
       "    }\n",
       "\n",
       "    .dataframe thead th {\n",
       "        text-align: right;\n",
       "    }\n",
       "</style>\n",
       "<table border=\"1\" class=\"dataframe\">\n",
       "  <thead>\n",
       "    <tr style=\"text-align: right;\">\n",
       "      <th></th>\n",
       "      <th>level_0</th>\n",
       "      <th>index</th>\n",
       "      <th>time</th>\n",
       "      <th>age</th>\n",
       "      <th>gender</th>\n",
       "      <th>pais</th>\n",
       "      <th>formacion</th>\n",
       "      <th>puesto</th>\n",
       "      <th>experiencia_prog</th>\n",
       "      <th>lenguaje_top</th>\n",
       "      <th>...</th>\n",
       "      <th>tamaño_empresa</th>\n",
       "      <th>uso_ml</th>\n",
       "      <th>salario</th>\n",
       "      <th>inversion_ml</th>\n",
       "      <th>ppal_herramienta_data</th>\n",
       "      <th>lenguaje_prog</th>\n",
       "      <th>plataforma</th>\n",
       "      <th>plat_cursos</th>\n",
       "      <th>nubes</th>\n",
       "      <th>plataforma_top</th>\n",
       "    </tr>\n",
       "  </thead>\n",
       "  <tbody>\n",
       "    <tr>\n",
       "      <th>0</th>\n",
       "      <td>0</td>\n",
       "      <td>0</td>\n",
       "      <td>910</td>\n",
       "      <td>50-54</td>\n",
       "      <td>Man</td>\n",
       "      <td>India</td>\n",
       "      <td>Bachelor’s degree</td>\n",
       "      <td>Other</td>\n",
       "      <td>5-10 years</td>\n",
       "      <td>Python</td>\n",
       "      <td>...</td>\n",
       "      <td>50-249 employees</td>\n",
       "      <td>No (we do not use ML methods)</td>\n",
       "      <td>25,000-29,999</td>\n",
       "      <td>$100-$999</td>\n",
       "      <td>Local development environments (RStudio, Jupyt...</td>\n",
       "      <td>Python, R</td>\n",
       "      <td>Vim / Emacs</td>\n",
       "      <td>edX,Kaggle Learn Courses,DataCamp,Udacity,Udemy</td>\n",
       "      <td>GitHub , Kaggle</td>\n",
       "      <td>NaN</td>\n",
       "    </tr>\n",
       "    <tr>\n",
       "      <th>1</th>\n",
       "      <td>1</td>\n",
       "      <td>1</td>\n",
       "      <td>784</td>\n",
       "      <td>50-54</td>\n",
       "      <td>Man</td>\n",
       "      <td>Indonesia</td>\n",
       "      <td>Master’s degree</td>\n",
       "      <td>Program/Project Manager</td>\n",
       "      <td>20+ years</td>\n",
       "      <td>Python</td>\n",
       "      <td>...</td>\n",
       "      <td>1000-9,999 employees</td>\n",
       "      <td>We are exploring ML methods (and may one day p...</td>\n",
       "      <td>60,000-69,999</td>\n",
       "      <td>$0 ($USD)</td>\n",
       "      <td>Advanced statistical software (SPSS, SAS, etc.)</td>\n",
       "      <td>SQL, C, C++, Java</td>\n",
       "      <td>Notepad++,Jupyter Notebook</td>\n",
       "      <td>Kaggle Learn Courses,Cloud-certification progr...</td>\n",
       "      <td>NaN</td>\n",
       "      <td>NaN</td>\n",
       "    </tr>\n",
       "    <tr>\n",
       "      <th>2</th>\n",
       "      <td>2</td>\n",
       "      <td>2</td>\n",
       "      <td>924</td>\n",
       "      <td>22-24</td>\n",
       "      <td>Man</td>\n",
       "      <td>Pakistan</td>\n",
       "      <td>Master’s degree</td>\n",
       "      <td>Software Engineer</td>\n",
       "      <td>1-3 years</td>\n",
       "      <td>Python</td>\n",
       "      <td>...</td>\n",
       "      <td>1000-9,999 employees</td>\n",
       "      <td>I do not know</td>\n",
       "      <td>$0-999</td>\n",
       "      <td>$0 ($USD)</td>\n",
       "      <td>Basic statistical software (Microsoft Excel, G...</td>\n",
       "      <td>Python, C++, Java</td>\n",
       "      <td>PyCharm ,Jupyter Notebook, Other</td>\n",
       "      <td>DataCamp</td>\n",
       "      <td>I do not share my work publicly</td>\n",
       "      <td>NaN</td>\n",
       "    </tr>\n",
       "    <tr>\n",
       "      <th>3</th>\n",
       "      <td>3</td>\n",
       "      <td>3</td>\n",
       "      <td>575</td>\n",
       "      <td>45-49</td>\n",
       "      <td>Man</td>\n",
       "      <td>Mexico</td>\n",
       "      <td>Doctoral degree</td>\n",
       "      <td>Research Scientist</td>\n",
       "      <td>20+ years</td>\n",
       "      <td>Python</td>\n",
       "      <td>...</td>\n",
       "      <td>1000-9,999 employees</td>\n",
       "      <td>I do not know</td>\n",
       "      <td>30,000-39,999</td>\n",
       "      <td>$0 ($USD)</td>\n",
       "      <td>Local development environments (RStudio, Jupyt...</td>\n",
       "      <td>Python</td>\n",
       "      <td>Spyder,Jupyter Notebook</td>\n",
       "      <td>edX</td>\n",
       "      <td>NaN</td>\n",
       "      <td>NaN</td>\n",
       "    </tr>\n",
       "    <tr>\n",
       "      <th>4</th>\n",
       "      <td>4</td>\n",
       "      <td>4</td>\n",
       "      <td>781</td>\n",
       "      <td>45-49</td>\n",
       "      <td>Man</td>\n",
       "      <td>India</td>\n",
       "      <td>Doctoral degree</td>\n",
       "      <td>Other</td>\n",
       "      <td>&lt; 1 years</td>\n",
       "      <td>Python</td>\n",
       "      <td>...</td>\n",
       "      <td>50-249 employees</td>\n",
       "      <td>We use ML methods for generating insights (but...</td>\n",
       "      <td>30,000-39,999</td>\n",
       "      <td>$1000-$9,999</td>\n",
       "      <td>Local development environments (RStudio, Jupyt...</td>\n",
       "      <td>Python, C, MATLAB</td>\n",
       "      <td>Spyder,MATLAB ,Jupyter Notebook</td>\n",
       "      <td>Kaggle Learn Courses,Udemy</td>\n",
       "      <td>I do not share my work publicly</td>\n",
       "      <td>NaN</td>\n",
       "    </tr>\n",
       "  </tbody>\n",
       "</table>\n",
       "<p>5 rows × 21 columns</p>\n",
       "</div>"
      ],
      "text/plain": [
       "   level_0  index  time    age gender       pais          formacion  \\\n",
       "0        0      0   910  50-54    Man      India  Bachelor’s degree   \n",
       "1        1      1   784  50-54    Man  Indonesia    Master’s degree   \n",
       "2        2      2   924  22-24    Man   Pakistan    Master’s degree   \n",
       "3        3      3   575  45-49    Man     Mexico    Doctoral degree   \n",
       "4        4      4   781  45-49    Man      India    Doctoral degree   \n",
       "\n",
       "                    puesto experiencia_prog lenguaje_top  ...  \\\n",
       "0                    Other       5-10 years       Python  ...   \n",
       "1  Program/Project Manager        20+ years       Python  ...   \n",
       "2        Software Engineer        1-3 years       Python  ...   \n",
       "3       Research Scientist        20+ years       Python  ...   \n",
       "4                    Other        < 1 years       Python  ...   \n",
       "\n",
       "         tamaño_empresa                                             uso_ml  \\\n",
       "0      50-249 employees                      No (we do not use ML methods)   \n",
       "1  1000-9,999 employees  We are exploring ML methods (and may one day p...   \n",
       "2  1000-9,999 employees                                      I do not know   \n",
       "3  1000-9,999 employees                                      I do not know   \n",
       "4      50-249 employees  We use ML methods for generating insights (but...   \n",
       "\n",
       "         salario  inversion_ml  \\\n",
       "0  25,000-29,999     $100-$999   \n",
       "1  60,000-69,999     $0 ($USD)   \n",
       "2         $0-999     $0 ($USD)   \n",
       "3  30,000-39,999     $0 ($USD)   \n",
       "4  30,000-39,999  $1000-$9,999   \n",
       "\n",
       "                               ppal_herramienta_data       lenguaje_prog  \\\n",
       "0  Local development environments (RStudio, Jupyt...           Python, R   \n",
       "1    Advanced statistical software (SPSS, SAS, etc.)   SQL, C, C++, Java   \n",
       "2  Basic statistical software (Microsoft Excel, G...   Python, C++, Java   \n",
       "3  Local development environments (RStudio, Jupyt...              Python   \n",
       "4  Local development environments (RStudio, Jupyt...   Python, C, MATLAB   \n",
       "\n",
       "                         plataforma  \\\n",
       "0                       Vim / Emacs   \n",
       "1        Notepad++,Jupyter Notebook   \n",
       "2  PyCharm ,Jupyter Notebook, Other   \n",
       "3           Spyder,Jupyter Notebook   \n",
       "4   Spyder,MATLAB ,Jupyter Notebook   \n",
       "\n",
       "                                         plat_cursos  \\\n",
       "0    edX,Kaggle Learn Courses,DataCamp,Udacity,Udemy   \n",
       "1  Kaggle Learn Courses,Cloud-certification progr...   \n",
       "2                                           DataCamp   \n",
       "3                                                edX   \n",
       "4                         Kaggle Learn Courses,Udemy   \n",
       "\n",
       "                             nubes plataforma_top  \n",
       "0                 GitHub , Kaggle             NaN  \n",
       "1                              NaN            NaN  \n",
       "2  I do not share my work publicly            NaN  \n",
       "3                              NaN            NaN  \n",
       "4  I do not share my work publicly            NaN  \n",
       "\n",
       "[5 rows x 21 columns]"
      ]
     },
     "execution_count": 6,
     "metadata": {},
     "output_type": "execute_result"
    }
   ],
   "source": [
    "df.head()"
   ]
  },
  {
   "cell_type": "code",
   "execution_count": 7,
   "metadata": {},
   "outputs": [
    {
     "data": {
      "text/html": [
       "<div>\n",
       "<style scoped>\n",
       "    .dataframe tbody tr th:only-of-type {\n",
       "        vertical-align: middle;\n",
       "    }\n",
       "\n",
       "    .dataframe tbody tr th {\n",
       "        vertical-align: top;\n",
       "    }\n",
       "\n",
       "    .dataframe thead th {\n",
       "        text-align: right;\n",
       "    }\n",
       "</style>\n",
       "<table border=\"1\" class=\"dataframe\">\n",
       "  <thead>\n",
       "    <tr style=\"text-align: right;\">\n",
       "      <th></th>\n",
       "      <th>level_0</th>\n",
       "      <th>index</th>\n",
       "      <th>time</th>\n",
       "      <th>age</th>\n",
       "      <th>gender</th>\n",
       "      <th>pais</th>\n",
       "      <th>formacion</th>\n",
       "      <th>puesto</th>\n",
       "      <th>experiencia_prog</th>\n",
       "      <th>lenguaje_top</th>\n",
       "      <th>...</th>\n",
       "      <th>tamaño_empresa</th>\n",
       "      <th>uso_ml</th>\n",
       "      <th>salario</th>\n",
       "      <th>inversion_ml</th>\n",
       "      <th>ppal_herramienta_data</th>\n",
       "      <th>lenguaje_prog</th>\n",
       "      <th>plataforma</th>\n",
       "      <th>plat_cursos</th>\n",
       "      <th>nubes</th>\n",
       "      <th>plataforma_top</th>\n",
       "    </tr>\n",
       "  </thead>\n",
       "  <tbody>\n",
       "    <tr>\n",
       "      <th>25968</th>\n",
       "      <td>25968</td>\n",
       "      <td>25968</td>\n",
       "      <td>1756</td>\n",
       "      <td>30-34</td>\n",
       "      <td>Man</td>\n",
       "      <td>Egypt</td>\n",
       "      <td>Bachelor’s degree</td>\n",
       "      <td>Data Analyst</td>\n",
       "      <td>1-3 years</td>\n",
       "      <td>Python</td>\n",
       "      <td>...</td>\n",
       "      <td>10,000 or more employees</td>\n",
       "      <td>We are exploring ML methods (and may one day p...</td>\n",
       "      <td>15,000-19,999</td>\n",
       "      <td>$1000-$9,999</td>\n",
       "      <td>Business intelligence software (Salesforce, Ta...</td>\n",
       "      <td>Python, SQL, Javascript, Bash</td>\n",
       "      <td>Jupyter (JupyterLab, Jupyter Notebooks, etc) ,...</td>\n",
       "      <td>Kaggle Learn Courses,DataCamp,Udacity,Udemy,Li...</td>\n",
       "      <td>GitHub , Colab</td>\n",
       "      <td>Amazon Web Services (AWS)</td>\n",
       "    </tr>\n",
       "    <tr>\n",
       "      <th>25969</th>\n",
       "      <td>25969</td>\n",
       "      <td>25969</td>\n",
       "      <td>253</td>\n",
       "      <td>22-24</td>\n",
       "      <td>Man</td>\n",
       "      <td>China</td>\n",
       "      <td>Master’s degree</td>\n",
       "      <td>Student</td>\n",
       "      <td>1-3 years</td>\n",
       "      <td>Python</td>\n",
       "      <td>...</td>\n",
       "      <td>NaN</td>\n",
       "      <td>NaN</td>\n",
       "      <td>NaN</td>\n",
       "      <td>NaN</td>\n",
       "      <td>NaN</td>\n",
       "      <td>Python</td>\n",
       "      <td>PyCharm</td>\n",
       "      <td>NaN</td>\n",
       "      <td>NaN</td>\n",
       "      <td>NaN</td>\n",
       "    </tr>\n",
       "    <tr>\n",
       "      <th>25970</th>\n",
       "      <td>25970</td>\n",
       "      <td>25970</td>\n",
       "      <td>494</td>\n",
       "      <td>50-54</td>\n",
       "      <td>Man</td>\n",
       "      <td>Sweden</td>\n",
       "      <td>Doctoral degree</td>\n",
       "      <td>Research Scientist</td>\n",
       "      <td>I have never written code</td>\n",
       "      <td>NaN</td>\n",
       "      <td>...</td>\n",
       "      <td>1000-9,999 employees</td>\n",
       "      <td>I do not know</td>\n",
       "      <td>$0-999</td>\n",
       "      <td>$1-$99</td>\n",
       "      <td>Basic statistical software (Microsoft Excel, G...</td>\n",
       "      <td>NaN</td>\n",
       "      <td>NaN</td>\n",
       "      <td>LinkedIn Learning</td>\n",
       "      <td>NaN</td>\n",
       "      <td>NaN</td>\n",
       "    </tr>\n",
       "    <tr>\n",
       "      <th>25971</th>\n",
       "      <td>25971</td>\n",
       "      <td>25971</td>\n",
       "      <td>277</td>\n",
       "      <td>45-49</td>\n",
       "      <td>Man</td>\n",
       "      <td>United States of America</td>\n",
       "      <td>Master’s degree</td>\n",
       "      <td>Data Scientist</td>\n",
       "      <td>5-10 years</td>\n",
       "      <td>Python</td>\n",
       "      <td>...</td>\n",
       "      <td>10,000 or more employees</td>\n",
       "      <td>We have well established ML methods (i.e., mod...</td>\n",
       "      <td>NaN</td>\n",
       "      <td>NaN</td>\n",
       "      <td>NaN</td>\n",
       "      <td>Python, SQL</td>\n",
       "      <td>Notepad++,Jupyter Notebook</td>\n",
       "      <td>NaN</td>\n",
       "      <td>NaN</td>\n",
       "      <td>NaN</td>\n",
       "    </tr>\n",
       "    <tr>\n",
       "      <th>25972</th>\n",
       "      <td>25972</td>\n",
       "      <td>25972</td>\n",
       "      <td>255</td>\n",
       "      <td>18-21</td>\n",
       "      <td>Man</td>\n",
       "      <td>India</td>\n",
       "      <td>Bachelor’s degree</td>\n",
       "      <td>Business Analyst</td>\n",
       "      <td>I have never written code</td>\n",
       "      <td>NaN</td>\n",
       "      <td>...</td>\n",
       "      <td>0-49 employees</td>\n",
       "      <td>I do not know</td>\n",
       "      <td>$0-999</td>\n",
       "      <td>$0 ($USD)</td>\n",
       "      <td>Advanced statistical software (SPSS, SAS, etc.)</td>\n",
       "      <td>NaN</td>\n",
       "      <td>NaN</td>\n",
       "      <td>None</td>\n",
       "      <td>NaN</td>\n",
       "      <td>NaN</td>\n",
       "    </tr>\n",
       "  </tbody>\n",
       "</table>\n",
       "<p>5 rows × 21 columns</p>\n",
       "</div>"
      ],
      "text/plain": [
       "       level_0  index  time    age gender                      pais  \\\n",
       "25968    25968  25968  1756  30-34    Man                     Egypt   \n",
       "25969    25969  25969   253  22-24    Man                     China   \n",
       "25970    25970  25970   494  50-54    Man                    Sweden   \n",
       "25971    25971  25971   277  45-49    Man  United States of America   \n",
       "25972    25972  25972   255  18-21    Man                     India   \n",
       "\n",
       "               formacion              puesto           experiencia_prog  \\\n",
       "25968  Bachelor’s degree        Data Analyst                  1-3 years   \n",
       "25969    Master’s degree             Student                  1-3 years   \n",
       "25970    Doctoral degree  Research Scientist  I have never written code   \n",
       "25971    Master’s degree      Data Scientist                 5-10 years   \n",
       "25972  Bachelor’s degree    Business Analyst  I have never written code   \n",
       "\n",
       "      lenguaje_top  ...            tamaño_empresa  \\\n",
       "25968       Python  ...  10,000 or more employees   \n",
       "25969       Python  ...                       NaN   \n",
       "25970          NaN  ...      1000-9,999 employees   \n",
       "25971       Python  ...  10,000 or more employees   \n",
       "25972          NaN  ...            0-49 employees   \n",
       "\n",
       "                                                  uso_ml        salario  \\\n",
       "25968  We are exploring ML methods (and may one day p...  15,000-19,999   \n",
       "25969                                                NaN            NaN   \n",
       "25970                                      I do not know         $0-999   \n",
       "25971  We have well established ML methods (i.e., mod...            NaN   \n",
       "25972                                      I do not know         $0-999   \n",
       "\n",
       "       inversion_ml                              ppal_herramienta_data  \\\n",
       "25968  $1000-$9,999  Business intelligence software (Salesforce, Ta...   \n",
       "25969           NaN                                                NaN   \n",
       "25970        $1-$99  Basic statistical software (Microsoft Excel, G...   \n",
       "25971           NaN                                                NaN   \n",
       "25972     $0 ($USD)    Advanced statistical software (SPSS, SAS, etc.)   \n",
       "\n",
       "                       lenguaje_prog  \\\n",
       "25968  Python, SQL, Javascript, Bash   \n",
       "25969                         Python   \n",
       "25970                            NaN   \n",
       "25971                    Python, SQL   \n",
       "25972                            NaN   \n",
       "\n",
       "                                              plataforma  \\\n",
       "25968  Jupyter (JupyterLab, Jupyter Notebooks, etc) ,...   \n",
       "25969                                           PyCharm    \n",
       "25970                                                NaN   \n",
       "25971                         Notepad++,Jupyter Notebook   \n",
       "25972                                                NaN   \n",
       "\n",
       "                                             plat_cursos             nubes  \\\n",
       "25968  Kaggle Learn Courses,DataCamp,Udacity,Udemy,Li...   GitHub , Colab    \n",
       "25969                                                NaN               NaN   \n",
       "25970                                  LinkedIn Learning               NaN   \n",
       "25971                                                NaN               NaN   \n",
       "25972                                               None               NaN   \n",
       "\n",
       "                    plataforma_top  \n",
       "25968   Amazon Web Services (AWS)   \n",
       "25969                          NaN  \n",
       "25970                          NaN  \n",
       "25971                          NaN  \n",
       "25972                          NaN  \n",
       "\n",
       "[5 rows x 21 columns]"
      ]
     },
     "execution_count": 7,
     "metadata": {},
     "output_type": "execute_result"
    }
   ],
   "source": [
    "df.tail()"
   ]
  },
  {
   "cell_type": "code",
   "execution_count": 8,
   "metadata": {},
   "outputs": [
    {
     "data": {
      "text/plain": [
       "level_0                   int64\n",
       "index                     int64\n",
       "time                      int64\n",
       "age                      object\n",
       "gender                   object\n",
       "pais                     object\n",
       "formacion                object\n",
       "puesto                   object\n",
       "experiencia_prog         object\n",
       "lenguaje_top             object\n",
       "exp_ml                   object\n",
       "tamaño_empresa           object\n",
       "uso_ml                   object\n",
       "salario                  object\n",
       "inversion_ml             object\n",
       "ppal_herramienta_data    object\n",
       "lenguaje_prog            object\n",
       "plataforma               object\n",
       "plat_cursos              object\n",
       "nubes                    object\n",
       "plataforma_top           object\n",
       "dtype: object"
      ]
     },
     "execution_count": 8,
     "metadata": {},
     "output_type": "execute_result"
    }
   ],
   "source": [
    "df.dtypes"
   ]
  },
  {
   "cell_type": "code",
   "execution_count": 9,
   "metadata": {},
   "outputs": [
    {
     "data": {
      "text/plain": [
       "(25973, 21)"
      ]
     },
     "execution_count": 9,
     "metadata": {},
     "output_type": "execute_result"
    }
   ],
   "source": [
    "df.shape"
   ]
  },
  {
   "cell_type": "code",
   "execution_count": 10,
   "metadata": {},
   "outputs": [
    {
     "name": "stdout",
     "output_type": "stream",
     "text": [
      "<class 'pandas.core.frame.DataFrame'>\n",
      "RangeIndex: 25973 entries, 0 to 25972\n",
      "Data columns (total 21 columns):\n",
      " #   Column                 Non-Null Count  Dtype \n",
      "---  ------                 --------------  ----- \n",
      " 0   level_0                25973 non-null  int64 \n",
      " 1   index                  25973 non-null  int64 \n",
      " 2   time                   25973 non-null  int64 \n",
      " 3   age                    25973 non-null  object\n",
      " 4   gender                 25973 non-null  object\n",
      " 5   pais                   25973 non-null  object\n",
      " 6   formacion              25973 non-null  object\n",
      " 7   puesto                 25973 non-null  object\n",
      " 8   experiencia_prog       25973 non-null  object\n",
      " 9   lenguaje_top           24940 non-null  object\n",
      " 10  exp_ml                 23754 non-null  object\n",
      " 11  tamaño_empresa         16251 non-null  object\n",
      " 12  uso_ml                 15952 non-null  object\n",
      " 13  salario                15391 non-null  object\n",
      " 14  inversion_ml           15183 non-null  object\n",
      " 15  ppal_herramienta_data  18489 non-null  object\n",
      " 16  lenguaje_prog          24941 non-null  object\n",
      " 17  plataforma             24934 non-null  object\n",
      " 18  plat_cursos            18132 non-null  object\n",
      " 19  nubes                  9176 non-null   object\n",
      " 20  plataforma_top         3127 non-null   object\n",
      "dtypes: int64(3), object(18)\n",
      "memory usage: 4.2+ MB\n"
     ]
    }
   ],
   "source": [
    "df.info()"
   ]
  },
  {
   "cell_type": "code",
   "execution_count": 11,
   "metadata": {},
   "outputs": [
    {
     "data": {
      "text/plain": [
       "Student                         6804\n",
       "Data Scientist                  3616\n",
       "Software Engineer               2449\n",
       "Other                           2393\n",
       "Data Analyst                    2301\n",
       "Currently not employed          1986\n",
       "Research Scientist              1538\n",
       "Machine Learning Engineer       1499\n",
       "Business Analyst                 968\n",
       "Program/Project Manager          849\n",
       "Data Engineer                    668\n",
       "Product Manager                  319\n",
       "Statistician                     313\n",
       "DBA/Database Engineer            171\n",
       "Developer Relations/Advocacy      99\n",
       "Name: puesto, dtype: int64"
      ]
     },
     "execution_count": 11,
     "metadata": {},
     "output_type": "execute_result"
    }
   ],
   "source": [
    "df['puesto'].value_counts()"
   ]
  },
  {
   "cell_type": "code",
   "execution_count": 12,
   "metadata": {},
   "outputs": [
    {
     "data": {
      "image/png": "[encoded data removed]",
      "text/plain": [
       "<Figure size 720x504 with 1 Axes>"
      ]
     },
     "metadata": {
      "needs_background": "light"
     },
     "output_type": "display_data"
    }
   ],
   "source": [
    "plt.figure(figsize =(10,7))\n",
    "\n",
    "# seleccionamos el histplot y le añadimos el parámetro kde que nos va a mostrar una línea de tendencia \n",
    "fig = sns.histplot(x=df['puesto'], data = df, hue = 'puesto', kde=True)\n",
    "\n",
    "fig.set_title('Histograma de los puestos de trabajo segun especialidad')\n",
    "\n",
    "plt.xticks(rotation= 75)\n",
    "\n",
    "# mostramos la gráfica\n",
    "plt.show()"
   ]
  },
  {
   "cell_type": "markdown",
   "metadata": {},
   "source": [
    "SPRINT 3\n",
    "\n",
    "-   Limpieza de nulos\n",
    "-   Categorizaciones\n",
    "-   Cambiar tipo de dato (columna)  \n",
    "-   Columna salarios modificar el tipo de dato y crear rango\n",
    "-   Diseño de gráfica (Visualizacion), storytelling de los datos."
   ]
  },
  {
   "attachments": {},
   "cell_type": "markdown",
   "metadata": {},
   "source": [
    "## SPRINT 3"
   ]
  },
  {
   "attachments": {},
   "cell_type": "markdown",
   "metadata": {},
   "source": [
    "Preguntas:\n",
    "\n",
    "- ¿Cual es el ratio de hombres y mujeres segun el perfil?\n",
    "- ¿Cual es perfil educativo para cada puesto?\n",
    "- Herramientas mas utilizadas segun los perfiles. \n",
    "- ¿Cuál es la diferencia de salarios entre hombres y mujeres segun el perfil?\n",
    "- Perfil segun pais que herramientas usan, en coparativa con España.\n",
    "\n",
    "\n",
    "Extras:\n",
    "- ¿Cómo se distribuye este porcentaje segun los paises?"
   ]
  },
  {
   "cell_type": "code",
   "execution_count": 13,
   "metadata": {},
   "outputs": [
    {
     "data": {
      "text/html": [
       "<div>\n",
       "<style scoped>\n",
       "    .dataframe tbody tr th:only-of-type {\n",
       "        vertical-align: middle;\n",
       "    }\n",
       "\n",
       "    .dataframe tbody tr th {\n",
       "        vertical-align: top;\n",
       "    }\n",
       "\n",
       "    .dataframe thead th {\n",
       "        text-align: right;\n",
       "    }\n",
       "</style>\n",
       "<table border=\"1\" class=\"dataframe\">\n",
       "  <thead>\n",
       "    <tr style=\"text-align: right;\">\n",
       "      <th></th>\n",
       "      <th>level_0</th>\n",
       "      <th>index</th>\n",
       "      <th>time</th>\n",
       "      <th>age</th>\n",
       "      <th>gender</th>\n",
       "      <th>pais</th>\n",
       "      <th>formacion</th>\n",
       "      <th>puesto</th>\n",
       "      <th>experiencia_prog</th>\n",
       "      <th>lenguaje_top</th>\n",
       "      <th>...</th>\n",
       "      <th>tamaño_empresa</th>\n",
       "      <th>uso_ml</th>\n",
       "      <th>salario</th>\n",
       "      <th>inversion_ml</th>\n",
       "      <th>ppal_herramienta_data</th>\n",
       "      <th>lenguaje_prog</th>\n",
       "      <th>plataforma</th>\n",
       "      <th>plat_cursos</th>\n",
       "      <th>nubes</th>\n",
       "      <th>plataforma_top</th>\n",
       "    </tr>\n",
       "  </thead>\n",
       "  <tbody>\n",
       "    <tr>\n",
       "      <th>0</th>\n",
       "      <td>0</td>\n",
       "      <td>0</td>\n",
       "      <td>910</td>\n",
       "      <td>50-54</td>\n",
       "      <td>Man</td>\n",
       "      <td>India</td>\n",
       "      <td>Bachelor’s degree</td>\n",
       "      <td>Other</td>\n",
       "      <td>5-10 years</td>\n",
       "      <td>Python</td>\n",
       "      <td>...</td>\n",
       "      <td>50-249 employees</td>\n",
       "      <td>No (we do not use ML methods)</td>\n",
       "      <td>25,000-29,999</td>\n",
       "      <td>$100-$999</td>\n",
       "      <td>Local development environments (RStudio, Jupyt...</td>\n",
       "      <td>Python, R</td>\n",
       "      <td>Vim / Emacs</td>\n",
       "      <td>edX,Kaggle Learn Courses,DataCamp,Udacity,Udemy</td>\n",
       "      <td>GitHub , Kaggle</td>\n",
       "      <td>NaN</td>\n",
       "    </tr>\n",
       "    <tr>\n",
       "      <th>1</th>\n",
       "      <td>1</td>\n",
       "      <td>1</td>\n",
       "      <td>784</td>\n",
       "      <td>50-54</td>\n",
       "      <td>Man</td>\n",
       "      <td>Indonesia</td>\n",
       "      <td>Master’s degree</td>\n",
       "      <td>Program/Project Manager</td>\n",
       "      <td>20+ years</td>\n",
       "      <td>Python</td>\n",
       "      <td>...</td>\n",
       "      <td>1000-9,999 employees</td>\n",
       "      <td>We are exploring ML methods (and may one day p...</td>\n",
       "      <td>60,000-69,999</td>\n",
       "      <td>$0 ($USD)</td>\n",
       "      <td>Advanced statistical software (SPSS, SAS, etc.)</td>\n",
       "      <td>SQL, C, C++, Java</td>\n",
       "      <td>Notepad++,Jupyter Notebook</td>\n",
       "      <td>Kaggle Learn Courses,Cloud-certification progr...</td>\n",
       "      <td>NaN</td>\n",
       "      <td>NaN</td>\n",
       "    </tr>\n",
       "  </tbody>\n",
       "</table>\n",
       "<p>2 rows × 21 columns</p>\n",
       "</div>"
      ],
      "text/plain": [
       "   level_0  index  time    age gender       pais          formacion  \\\n",
       "0        0      0   910  50-54    Man      India  Bachelor’s degree   \n",
       "1        1      1   784  50-54    Man  Indonesia    Master’s degree   \n",
       "\n",
       "                    puesto experiencia_prog lenguaje_top  ...  \\\n",
       "0                    Other       5-10 years       Python  ...   \n",
       "1  Program/Project Manager        20+ years       Python  ...   \n",
       "\n",
       "         tamaño_empresa                                             uso_ml  \\\n",
       "0      50-249 employees                      No (we do not use ML methods)   \n",
       "1  1000-9,999 employees  We are exploring ML methods (and may one day p...   \n",
       "\n",
       "         salario inversion_ml  \\\n",
       "0  25,000-29,999    $100-$999   \n",
       "1  60,000-69,999    $0 ($USD)   \n",
       "\n",
       "                               ppal_herramienta_data       lenguaje_prog  \\\n",
       "0  Local development environments (RStudio, Jupyt...           Python, R   \n",
       "1    Advanced statistical software (SPSS, SAS, etc.)   SQL, C, C++, Java   \n",
       "\n",
       "                    plataforma  \\\n",
       "0                  Vim / Emacs   \n",
       "1   Notepad++,Jupyter Notebook   \n",
       "\n",
       "                                         plat_cursos              nubes  \\\n",
       "0    edX,Kaggle Learn Courses,DataCamp,Udacity,Udemy   GitHub , Kaggle    \n",
       "1  Kaggle Learn Courses,Cloud-certification progr...                NaN   \n",
       "\n",
       "  plataforma_top  \n",
       "0            NaN  \n",
       "1            NaN  \n",
       "\n",
       "[2 rows x 21 columns]"
      ]
     },
     "execution_count": 13,
     "metadata": {},
     "output_type": "execute_result"
    }
   ],
   "source": [
    "df.head(2)"
   ]
  },
  {
   "attachments": {},
   "cell_type": "markdown",
   "metadata": {},
   "source": [
    "\n",
    "---\n",
    "- ¿Cual es el ratio de hombres y mujeres segun el perfil?"
   ]
  },
  {
   "cell_type": "code",
   "execution_count": 14,
   "metadata": {},
   "outputs": [
    {
     "data": {
      "text/plain": [
       "Man                        20598\n",
       "Woman                       4890\n",
       "Prefer not to say            355\n",
       "Nonbinary                     88\n",
       "Prefer to self-describe       42\n",
       "Name: gender, dtype: int64"
      ]
     },
     "execution_count": 14,
     "metadata": {},
     "output_type": "execute_result"
    }
   ],
   "source": [
    "df.gender.value_counts()"
   ]
  },
  {
   "attachments": {},
   "cell_type": "markdown",
   "metadata": {},
   "source": [
    "Vemos que la columna de genero nos ofrece todos los datos de manera clara para trabajar con ellos."
   ]
  },
  {
   "cell_type": "code",
   "execution_count": 15,
   "metadata": {},
   "outputs": [
    {
     "data": {
      "text/plain": [
       "Student                         6804\n",
       "Data Scientist                  3616\n",
       "Software Engineer               2449\n",
       "Other                           2393\n",
       "Data Analyst                    2301\n",
       "Currently not employed          1986\n",
       "Research Scientist              1538\n",
       "Machine Learning Engineer       1499\n",
       "Business Analyst                 968\n",
       "Program/Project Manager          849\n",
       "Data Engineer                    668\n",
       "Product Manager                  319\n",
       "Statistician                     313\n",
       "DBA/Database Engineer            171\n",
       "Developer Relations/Advocacy      99\n",
       "Name: puesto, dtype: int64"
      ]
     },
     "execution_count": 15,
     "metadata": {},
     "output_type": "execute_result"
    }
   ],
   "source": [
    "df.puesto.value_counts()"
   ]
  },
  {
   "cell_type": "code",
   "execution_count": 16,
   "metadata": {},
   "outputs": [
    {
     "data": {
      "text/plain": [
       "0"
      ]
     },
     "execution_count": 16,
     "metadata": {},
     "output_type": "execute_result"
    }
   ],
   "source": [
    "df.puesto.isnull().sum()"
   ]
  },
  {
   "cell_type": "code",
   "execution_count": 17,
   "metadata": {},
   "outputs": [
    {
     "data": {
      "text/html": [
       "<div>\n",
       "<style scoped>\n",
       "    .dataframe tbody tr th:only-of-type {\n",
       "        vertical-align: middle;\n",
       "    }\n",
       "\n",
       "    .dataframe tbody tr th {\n",
       "        vertical-align: top;\n",
       "    }\n",
       "\n",
       "    .dataframe thead th {\n",
       "        text-align: right;\n",
       "    }\n",
       "</style>\n",
       "<table border=\"1\" class=\"dataframe\">\n",
       "  <thead>\n",
       "    <tr style=\"text-align: right;\">\n",
       "      <th>puesto</th>\n",
       "      <th>Business Analyst</th>\n",
       "      <th>Currently not employed</th>\n",
       "      <th>DBA/Database Engineer</th>\n",
       "      <th>Data Analyst</th>\n",
       "      <th>Data Engineer</th>\n",
       "      <th>Data Scientist</th>\n",
       "      <th>Developer Relations/Advocacy</th>\n",
       "      <th>Machine Learning Engineer</th>\n",
       "      <th>Other</th>\n",
       "      <th>Product Manager</th>\n",
       "      <th>Program/Project Manager</th>\n",
       "      <th>Research Scientist</th>\n",
       "      <th>Software Engineer</th>\n",
       "      <th>Statistician</th>\n",
       "      <th>Student</th>\n",
       "    </tr>\n",
       "    <tr>\n",
       "      <th>gender</th>\n",
       "      <th></th>\n",
       "      <th></th>\n",
       "      <th></th>\n",
       "      <th></th>\n",
       "      <th></th>\n",
       "      <th></th>\n",
       "      <th></th>\n",
       "      <th></th>\n",
       "      <th></th>\n",
       "      <th></th>\n",
       "      <th></th>\n",
       "      <th></th>\n",
       "      <th></th>\n",
       "      <th></th>\n",
       "      <th></th>\n",
       "    </tr>\n",
       "  </thead>\n",
       "  <tbody>\n",
       "    <tr>\n",
       "      <th>Man</th>\n",
       "      <td>779</td>\n",
       "      <td>1479</td>\n",
       "      <td>141</td>\n",
       "      <td>1759</td>\n",
       "      <td>561</td>\n",
       "      <td>2971</td>\n",
       "      <td>79</td>\n",
       "      <td>1285</td>\n",
       "      <td>1926</td>\n",
       "      <td>266</td>\n",
       "      <td>742</td>\n",
       "      <td>1233</td>\n",
       "      <td>2045</td>\n",
       "      <td>239</td>\n",
       "      <td>5093</td>\n",
       "    </tr>\n",
       "    <tr>\n",
       "      <th>Nonbinary</th>\n",
       "      <td>3</td>\n",
       "      <td>11</td>\n",
       "      <td>1</td>\n",
       "      <td>5</td>\n",
       "      <td>1</td>\n",
       "      <td>7</td>\n",
       "      <td>2</td>\n",
       "      <td>7</td>\n",
       "      <td>6</td>\n",
       "      <td>3</td>\n",
       "      <td>3</td>\n",
       "      <td>6</td>\n",
       "      <td>7</td>\n",
       "      <td>0</td>\n",
       "      <td>26</td>\n",
       "    </tr>\n",
       "    <tr>\n",
       "      <th>Prefer not to say</th>\n",
       "      <td>10</td>\n",
       "      <td>29</td>\n",
       "      <td>9</td>\n",
       "      <td>28</td>\n",
       "      <td>7</td>\n",
       "      <td>45</td>\n",
       "      <td>2</td>\n",
       "      <td>25</td>\n",
       "      <td>26</td>\n",
       "      <td>5</td>\n",
       "      <td>13</td>\n",
       "      <td>22</td>\n",
       "      <td>30</td>\n",
       "      <td>3</td>\n",
       "      <td>101</td>\n",
       "    </tr>\n",
       "    <tr>\n",
       "      <th>Prefer to self-describe</th>\n",
       "      <td>1</td>\n",
       "      <td>4</td>\n",
       "      <td>0</td>\n",
       "      <td>4</td>\n",
       "      <td>1</td>\n",
       "      <td>9</td>\n",
       "      <td>0</td>\n",
       "      <td>3</td>\n",
       "      <td>6</td>\n",
       "      <td>0</td>\n",
       "      <td>0</td>\n",
       "      <td>3</td>\n",
       "      <td>1</td>\n",
       "      <td>0</td>\n",
       "      <td>10</td>\n",
       "    </tr>\n",
       "    <tr>\n",
       "      <th>Woman</th>\n",
       "      <td>175</td>\n",
       "      <td>463</td>\n",
       "      <td>20</td>\n",
       "      <td>505</td>\n",
       "      <td>98</td>\n",
       "      <td>584</td>\n",
       "      <td>16</td>\n",
       "      <td>179</td>\n",
       "      <td>429</td>\n",
       "      <td>45</td>\n",
       "      <td>91</td>\n",
       "      <td>274</td>\n",
       "      <td>366</td>\n",
       "      <td>71</td>\n",
       "      <td>1574</td>\n",
       "    </tr>\n",
       "  </tbody>\n",
       "</table>\n",
       "</div>"
      ],
      "text/plain": [
       "puesto                   Business Analyst  Currently not employed  \\\n",
       "gender                                                              \n",
       "Man                                   779                    1479   \n",
       "Nonbinary                               3                      11   \n",
       "Prefer not to say                      10                      29   \n",
       "Prefer to self-describe                 1                       4   \n",
       "Woman                                 175                     463   \n",
       "\n",
       "puesto                   DBA/Database Engineer  Data Analyst  Data Engineer  \\\n",
       "gender                                                                        \n",
       "Man                                        141          1759            561   \n",
       "Nonbinary                                    1             5              1   \n",
       "Prefer not to say                            9            28              7   \n",
       "Prefer to self-describe                      0             4              1   \n",
       "Woman                                       20           505             98   \n",
       "\n",
       "puesto                   Data Scientist  Developer Relations/Advocacy  \\\n",
       "gender                                                                  \n",
       "Man                                2971                            79   \n",
       "Nonbinary                             7                             2   \n",
       "Prefer not to say                    45                             2   \n",
       "Prefer to self-describe               9                             0   \n",
       "Woman                               584                            16   \n",
       "\n",
       "puesto                   Machine Learning Engineer  Other  Product Manager  \\\n",
       "gender                                                                       \n",
       "Man                                           1285   1926              266   \n",
       "Nonbinary                                        7      6                3   \n",
       "Prefer not to say                               25     26                5   \n",
       "Prefer to self-describe                          3      6                0   \n",
       "Woman                                          179    429               45   \n",
       "\n",
       "puesto                   Program/Project Manager  Research Scientist  \\\n",
       "gender                                                                 \n",
       "Man                                          742                1233   \n",
       "Nonbinary                                      3                   6   \n",
       "Prefer not to say                             13                  22   \n",
       "Prefer to self-describe                        0                   3   \n",
       "Woman                                         91                 274   \n",
       "\n",
       "puesto                   Software Engineer  Statistician  Student  \n",
       "gender                                                             \n",
       "Man                                   2045           239     5093  \n",
       "Nonbinary                                7             0       26  \n",
       "Prefer not to say                       30             3      101  \n",
       "Prefer to self-describe                  1             0       10  \n",
       "Woman                                  366            71     1574  "
      ]
     },
     "execution_count": 17,
     "metadata": {},
     "output_type": "execute_result"
    }
   ],
   "source": [
    "df_crosstab = pd.crosstab(df['gender'], \n",
    "                            df['puesto']) \n",
    "df_crosstab"
   ]
  },
  {
   "cell_type": "code",
   "execution_count": 18,
   "metadata": {},
   "outputs": [
    {
     "data": {
      "image/png": "[encoded data removed]",
      "text/plain": [
       "<Figure size 1080x1224 with 1 Axes>"
      ]
     },
     "metadata": {
      "needs_background": "light"
     },
     "output_type": "display_data"
    }
   ],
   "source": [
    "plt.figure(figsize = (15, 17))\n",
    "\n",
    "fig = sns.countplot(data = df, y = \"puesto\", hue = \"gender\", palette = \"husl\", edgecolor = \"black\")\n",
    "\n",
    "fig.set(xlabel = \"Cantidad\", ylabel = \"Puesto\")\n",
    "\n",
    "sns.set(font = \"serif\")\n",
    "\n",
    "plt.legend(bbox_to_anchor = (0.7, 0.7))\n",
    "\n",
    "plt.xlabel(\"Cantidad\", fontsize = 20, font = \"serif\")\n",
    "plt.ylabel(\"Puesto\", fontsize = 20, font = \"serif\")\n",
    "\n",
    "plt.xticks(fontsize = 14)\n",
    "plt.yticks(fontsize = 14);"
   ]
  },
  {
   "attachments": {},
   "cell_type": "markdown",
   "metadata": {},
   "source": [
    "---\n",
    "\n",
    "- ¿Cual es perfil educativo para cada puesto?"
   ]
  },
  {
   "cell_type": "code",
   "execution_count": 19,
   "metadata": {},
   "outputs": [
    {
     "data": {
      "text/plain": [
       "Student                         6804\n",
       "Data Scientist                  3616\n",
       "Software Engineer               2449\n",
       "Other                           2393\n",
       "Data Analyst                    2301\n",
       "Currently not employed          1986\n",
       "Research Scientist              1538\n",
       "Machine Learning Engineer       1499\n",
       "Business Analyst                 968\n",
       "Program/Project Manager          849\n",
       "Data Engineer                    668\n",
       "Product Manager                  319\n",
       "Statistician                     313\n",
       "DBA/Database Engineer            171\n",
       "Developer Relations/Advocacy      99\n",
       "Name: puesto, dtype: int64"
      ]
     },
     "execution_count": 19,
     "metadata": {},
     "output_type": "execute_result"
    }
   ],
   "source": [
    "df.puesto.value_counts()"
   ]
  },
  {
   "cell_type": "code",
   "execution_count": 20,
   "metadata": {},
   "outputs": [
    {
     "data": {
      "text/plain": [
       "Master’s degree                                                      10132\n",
       "Bachelor’s degree                                                     9907\n",
       "Doctoral degree                                                       2795\n",
       "Some college/university study without earning a bachelor’s degree     1735\n",
       "I prefer not to answer                                                 627\n",
       "No formal education past high school                                   417\n",
       "Professional doctorate                                                 360\n",
       "Name: formacion, dtype: int64"
      ]
     },
     "execution_count": 20,
     "metadata": {},
     "output_type": "execute_result"
    }
   ],
   "source": [
    "df.formacion.value_counts()"
   ]
  },
  {
   "cell_type": "code",
   "execution_count": 21,
   "metadata": {},
   "outputs": [
    {
     "data": {
      "text/plain": [
       "0"
      ]
     },
     "execution_count": 21,
     "metadata": {},
     "output_type": "execute_result"
    }
   ],
   "source": [
    "df.formacion.isnull().sum()"
   ]
  },
  {
   "cell_type": "code",
   "execution_count": 22,
   "metadata": {},
   "outputs": [
    {
     "data": {
      "text/html": [
       "<div>\n",
       "<style scoped>\n",
       "    .dataframe tbody tr th:only-of-type {\n",
       "        vertical-align: middle;\n",
       "    }\n",
       "\n",
       "    .dataframe tbody tr th {\n",
       "        vertical-align: top;\n",
       "    }\n",
       "\n",
       "    .dataframe thead th {\n",
       "        text-align: right;\n",
       "    }\n",
       "</style>\n",
       "<table border=\"1\" class=\"dataframe\">\n",
       "  <thead>\n",
       "    <tr style=\"text-align: right;\">\n",
       "      <th>puesto</th>\n",
       "      <th>Business Analyst</th>\n",
       "      <th>Currently not employed</th>\n",
       "      <th>DBA/Database Engineer</th>\n",
       "      <th>Data Analyst</th>\n",
       "      <th>Data Engineer</th>\n",
       "      <th>Data Scientist</th>\n",
       "      <th>Developer Relations/Advocacy</th>\n",
       "      <th>Machine Learning Engineer</th>\n",
       "      <th>Other</th>\n",
       "      <th>Product Manager</th>\n",
       "      <th>Program/Project Manager</th>\n",
       "      <th>Research Scientist</th>\n",
       "      <th>Software Engineer</th>\n",
       "      <th>Statistician</th>\n",
       "      <th>Student</th>\n",
       "    </tr>\n",
       "    <tr>\n",
       "      <th>formacion</th>\n",
       "      <th></th>\n",
       "      <th></th>\n",
       "      <th></th>\n",
       "      <th></th>\n",
       "      <th></th>\n",
       "      <th></th>\n",
       "      <th></th>\n",
       "      <th></th>\n",
       "      <th></th>\n",
       "      <th></th>\n",
       "      <th></th>\n",
       "      <th></th>\n",
       "      <th></th>\n",
       "      <th></th>\n",
       "      <th></th>\n",
       "    </tr>\n",
       "  </thead>\n",
       "  <tbody>\n",
       "    <tr>\n",
       "      <th>Bachelor’s degree</th>\n",
       "      <td>319</td>\n",
       "      <td>858</td>\n",
       "      <td>72</td>\n",
       "      <td>893</td>\n",
       "      <td>248</td>\n",
       "      <td>1089</td>\n",
       "      <td>36</td>\n",
       "      <td>502</td>\n",
       "      <td>721</td>\n",
       "      <td>102</td>\n",
       "      <td>230</td>\n",
       "      <td>112</td>\n",
       "      <td>1086</td>\n",
       "      <td>67</td>\n",
       "      <td>3572</td>\n",
       "    </tr>\n",
       "    <tr>\n",
       "      <th>Doctoral degree</th>\n",
       "      <td>49</td>\n",
       "      <td>116</td>\n",
       "      <td>2</td>\n",
       "      <td>120</td>\n",
       "      <td>33</td>\n",
       "      <td>543</td>\n",
       "      <td>6</td>\n",
       "      <td>163</td>\n",
       "      <td>317</td>\n",
       "      <td>17</td>\n",
       "      <td>82</td>\n",
       "      <td>862</td>\n",
       "      <td>116</td>\n",
       "      <td>75</td>\n",
       "      <td>294</td>\n",
       "    </tr>\n",
       "    <tr>\n",
       "      <th>I prefer not to answer</th>\n",
       "      <td>27</td>\n",
       "      <td>89</td>\n",
       "      <td>7</td>\n",
       "      <td>56</td>\n",
       "      <td>17</td>\n",
       "      <td>60</td>\n",
       "      <td>4</td>\n",
       "      <td>40</td>\n",
       "      <td>74</td>\n",
       "      <td>6</td>\n",
       "      <td>23</td>\n",
       "      <td>21</td>\n",
       "      <td>65</td>\n",
       "      <td>5</td>\n",
       "      <td>133</td>\n",
       "    </tr>\n",
       "    <tr>\n",
       "      <th>Master’s degree</th>\n",
       "      <td>487</td>\n",
       "      <td>726</td>\n",
       "      <td>73</td>\n",
       "      <td>1027</td>\n",
       "      <td>309</td>\n",
       "      <td>1726</td>\n",
       "      <td>34</td>\n",
       "      <td>656</td>\n",
       "      <td>1052</td>\n",
       "      <td>168</td>\n",
       "      <td>444</td>\n",
       "      <td>422</td>\n",
       "      <td>973</td>\n",
       "      <td>135</td>\n",
       "      <td>1900</td>\n",
       "    </tr>\n",
       "    <tr>\n",
       "      <th>No formal education past high school</th>\n",
       "      <td>22</td>\n",
       "      <td>55</td>\n",
       "      <td>4</td>\n",
       "      <td>37</td>\n",
       "      <td>16</td>\n",
       "      <td>30</td>\n",
       "      <td>7</td>\n",
       "      <td>20</td>\n",
       "      <td>49</td>\n",
       "      <td>3</td>\n",
       "      <td>18</td>\n",
       "      <td>9</td>\n",
       "      <td>44</td>\n",
       "      <td>0</td>\n",
       "      <td>103</td>\n",
       "    </tr>\n",
       "    <tr>\n",
       "      <th>Professional doctorate</th>\n",
       "      <td>6</td>\n",
       "      <td>26</td>\n",
       "      <td>0</td>\n",
       "      <td>24</td>\n",
       "      <td>2</td>\n",
       "      <td>49</td>\n",
       "      <td>3</td>\n",
       "      <td>30</td>\n",
       "      <td>48</td>\n",
       "      <td>4</td>\n",
       "      <td>17</td>\n",
       "      <td>99</td>\n",
       "      <td>20</td>\n",
       "      <td>11</td>\n",
       "      <td>21</td>\n",
       "    </tr>\n",
       "    <tr>\n",
       "      <th>Some college/university study without earning a bachelor’s degree</th>\n",
       "      <td>58</td>\n",
       "      <td>116</td>\n",
       "      <td>13</td>\n",
       "      <td>144</td>\n",
       "      <td>43</td>\n",
       "      <td>119</td>\n",
       "      <td>9</td>\n",
       "      <td>88</td>\n",
       "      <td>132</td>\n",
       "      <td>19</td>\n",
       "      <td>35</td>\n",
       "      <td>13</td>\n",
       "      <td>145</td>\n",
       "      <td>20</td>\n",
       "      <td>781</td>\n",
       "    </tr>\n",
       "  </tbody>\n",
       "</table>\n",
       "</div>"
      ],
      "text/plain": [
       "puesto                                              Business Analyst  \\\n",
       "formacion                                                              \n",
       "Bachelor’s degree                                                319   \n",
       "Doctoral degree                                                   49   \n",
       "I prefer not to answer                                            27   \n",
       "Master’s degree                                                  487   \n",
       "No formal education past high school                              22   \n",
       "Professional doctorate                                             6   \n",
       "Some college/university study without earning a...                58   \n",
       "\n",
       "puesto                                              Currently not employed  \\\n",
       "formacion                                                                    \n",
       "Bachelor’s degree                                                      858   \n",
       "Doctoral degree                                                        116   \n",
       "I prefer not to answer                                                  89   \n",
       "Master’s degree                                                        726   \n",
       "No formal education past high school                                    55   \n",
       "Professional doctorate                                                  26   \n",
       "Some college/university study without earning a...                     116   \n",
       "\n",
       "puesto                                              DBA/Database Engineer  \\\n",
       "formacion                                                                   \n",
       "Bachelor’s degree                                                      72   \n",
       "Doctoral degree                                                         2   \n",
       "I prefer not to answer                                                  7   \n",
       "Master’s degree                                                        73   \n",
       "No formal education past high school                                    4   \n",
       "Professional doctorate                                                  0   \n",
       "Some college/university study without earning a...                     13   \n",
       "\n",
       "puesto                                              Data Analyst  \\\n",
       "formacion                                                          \n",
       "Bachelor’s degree                                            893   \n",
       "Doctoral degree                                              120   \n",
       "I prefer not to answer                                        56   \n",
       "Master’s degree                                             1027   \n",
       "No formal education past high school                          37   \n",
       "Professional doctorate                                        24   \n",
       "Some college/university study without earning a...           144   \n",
       "\n",
       "puesto                                              Data Engineer  \\\n",
       "formacion                                                           \n",
       "Bachelor’s degree                                             248   \n",
       "Doctoral degree                                                33   \n",
       "I prefer not to answer                                         17   \n",
       "Master’s degree                                               309   \n",
       "No formal education past high school                           16   \n",
       "Professional doctorate                                          2   \n",
       "Some college/university study without earning a...             43   \n",
       "\n",
       "puesto                                              Data Scientist  \\\n",
       "formacion                                                            \n",
       "Bachelor’s degree                                             1089   \n",
       "Doctoral degree                                                543   \n",
       "I prefer not to answer                                          60   \n",
       "Master’s degree                                               1726   \n",
       "No formal education past high school                            30   \n",
       "Professional doctorate                                          49   \n",
       "Some college/university study without earning a...             119   \n",
       "\n",
       "puesto                                              Developer Relations/Advocacy  \\\n",
       "formacion                                                                          \n",
       "Bachelor’s degree                                                             36   \n",
       "Doctoral degree                                                                6   \n",
       "I prefer not to answer                                                         4   \n",
       "Master’s degree                                                               34   \n",
       "No formal education past high school                                           7   \n",
       "Professional doctorate                                                         3   \n",
       "Some college/university study without earning a...                             9   \n",
       "\n",
       "puesto                                              Machine Learning Engineer  \\\n",
       "formacion                                                                       \n",
       "Bachelor’s degree                                                         502   \n",
       "Doctoral degree                                                           163   \n",
       "I prefer not to answer                                                     40   \n",
       "Master’s degree                                                           656   \n",
       "No formal education past high school                                       20   \n",
       "Professional doctorate                                                     30   \n",
       "Some college/university study without earning a...                         88   \n",
       "\n",
       "puesto                                              Other  Product Manager  \\\n",
       "formacion                                                                    \n",
       "Bachelor’s degree                                     721              102   \n",
       "Doctoral degree                                       317               17   \n",
       "I prefer not to answer                                 74                6   \n",
       "Master’s degree                                      1052              168   \n",
       "No formal education past high school                   49                3   \n",
       "Professional doctorate                                 48                4   \n",
       "Some college/university study without earning a...    132               19   \n",
       "\n",
       "puesto                                              Program/Project Manager  \\\n",
       "formacion                                                                     \n",
       "Bachelor’s degree                                                       230   \n",
       "Doctoral degree                                                          82   \n",
       "I prefer not to answer                                                   23   \n",
       "Master’s degree                                                         444   \n",
       "No formal education past high school                                     18   \n",
       "Professional doctorate                                                   17   \n",
       "Some college/university study without earning a...                       35   \n",
       "\n",
       "puesto                                              Research Scientist  \\\n",
       "formacion                                                                \n",
       "Bachelor’s degree                                                  112   \n",
       "Doctoral degree                                                    862   \n",
       "I prefer not to answer                                              21   \n",
       "Master’s degree                                                    422   \n",
       "No formal education past high school                                 9   \n",
       "Professional doctorate                                              99   \n",
       "Some college/university study without earning a...                  13   \n",
       "\n",
       "puesto                                              Software Engineer  \\\n",
       "formacion                                                               \n",
       "Bachelor’s degree                                                1086   \n",
       "Doctoral degree                                                   116   \n",
       "I prefer not to answer                                             65   \n",
       "Master’s degree                                                   973   \n",
       "No formal education past high school                               44   \n",
       "Professional doctorate                                             20   \n",
       "Some college/university study without earning a...                145   \n",
       "\n",
       "puesto                                              Statistician  Student  \n",
       "formacion                                                                  \n",
       "Bachelor’s degree                                             67     3572  \n",
       "Doctoral degree                                               75      294  \n",
       "I prefer not to answer                                         5      133  \n",
       "Master’s degree                                              135     1900  \n",
       "No formal education past high school                           0      103  \n",
       "Professional doctorate                                        11       21  \n",
       "Some college/university study without earning a...            20      781  "
      ]
     },
     "execution_count": 22,
     "metadata": {},
     "output_type": "execute_result"
    }
   ],
   "source": [
    "df_crosstab = pd.crosstab(df['formacion'], \n",
    "                            df['puesto']) \n",
    "df_crosstab"
   ]
  },
  {
   "cell_type": "code",
   "execution_count": 23,
   "metadata": {},
   "outputs": [
    {
     "data": {
      "image/png": "[encoded data removed]",
      "text/plain": [
       "<Figure size 1800x432 with 1 Axes>"
      ]
     },
     "metadata": {},
     "output_type": "display_data"
    }
   ],
   "source": [
    "plt.figure( figsize=(25,6))\n",
    "\n",
    "#for ax in fig.axes:\n",
    " #x.tick_params(labelrotation=45)\n",
    "\n",
    "#for i in range(len(categoricas.columns)):\n",
    "fig = sns.countplot(x = 'puesto', data = df, hue= 'formacion')\n",
    "\n",
    "plt.xticks(rotation = 45)\n",
    "plt.show(); "
   ]
  },
  {
   "cell_type": "code",
   "execution_count": 24,
   "metadata": {},
   "outputs": [
    {
     "data": {
      "text/plain": [
       "Index(['level_0', 'index', 'time', 'age', 'gender', 'pais', 'formacion',\n",
       "       'puesto', 'experiencia_prog', 'lenguaje_top', 'exp_ml',\n",
       "       'tamaño_empresa', 'uso_ml', 'salario', 'inversion_ml',\n",
       "       'ppal_herramienta_data', 'lenguaje_prog', 'plataforma', 'plat_cursos',\n",
       "       'nubes', 'plataforma_top'],\n",
       "      dtype='object')"
      ]
     },
     "execution_count": 24,
     "metadata": {},
     "output_type": "execute_result"
    }
   ],
   "source": [
    "df.columns"
   ]
  },
  {
   "attachments": {},
   "cell_type": "markdown",
   "metadata": {},
   "source": [
    "---\n",
    "- Herramientas mas utilizadas segun los perfiles."
   ]
  },
  {
   "cell_type": "code",
   "execution_count": 25,
   "metadata": {},
   "outputs": [
    {
     "data": {
      "text/plain": [
       "Basic statistical software (Microsoft Excel, Google Sheets, etc.)       7246\n",
       "Local development environments (RStudio, JupyterLab, etc.)              7170\n",
       "Business intelligence software (Salesforce, Tableau, Spotfire, etc.)    1184\n",
       "Cloud-based data software & APIs (AWS, GCP, Azure, etc.)                 997\n",
       "Other                                                                    985\n",
       "Advanced statistical software (SPSS, SAS, etc.)                          907\n",
       "Name: ppal_herramienta_data, dtype: int64"
      ]
     },
     "execution_count": 25,
     "metadata": {},
     "output_type": "execute_result"
    }
   ],
   "source": [
    "df.ppal_herramienta_data.value_counts()"
   ]
  },
  {
   "cell_type": "code",
   "execution_count": 26,
   "metadata": {},
   "outputs": [
    {
     "data": {
      "text/plain": [
       "7484"
      ]
     },
     "execution_count": 26,
     "metadata": {},
     "output_type": "execute_result"
    }
   ],
   "source": [
    "df.ppal_herramienta_data.isnull().sum() # Ver que tratamiento hacer con los nulos de esta columna."
   ]
  },
  {
   "cell_type": "code",
   "execution_count": 27,
   "metadata": {},
   "outputs": [
    {
     "data": {
      "text/plain": [
       "(25973,)"
      ]
     },
     "execution_count": 27,
     "metadata": {},
     "output_type": "execute_result"
    }
   ],
   "source": [
    "df.ppal_herramienta_data.shape"
   ]
  },
  {
   "cell_type": "code",
   "execution_count": 28,
   "metadata": {},
   "outputs": [
    {
     "data": {
      "image/png": "[encoded data removed]",
      "text/plain": [
       "<Figure size 1800x432 with 1 Axes>"
      ]
     },
     "metadata": {},
     "output_type": "display_data"
    }
   ],
   "source": [
    "plt.figure( figsize=(25,6))\n",
    "\n",
    "#for ax in fig.axes:\n",
    " #x.tick_params(labelrotation=45)\n",
    "\n",
    "#for i in range(len(categoricas.columns)):\n",
    "fig = sns.countplot(x = 'puesto', data = df, hue= 'ppal_herramienta_data')\n",
    "\n",
    "plt.xticks(rotation = 45)\n",
    "plt.show(); "
   ]
  },
  {
   "attachments": {},
   "cell_type": "markdown",
   "metadata": {},
   "source": [
    "Vamos a anlizar el lenguaje de programacion usado por puesto."
   ]
  },
  {
   "cell_type": "code",
   "execution_count": 29,
   "metadata": {},
   "outputs": [
    {
     "data": {
      "text/plain": [
       "Python                                                      4740\n",
       "Python, SQL                                                 2374\n",
       "Python, R, SQL                                              1160\n",
       "Python, R                                                    955\n",
       "Python, C++                                                  707\n",
       "                                                            ... \n",
       " R, SQL, C, Java, MATLAB                                       1\n",
       " R, SQL, C, Java                                               1\n",
       " R, C++, Java, Javascript, MATLAB                              1\n",
       "Python, R, SQL, C++, Javascript, Julia, MATLAB                 1\n",
       "Python, R, C, C++, Java, Javascript, Julia, Bash, MATLAB       1\n",
       "Name: lenguaje_prog, Length: 825, dtype: int64"
      ]
     },
     "execution_count": 29,
     "metadata": {},
     "output_type": "execute_result"
    }
   ],
   "source": [
    "df.lenguaje_prog.value_counts()"
   ]
  },
  {
   "cell_type": "code",
   "execution_count": 30,
   "metadata": {},
   "outputs": [
    {
     "data": {
      "text/plain": [
       "1032"
      ]
     },
     "execution_count": 30,
     "metadata": {},
     "output_type": "execute_result"
    }
   ],
   "source": [
    "df[\"lenguaje_prog\"].isnull().sum()"
   ]
  },
  {
   "cell_type": "code",
   "execution_count": 31,
   "metadata": {},
   "outputs": [],
   "source": [
    "df_lenguajeprog_sinnulos = df.copy()"
   ]
  },
  {
   "cell_type": "code",
   "execution_count": 32,
   "metadata": {},
   "outputs": [],
   "source": [
    "df_lenguajeprog_sinnulos[\"lenguaje_prog\"].replace(np.nan,\"unknown\",inplace=True)"
   ]
  },
  {
   "cell_type": "code",
   "execution_count": 33,
   "metadata": {},
   "outputs": [
    {
     "data": {
      "text/plain": [
       "level_0                      0\n",
       "index                        0\n",
       "time                         0\n",
       "age                          0\n",
       "gender                       0\n",
       "pais                         0\n",
       "formacion                    0\n",
       "puesto                       0\n",
       "experiencia_prog             0\n",
       "lenguaje_top              1033\n",
       "exp_ml                    2219\n",
       "tamaño_empresa            9722\n",
       "uso_ml                   10021\n",
       "salario                  10582\n",
       "inversion_ml             10790\n",
       "ppal_herramienta_data     7484\n",
       "lenguaje_prog                0\n",
       "plataforma                1039\n",
       "plat_cursos               7841\n",
       "nubes                    16797\n",
       "plataforma_top           22846\n",
       "dtype: int64"
      ]
     },
     "execution_count": 33,
     "metadata": {},
     "output_type": "execute_result"
    }
   ],
   "source": [
    "df_lenguajeprog_sinnulos.isnull().sum()"
   ]
  },
  {
   "attachments": {},
   "cell_type": "markdown",
   "metadata": {},
   "source": [
    "Una vez recategorizados los nulos ya podemos separar la columna"
   ]
  },
  {
   "cell_type": "code",
   "execution_count": 34,
   "metadata": {},
   "outputs": [],
   "source": [
    "df_lenguajeprog_sinnulos['Lenguaje']= df_lenguajeprog_sinnulos[\"lenguaje_prog\"].apply(lambda x: x.split(',')) "
   ]
  },
  {
   "cell_type": "code",
   "execution_count": 35,
   "metadata": {},
   "outputs": [
    {
     "data": {
      "text/html": [
       "<div>\n",
       "<style scoped>\n",
       "    .dataframe tbody tr th:only-of-type {\n",
       "        vertical-align: middle;\n",
       "    }\n",
       "\n",
       "    .dataframe tbody tr th {\n",
       "        vertical-align: top;\n",
       "    }\n",
       "\n",
       "    .dataframe thead th {\n",
       "        text-align: right;\n",
       "    }\n",
       "</style>\n",
       "<table border=\"1\" class=\"dataframe\">\n",
       "  <thead>\n",
       "    <tr style=\"text-align: right;\">\n",
       "      <th></th>\n",
       "      <th>level_0</th>\n",
       "      <th>index</th>\n",
       "      <th>time</th>\n",
       "      <th>age</th>\n",
       "      <th>gender</th>\n",
       "      <th>pais</th>\n",
       "      <th>formacion</th>\n",
       "      <th>puesto</th>\n",
       "      <th>experiencia_prog</th>\n",
       "      <th>lenguaje_top</th>\n",
       "      <th>...</th>\n",
       "      <th>uso_ml</th>\n",
       "      <th>salario</th>\n",
       "      <th>inversion_ml</th>\n",
       "      <th>ppal_herramienta_data</th>\n",
       "      <th>lenguaje_prog</th>\n",
       "      <th>plataforma</th>\n",
       "      <th>plat_cursos</th>\n",
       "      <th>nubes</th>\n",
       "      <th>plataforma_top</th>\n",
       "      <th>Lenguaje</th>\n",
       "    </tr>\n",
       "  </thead>\n",
       "  <tbody>\n",
       "    <tr>\n",
       "      <th>0</th>\n",
       "      <td>0</td>\n",
       "      <td>0</td>\n",
       "      <td>910</td>\n",
       "      <td>50-54</td>\n",
       "      <td>Man</td>\n",
       "      <td>India</td>\n",
       "      <td>Bachelor’s degree</td>\n",
       "      <td>Other</td>\n",
       "      <td>5-10 years</td>\n",
       "      <td>Python</td>\n",
       "      <td>...</td>\n",
       "      <td>No (we do not use ML methods)</td>\n",
       "      <td>25,000-29,999</td>\n",
       "      <td>$100-$999</td>\n",
       "      <td>Local development environments (RStudio, Jupyt...</td>\n",
       "      <td>Python, R</td>\n",
       "      <td>Vim / Emacs</td>\n",
       "      <td>edX,Kaggle Learn Courses,DataCamp,Udacity,Udemy</td>\n",
       "      <td>GitHub , Kaggle</td>\n",
       "      <td>NaN</td>\n",
       "      <td>[Python,  R]</td>\n",
       "    </tr>\n",
       "    <tr>\n",
       "      <th>1</th>\n",
       "      <td>1</td>\n",
       "      <td>1</td>\n",
       "      <td>784</td>\n",
       "      <td>50-54</td>\n",
       "      <td>Man</td>\n",
       "      <td>Indonesia</td>\n",
       "      <td>Master’s degree</td>\n",
       "      <td>Program/Project Manager</td>\n",
       "      <td>20+ years</td>\n",
       "      <td>Python</td>\n",
       "      <td>...</td>\n",
       "      <td>We are exploring ML methods (and may one day p...</td>\n",
       "      <td>60,000-69,999</td>\n",
       "      <td>$0 ($USD)</td>\n",
       "      <td>Advanced statistical software (SPSS, SAS, etc.)</td>\n",
       "      <td>SQL, C, C++, Java</td>\n",
       "      <td>Notepad++,Jupyter Notebook</td>\n",
       "      <td>Kaggle Learn Courses,Cloud-certification progr...</td>\n",
       "      <td>NaN</td>\n",
       "      <td>NaN</td>\n",
       "      <td>[ SQL,  C,  C++,  Java]</td>\n",
       "    </tr>\n",
       "  </tbody>\n",
       "</table>\n",
       "<p>2 rows × 22 columns</p>\n",
       "</div>"
      ],
      "text/plain": [
       "   level_0  index  time    age gender       pais          formacion  \\\n",
       "0        0      0   910  50-54    Man      India  Bachelor’s degree   \n",
       "1        1      1   784  50-54    Man  Indonesia    Master’s degree   \n",
       "\n",
       "                    puesto experiencia_prog lenguaje_top  ...  \\\n",
       "0                    Other       5-10 years       Python  ...   \n",
       "1  Program/Project Manager        20+ years       Python  ...   \n",
       "\n",
       "                                              uso_ml        salario  \\\n",
       "0                      No (we do not use ML methods)  25,000-29,999   \n",
       "1  We are exploring ML methods (and may one day p...  60,000-69,999   \n",
       "\n",
       "  inversion_ml                              ppal_herramienta_data  \\\n",
       "0    $100-$999  Local development environments (RStudio, Jupyt...   \n",
       "1    $0 ($USD)    Advanced statistical software (SPSS, SAS, etc.)   \n",
       "\n",
       "        lenguaje_prog                   plataforma  \\\n",
       "0           Python, R                  Vim / Emacs   \n",
       "1   SQL, C, C++, Java   Notepad++,Jupyter Notebook   \n",
       "\n",
       "                                         plat_cursos              nubes  \\\n",
       "0    edX,Kaggle Learn Courses,DataCamp,Udacity,Udemy   GitHub , Kaggle    \n",
       "1  Kaggle Learn Courses,Cloud-certification progr...                NaN   \n",
       "\n",
       "  plataforma_top                 Lenguaje  \n",
       "0            NaN             [Python,  R]  \n",
       "1            NaN  [ SQL,  C,  C++,  Java]  \n",
       "\n",
       "[2 rows x 22 columns]"
      ]
     },
     "execution_count": 35,
     "metadata": {},
     "output_type": "execute_result"
    }
   ],
   "source": [
    "df_lenguajeprog_sinnulos.head(2)"
   ]
  },
  {
   "attachments": {},
   "cell_type": "markdown",
   "metadata": {},
   "source": [
    "Esta funcion nos ha creado una sola columna con una lista de valores."
   ]
  },
  {
   "attachments": {},
   "cell_type": "markdown",
   "metadata": {},
   "source": [
    "Decidimos separar cada respuesta en  una columna separada."
   ]
  },
  {
   "cell_type": "code",
   "execution_count": 36,
   "metadata": {},
   "outputs": [],
   "source": [
    "df_lenguajeprog_sinnulos[['1','2','3','4','5','6','7','8','9','10','11','12']] = df_lenguajeprog_sinnulos[\"lenguaje_prog\"].str.split(',', expand=True, n=-1)"
   ]
  },
  {
   "cell_type": "code",
   "execution_count": 37,
   "metadata": {},
   "outputs": [],
   "source": [
    "pd.options.display.max_columns=None"
   ]
  },
  {
   "cell_type": "code",
   "execution_count": 38,
   "metadata": {},
   "outputs": [
    {
     "data": {
      "text/html": [
       "<div>\n",
       "<style scoped>\n",
       "    .dataframe tbody tr th:only-of-type {\n",
       "        vertical-align: middle;\n",
       "    }\n",
       "\n",
       "    .dataframe tbody tr th {\n",
       "        vertical-align: top;\n",
       "    }\n",
       "\n",
       "    .dataframe thead th {\n",
       "        text-align: right;\n",
       "    }\n",
       "</style>\n",
       "<table border=\"1\" class=\"dataframe\">\n",
       "  <thead>\n",
       "    <tr style=\"text-align: right;\">\n",
       "      <th></th>\n",
       "      <th>level_0</th>\n",
       "      <th>index</th>\n",
       "      <th>time</th>\n",
       "      <th>age</th>\n",
       "      <th>gender</th>\n",
       "      <th>pais</th>\n",
       "      <th>formacion</th>\n",
       "      <th>puesto</th>\n",
       "      <th>experiencia_prog</th>\n",
       "      <th>lenguaje_top</th>\n",
       "      <th>exp_ml</th>\n",
       "      <th>tamaño_empresa</th>\n",
       "      <th>uso_ml</th>\n",
       "      <th>salario</th>\n",
       "      <th>inversion_ml</th>\n",
       "      <th>ppal_herramienta_data</th>\n",
       "      <th>lenguaje_prog</th>\n",
       "      <th>plataforma</th>\n",
       "      <th>plat_cursos</th>\n",
       "      <th>nubes</th>\n",
       "      <th>plataforma_top</th>\n",
       "      <th>Lenguaje</th>\n",
       "      <th>1</th>\n",
       "      <th>2</th>\n",
       "      <th>3</th>\n",
       "      <th>4</th>\n",
       "      <th>5</th>\n",
       "      <th>6</th>\n",
       "      <th>7</th>\n",
       "      <th>8</th>\n",
       "      <th>9</th>\n",
       "      <th>10</th>\n",
       "      <th>11</th>\n",
       "      <th>12</th>\n",
       "    </tr>\n",
       "  </thead>\n",
       "  <tbody>\n",
       "    <tr>\n",
       "      <th>23446</th>\n",
       "      <td>23446</td>\n",
       "      <td>23446</td>\n",
       "      <td>1065</td>\n",
       "      <td>40-44</td>\n",
       "      <td>Man</td>\n",
       "      <td>India</td>\n",
       "      <td>Professional doctorate</td>\n",
       "      <td>Program/Project Manager</td>\n",
       "      <td>10-20 years</td>\n",
       "      <td>Python</td>\n",
       "      <td>&lt; 1 year</td>\n",
       "      <td>10,000 or more employees</td>\n",
       "      <td>No (we do not use ML methods)</td>\n",
       "      <td>20,000-24,999</td>\n",
       "      <td>$100-$999</td>\n",
       "      <td>NaN</td>\n",
       "      <td>Other</td>\n",
       "      <td>Jupyter (JupyterLab, Jupyter Notebooks, etc) ,...</td>\n",
       "      <td>NaN</td>\n",
       "      <td>NaN</td>\n",
       "      <td>Amazon Web Services (AWS)</td>\n",
       "      <td>[ Other]</td>\n",
       "      <td>Other</td>\n",
       "      <td>None</td>\n",
       "      <td>None</td>\n",
       "      <td>None</td>\n",
       "      <td>None</td>\n",
       "      <td>None</td>\n",
       "      <td>None</td>\n",
       "      <td>None</td>\n",
       "      <td>None</td>\n",
       "      <td>None</td>\n",
       "      <td>None</td>\n",
       "      <td>None</td>\n",
       "    </tr>\n",
       "    <tr>\n",
       "      <th>25169</th>\n",
       "      <td>25169</td>\n",
       "      <td>25169</td>\n",
       "      <td>638</td>\n",
       "      <td>50-54</td>\n",
       "      <td>Woman</td>\n",
       "      <td>United States of America</td>\n",
       "      <td>Master’s degree</td>\n",
       "      <td>Data Scientist</td>\n",
       "      <td>10-20 years</td>\n",
       "      <td>Python</td>\n",
       "      <td>4-5 years</td>\n",
       "      <td>10,000 or more employees</td>\n",
       "      <td>We recently started using ML methods (i.e., mo...</td>\n",
       "      <td>150,000-199,999</td>\n",
       "      <td>$100,000 or more ($USD)</td>\n",
       "      <td>Local development environments (RStudio, Jupyt...</td>\n",
       "      <td>Python, R, SQL, Bash</td>\n",
       "      <td>Jupyter (JupyterLab, Jupyter Notebooks, etc) ,...</td>\n",
       "      <td>Kaggle Learn Courses,DataCamp,Cloud-certificat...</td>\n",
       "      <td>I do not share my work publicly</td>\n",
       "      <td>Amazon Web Services (AWS)</td>\n",
       "      <td>[Python,  R,  SQL,  Bash]</td>\n",
       "      <td>Python</td>\n",
       "      <td>R</td>\n",
       "      <td>SQL</td>\n",
       "      <td>Bash</td>\n",
       "      <td>None</td>\n",
       "      <td>None</td>\n",
       "      <td>None</td>\n",
       "      <td>None</td>\n",
       "      <td>None</td>\n",
       "      <td>None</td>\n",
       "      <td>None</td>\n",
       "      <td>None</td>\n",
       "    </tr>\n",
       "  </tbody>\n",
       "</table>\n",
       "</div>"
      ],
      "text/plain": [
       "       level_0  index  time    age gender                      pais  \\\n",
       "23446    23446  23446  1065  40-44    Man                     India   \n",
       "25169    25169  25169   638  50-54  Woman  United States of America   \n",
       "\n",
       "                    formacion                   puesto experiencia_prog  \\\n",
       "23446  Professional doctorate  Program/Project Manager      10-20 years   \n",
       "25169         Master’s degree           Data Scientist      10-20 years   \n",
       "\n",
       "      lenguaje_top     exp_ml            tamaño_empresa  \\\n",
       "23446       Python   < 1 year  10,000 or more employees   \n",
       "25169       Python  4-5 years  10,000 or more employees   \n",
       "\n",
       "                                                  uso_ml          salario  \\\n",
       "23446                      No (we do not use ML methods)    20,000-24,999   \n",
       "25169  We recently started using ML methods (i.e., mo...  150,000-199,999   \n",
       "\n",
       "                  inversion_ml  \\\n",
       "23446                $100-$999   \n",
       "25169  $100,000 or more ($USD)   \n",
       "\n",
       "                                   ppal_herramienta_data  \\\n",
       "23446                                                NaN   \n",
       "25169  Local development environments (RStudio, Jupyt...   \n",
       "\n",
       "              lenguaje_prog  \\\n",
       "23446                 Other   \n",
       "25169  Python, R, SQL, Bash   \n",
       "\n",
       "                                              plataforma  \\\n",
       "23446  Jupyter (JupyterLab, Jupyter Notebooks, etc) ,...   \n",
       "25169  Jupyter (JupyterLab, Jupyter Notebooks, etc) ,...   \n",
       "\n",
       "                                             plat_cursos  \\\n",
       "23446                                                NaN   \n",
       "25169  Kaggle Learn Courses,DataCamp,Cloud-certificat...   \n",
       "\n",
       "                                 nubes               plataforma_top  \\\n",
       "23446                              NaN   Amazon Web Services (AWS)    \n",
       "25169  I do not share my work publicly   Amazon Web Services (AWS)    \n",
       "\n",
       "                        Lenguaje       1     2     3      4     5     6     7  \\\n",
       "23446                   [ Other]   Other  None  None   None  None  None  None   \n",
       "25169  [Python,  R,  SQL,  Bash]  Python     R   SQL   Bash  None  None  None   \n",
       "\n",
       "          8     9    10    11    12  \n",
       "23446  None  None  None  None  None  \n",
       "25169  None  None  None  None  None  "
      ]
     },
     "execution_count": 38,
     "metadata": {},
     "output_type": "execute_result"
    }
   ],
   "source": [
    "df_lenguajeprog_sinnulos.sample(2)"
   ]
  },
  {
   "cell_type": "code",
   "execution_count": 39,
   "metadata": {},
   "outputs": [
    {
     "data": {
      "text/plain": [
       "level_0                      0\n",
       "index                        0\n",
       "time                         0\n",
       "age                          0\n",
       "gender                       0\n",
       "pais                         0\n",
       "formacion                    0\n",
       "puesto                       0\n",
       "experiencia_prog             0\n",
       "lenguaje_top              1033\n",
       "exp_ml                    2219\n",
       "tamaño_empresa            9722\n",
       "uso_ml                   10021\n",
       "salario                  10582\n",
       "inversion_ml             10790\n",
       "ppal_herramienta_data     7484\n",
       "lenguaje_prog                0\n",
       "plataforma                1039\n",
       "plat_cursos               7841\n",
       "nubes                    16797\n",
       "plataforma_top           22846\n",
       "Lenguaje                     0\n",
       "1                            0\n",
       "2                         7373\n",
       "3                        14439\n",
       "4                        20102\n",
       "5                        23167\n",
       "6                        24703\n",
       "7                        25428\n",
       "8                        25776\n",
       "9                        25896\n",
       "10                       25945\n",
       "11                       25957\n",
       "12                       25971\n",
       "dtype: int64"
      ]
     },
     "execution_count": 39,
     "metadata": {},
     "output_type": "execute_result"
    }
   ],
   "source": [
    "df_lenguajeprog_sinnulos.isnull().sum()"
   ]
  },
  {
   "cell_type": "code",
   "execution_count": 40,
   "metadata": {},
   "outputs": [
    {
     "data": {
      "text/plain": [
       "0    Python\n",
       "1       SQL\n",
       "2    Python\n",
       "Name: 1, dtype: object"
      ]
     },
     "execution_count": 40,
     "metadata": {},
     "output_type": "execute_result"
    }
   ],
   "source": [
    "df_lenguajeprog_sinnulos[\"1\"][0:3]"
   ]
  },
  {
   "cell_type": "code",
   "execution_count": 41,
   "metadata": {},
   "outputs": [
    {
     "data": {
      "text/plain": [
       "Python         21860\n",
       "unknown         1032\n",
       " SQL             850\n",
       " R               757\n",
       " C               350\n",
       " None            319\n",
       " Other           237\n",
       " C++             178\n",
       " Java            164\n",
       " Javascript      119\n",
       " MATLAB           71\n",
       " Bash             15\n",
       " Swift            13\n",
       " Julia             8\n",
       "Name: 1, dtype: int64"
      ]
     },
     "execution_count": 41,
     "metadata": {},
     "output_type": "execute_result"
    }
   ],
   "source": [
    "df_lenguajeprog_sinnulos[\"1\"].value_counts()"
   ]
  },
  {
   "cell_type": "code",
   "execution_count": 42,
   "metadata": {},
   "outputs": [
    {
     "data": {
      "text/plain": [
       " SQL           7128\n",
       " R             4577\n",
       " C             2090\n",
       " C++           1648\n",
       " Java           945\n",
       " Javascript     774\n",
       " MATLAB         567\n",
       " Other          499\n",
       " Bash           289\n",
       " Julia           53\n",
       " Swift           30\n",
       "Name: 2, dtype: int64"
      ]
     },
     "execution_count": 42,
     "metadata": {},
     "output_type": "execute_result"
    }
   ],
   "source": [
    "df_lenguajeprog_sinnulos[\"2\"].value_counts()"
   ]
  },
  {
   "cell_type": "code",
   "execution_count": 43,
   "metadata": {},
   "outputs": [
    {
     "data": {
      "text/plain": [
       " SQL           2778\n",
       " C++           2074\n",
       " C             1709\n",
       " Java          1516\n",
       " Javascript    1227\n",
       " MATLAB         775\n",
       " Bash           683\n",
       " Other          659\n",
       " Julia           73\n",
       " Swift           40\n",
       "Name: 3, dtype: int64"
      ]
     },
     "execution_count": 43,
     "metadata": {},
     "output_type": "execute_result"
    }
   ],
   "source": [
    "df_lenguajeprog_sinnulos[\"3\"].value_counts()\n"
   ]
  },
  {
   "cell_type": "code",
   "execution_count": 44,
   "metadata": {},
   "outputs": [
    {
     "data": {
      "text/plain": [
       " C++           1253\n",
       " Java          1153\n",
       " Javascript    1021\n",
       " MATLAB         622\n",
       " Bash           576\n",
       " Other          568\n",
       " C              560\n",
       " Julia           67\n",
       " Swift           51\n",
       "Name: 4, dtype: int64"
      ]
     },
     "execution_count": 44,
     "metadata": {},
     "output_type": "execute_result"
    }
   ],
   "source": [
    "df_lenguajeprog_sinnulos[\"4\"].value_counts()\n"
   ]
  },
  {
   "cell_type": "code",
   "execution_count": 45,
   "metadata": {},
   "outputs": [
    {
     "data": {
      "text/plain": [
       " Java          743\n",
       " Javascript    594\n",
       " MATLAB        404\n",
       " C++           382\n",
       " Other         306\n",
       " Bash          300\n",
       " Julia          45\n",
       " Swift          32\n",
       "Name: 5, dtype: int64"
      ]
     },
     "execution_count": 45,
     "metadata": {},
     "output_type": "execute_result"
    }
   ],
   "source": [
    "df_lenguajeprog_sinnulos[\"5\"].value_counts()"
   ]
  },
  {
   "cell_type": "code",
   "execution_count": 46,
   "metadata": {},
   "outputs": [
    {
     "data": {
      "text/plain": [
       "Index(['level_0', 'index', 'time', 'age', 'gender', 'pais', 'formacion',\n",
       "       'puesto', 'experiencia_prog', 'lenguaje_top', 'exp_ml',\n",
       "       'tamaño_empresa', 'uso_ml', 'salario', 'inversion_ml',\n",
       "       'ppal_herramienta_data', 'lenguaje_prog', 'plataforma', 'plat_cursos',\n",
       "       'nubes', 'plataforma_top', 'Lenguaje', '1', '2', '3', '4', '5', '6',\n",
       "       '7', '8', '9', '10', '11', '12'],\n",
       "      dtype='object')"
      ]
     },
     "execution_count": 46,
     "metadata": {},
     "output_type": "execute_result"
    }
   ],
   "source": [
    "df_lenguajeprog_sinnulos.columns"
   ]
  },
  {
   "attachments": {},
   "cell_type": "markdown",
   "metadata": {},
   "source": [
    "---"
   ]
  },
  {
   "cell_type": "code",
   "execution_count": 47,
   "metadata": {},
   "outputs": [],
   "source": [
    "df_explode =df_lenguajeprog_sinnulos.explode('Lenguaje')"
   ]
  },
  {
   "cell_type": "code",
   "execution_count": 48,
   "metadata": {},
   "outputs": [
    {
     "data": {
      "text/html": [
       "<div>\n",
       "<style scoped>\n",
       "    .dataframe tbody tr th:only-of-type {\n",
       "        vertical-align: middle;\n",
       "    }\n",
       "\n",
       "    .dataframe tbody tr th {\n",
       "        vertical-align: top;\n",
       "    }\n",
       "\n",
       "    .dataframe thead th {\n",
       "        text-align: right;\n",
       "    }\n",
       "</style>\n",
       "<table border=\"1\" class=\"dataframe\">\n",
       "  <thead>\n",
       "    <tr style=\"text-align: right;\">\n",
       "      <th></th>\n",
       "      <th>Lenguaje</th>\n",
       "    </tr>\n",
       "    <tr>\n",
       "      <th>Lenguaje</th>\n",
       "      <th></th>\n",
       "    </tr>\n",
       "  </thead>\n",
       "  <tbody>\n",
       "    <tr>\n",
       "      <th>Bash</th>\n",
       "      <td>2216</td>\n",
       "    </tr>\n",
       "    <tr>\n",
       "      <th>C</th>\n",
       "      <td>4709</td>\n",
       "    </tr>\n",
       "    <tr>\n",
       "      <th>C++</th>\n",
       "      <td>5535</td>\n",
       "    </tr>\n",
       "    <tr>\n",
       "      <th>Java</th>\n",
       "      <td>4769</td>\n",
       "    </tr>\n",
       "    <tr>\n",
       "      <th>Javascript</th>\n",
       "      <td>4332</td>\n",
       "    </tr>\n",
       "    <tr>\n",
       "      <th>Julia</th>\n",
       "      <td>305</td>\n",
       "    </tr>\n",
       "    <tr>\n",
       "      <th>MATLAB</th>\n",
       "      <td>2935</td>\n",
       "    </tr>\n",
       "    <tr>\n",
       "      <th>None</th>\n",
       "      <td>319</td>\n",
       "    </tr>\n",
       "    <tr>\n",
       "      <th>Other</th>\n",
       "      <td>2575</td>\n",
       "    </tr>\n",
       "    <tr>\n",
       "      <th>R</th>\n",
       "      <td>5334</td>\n",
       "    </tr>\n",
       "    <tr>\n",
       "      <th>SQL</th>\n",
       "      <td>10756</td>\n",
       "    </tr>\n",
       "    <tr>\n",
       "      <th>Swift</th>\n",
       "      <td>242</td>\n",
       "    </tr>\n",
       "    <tr>\n",
       "      <th>Python</th>\n",
       "      <td>21860</td>\n",
       "    </tr>\n",
       "    <tr>\n",
       "      <th>unknown</th>\n",
       "      <td>1032</td>\n",
       "    </tr>\n",
       "  </tbody>\n",
       "</table>\n",
       "</div>"
      ],
      "text/plain": [
       "             Lenguaje\n",
       "Lenguaje             \n",
       " Bash            2216\n",
       " C               4709\n",
       " C++             5535\n",
       " Java            4769\n",
       " Javascript      4332\n",
       " Julia            305\n",
       " MATLAB          2935\n",
       " None             319\n",
       " Other           2575\n",
       " R               5334\n",
       " SQL            10756\n",
       " Swift            242\n",
       "Python          21860\n",
       "unknown          1032"
      ]
     },
     "execution_count": 48,
     "metadata": {},
     "output_type": "execute_result"
    }
   ],
   "source": [
    "df_group_leng =pd.DataFrame(df_explode.groupby('Lenguaje')['Lenguaje'].count())\n",
    "df_group_leng"
   ]
  },
  {
   "cell_type": "code",
   "execution_count": 49,
   "metadata": {},
   "outputs": [],
   "source": [
    "df_group_leng.rename(columns={'Lenguaje':'conteo_eleccion'}, inplace= True)"
   ]
  },
  {
   "cell_type": "code",
   "execution_count": 50,
   "metadata": {},
   "outputs": [],
   "source": [
    "df_group_leng.reset_index(inplace=True)"
   ]
  },
  {
   "cell_type": "code",
   "execution_count": 51,
   "metadata": {},
   "outputs": [
    {
     "data": {
      "text/html": [
       "<div>\n",
       "<style scoped>\n",
       "    .dataframe tbody tr th:only-of-type {\n",
       "        vertical-align: middle;\n",
       "    }\n",
       "\n",
       "    .dataframe tbody tr th {\n",
       "        vertical-align: top;\n",
       "    }\n",
       "\n",
       "    .dataframe thead th {\n",
       "        text-align: right;\n",
       "    }\n",
       "</style>\n",
       "<table border=\"1\" class=\"dataframe\">\n",
       "  <thead>\n",
       "    <tr style=\"text-align: right;\">\n",
       "      <th></th>\n",
       "      <th>Lenguaje</th>\n",
       "      <th>conteo_eleccion</th>\n",
       "    </tr>\n",
       "  </thead>\n",
       "  <tbody>\n",
       "    <tr>\n",
       "      <th>0</th>\n",
       "      <td>Bash</td>\n",
       "      <td>2216</td>\n",
       "    </tr>\n",
       "    <tr>\n",
       "      <th>1</th>\n",
       "      <td>C</td>\n",
       "      <td>4709</td>\n",
       "    </tr>\n",
       "    <tr>\n",
       "      <th>2</th>\n",
       "      <td>C++</td>\n",
       "      <td>5535</td>\n",
       "    </tr>\n",
       "    <tr>\n",
       "      <th>3</th>\n",
       "      <td>Java</td>\n",
       "      <td>4769</td>\n",
       "    </tr>\n",
       "    <tr>\n",
       "      <th>4</th>\n",
       "      <td>Javascript</td>\n",
       "      <td>4332</td>\n",
       "    </tr>\n",
       "    <tr>\n",
       "      <th>5</th>\n",
       "      <td>Julia</td>\n",
       "      <td>305</td>\n",
       "    </tr>\n",
       "    <tr>\n",
       "      <th>6</th>\n",
       "      <td>MATLAB</td>\n",
       "      <td>2935</td>\n",
       "    </tr>\n",
       "    <tr>\n",
       "      <th>7</th>\n",
       "      <td>None</td>\n",
       "      <td>319</td>\n",
       "    </tr>\n",
       "    <tr>\n",
       "      <th>8</th>\n",
       "      <td>Other</td>\n",
       "      <td>2575</td>\n",
       "    </tr>\n",
       "    <tr>\n",
       "      <th>9</th>\n",
       "      <td>R</td>\n",
       "      <td>5334</td>\n",
       "    </tr>\n",
       "    <tr>\n",
       "      <th>10</th>\n",
       "      <td>SQL</td>\n",
       "      <td>10756</td>\n",
       "    </tr>\n",
       "    <tr>\n",
       "      <th>11</th>\n",
       "      <td>Swift</td>\n",
       "      <td>242</td>\n",
       "    </tr>\n",
       "    <tr>\n",
       "      <th>12</th>\n",
       "      <td>Python</td>\n",
       "      <td>21860</td>\n",
       "    </tr>\n",
       "    <tr>\n",
       "      <th>13</th>\n",
       "      <td>unknown</td>\n",
       "      <td>1032</td>\n",
       "    </tr>\n",
       "  </tbody>\n",
       "</table>\n",
       "</div>"
      ],
      "text/plain": [
       "       Lenguaje  conteo_eleccion\n",
       "0          Bash             2216\n",
       "1             C             4709\n",
       "2           C++             5535\n",
       "3          Java             4769\n",
       "4    Javascript             4332\n",
       "5         Julia              305\n",
       "6        MATLAB             2935\n",
       "7          None              319\n",
       "8         Other             2575\n",
       "9             R             5334\n",
       "10          SQL            10756\n",
       "11        Swift              242\n",
       "12       Python            21860\n",
       "13      unknown             1032"
      ]
     },
     "execution_count": 51,
     "metadata": {},
     "output_type": "execute_result"
    }
   ],
   "source": [
    "df_group_leng"
   ]
  },
  {
   "cell_type": "code",
   "execution_count": 52,
   "metadata": {},
   "outputs": [
    {
     "data": {
      "image/png": "[encoded data removed]",
      "text/plain": [
       "<Figure size 432x288 with 1 Axes>"
      ]
     },
     "metadata": {},
     "output_type": "display_data"
    }
   ],
   "source": [
    "# Hacemos la grafica pero para el recuento total de registros respecto del explode.\n",
    "plt.figure()\n",
    "\n",
    "colors = sns.color_palette('pastel')[0:13]\n",
    "\n",
    "plt.pie(df_group_leng['conteo_eleccion'],colors= colors, labels=df_group_leng[\"Lenguaje\"], autopct= '%.0f%%', radius= 3)\n",
    "\n",
    "plt.title('Eleccion de lenguaje de programacion')\n",
    "\n",
    "plt.show();"
   ]
  },
  {
   "attachments": {},
   "cell_type": "markdown",
   "metadata": {},
   "source": [
    "---"
   ]
  },
  {
   "attachments": {},
   "cell_type": "markdown",
   "metadata": {},
   "source": [
    "Vamos a hacer el analisis pero respecto de los registros del DataFrame original sin tener en cuenta el explode.\n"
   ]
  },
  {
   "cell_type": "code",
   "execution_count": 53,
   "metadata": {},
   "outputs": [
    {
     "data": {
      "text/plain": [
       "25973"
      ]
     },
     "execution_count": 53,
     "metadata": {},
     "output_type": "execute_result"
    }
   ],
   "source": [
    "total=df_lenguajeprog_sinnulos.shape[0]\n",
    "total"
   ]
  },
  {
   "cell_type": "code",
   "execution_count": 54,
   "metadata": {},
   "outputs": [],
   "source": [
    "def porcentajes (x):\n",
    "    return round((x/total)*100, 2)"
   ]
  },
  {
   "cell_type": "code",
   "execution_count": 55,
   "metadata": {},
   "outputs": [],
   "source": [
    "df_group_leng['porcentaje']= df_group_leng['conteo_eleccion'].apply(porcentajes)"
   ]
  },
  {
   "cell_type": "code",
   "execution_count": 56,
   "metadata": {},
   "outputs": [
    {
     "data": {
      "text/html": [
       "<div>\n",
       "<style scoped>\n",
       "    .dataframe tbody tr th:only-of-type {\n",
       "        vertical-align: middle;\n",
       "    }\n",
       "\n",
       "    .dataframe tbody tr th {\n",
       "        vertical-align: top;\n",
       "    }\n",
       "\n",
       "    .dataframe thead th {\n",
       "        text-align: right;\n",
       "    }\n",
       "</style>\n",
       "<table border=\"1\" class=\"dataframe\">\n",
       "  <thead>\n",
       "    <tr style=\"text-align: right;\">\n",
       "      <th></th>\n",
       "      <th>Lenguaje</th>\n",
       "      <th>conteo_eleccion</th>\n",
       "      <th>porcentaje</th>\n",
       "    </tr>\n",
       "  </thead>\n",
       "  <tbody>\n",
       "    <tr>\n",
       "      <th>0</th>\n",
       "      <td>Bash</td>\n",
       "      <td>2216</td>\n",
       "      <td>8.53</td>\n",
       "    </tr>\n",
       "    <tr>\n",
       "      <th>1</th>\n",
       "      <td>C</td>\n",
       "      <td>4709</td>\n",
       "      <td>18.13</td>\n",
       "    </tr>\n",
       "    <tr>\n",
       "      <th>2</th>\n",
       "      <td>C++</td>\n",
       "      <td>5535</td>\n",
       "      <td>21.31</td>\n",
       "    </tr>\n",
       "    <tr>\n",
       "      <th>3</th>\n",
       "      <td>Java</td>\n",
       "      <td>4769</td>\n",
       "      <td>18.36</td>\n",
       "    </tr>\n",
       "    <tr>\n",
       "      <th>4</th>\n",
       "      <td>Javascript</td>\n",
       "      <td>4332</td>\n",
       "      <td>16.68</td>\n",
       "    </tr>\n",
       "    <tr>\n",
       "      <th>5</th>\n",
       "      <td>Julia</td>\n",
       "      <td>305</td>\n",
       "      <td>1.17</td>\n",
       "    </tr>\n",
       "    <tr>\n",
       "      <th>6</th>\n",
       "      <td>MATLAB</td>\n",
       "      <td>2935</td>\n",
       "      <td>11.30</td>\n",
       "    </tr>\n",
       "    <tr>\n",
       "      <th>7</th>\n",
       "      <td>None</td>\n",
       "      <td>319</td>\n",
       "      <td>1.23</td>\n",
       "    </tr>\n",
       "    <tr>\n",
       "      <th>8</th>\n",
       "      <td>Other</td>\n",
       "      <td>2575</td>\n",
       "      <td>9.91</td>\n",
       "    </tr>\n",
       "    <tr>\n",
       "      <th>9</th>\n",
       "      <td>R</td>\n",
       "      <td>5334</td>\n",
       "      <td>20.54</td>\n",
       "    </tr>\n",
       "    <tr>\n",
       "      <th>10</th>\n",
       "      <td>SQL</td>\n",
       "      <td>10756</td>\n",
       "      <td>41.41</td>\n",
       "    </tr>\n",
       "    <tr>\n",
       "      <th>11</th>\n",
       "      <td>Swift</td>\n",
       "      <td>242</td>\n",
       "      <td>0.93</td>\n",
       "    </tr>\n",
       "    <tr>\n",
       "      <th>12</th>\n",
       "      <td>Python</td>\n",
       "      <td>21860</td>\n",
       "      <td>84.16</td>\n",
       "    </tr>\n",
       "    <tr>\n",
       "      <th>13</th>\n",
       "      <td>unknown</td>\n",
       "      <td>1032</td>\n",
       "      <td>3.97</td>\n",
       "    </tr>\n",
       "  </tbody>\n",
       "</table>\n",
       "</div>"
      ],
      "text/plain": [
       "       Lenguaje  conteo_eleccion  porcentaje\n",
       "0          Bash             2216        8.53\n",
       "1             C             4709       18.13\n",
       "2           C++             5535       21.31\n",
       "3          Java             4769       18.36\n",
       "4    Javascript             4332       16.68\n",
       "5         Julia              305        1.17\n",
       "6        MATLAB             2935       11.30\n",
       "7          None              319        1.23\n",
       "8         Other             2575        9.91\n",
       "9             R             5334       20.54\n",
       "10          SQL            10756       41.41\n",
       "11        Swift              242        0.93\n",
       "12       Python            21860       84.16\n",
       "13      unknown             1032        3.97"
      ]
     },
     "execution_count": 56,
     "metadata": {},
     "output_type": "execute_result"
    }
   ],
   "source": [
    "df_group_leng"
   ]
  },
  {
   "cell_type": "code",
   "execution_count": 57,
   "metadata": {},
   "outputs": [
    {
     "data": {
      "text/plain": [
       "Lenguaje            object\n",
       "conteo_eleccion      int64\n",
       "porcentaje         float64\n",
       "dtype: object"
      ]
     },
     "execution_count": 57,
     "metadata": {},
     "output_type": "execute_result"
    }
   ],
   "source": [
    "df_group_leng.dtypes"
   ]
  },
  {
   "cell_type": "code",
   "execution_count": 58,
   "metadata": {},
   "outputs": [
    {
     "data": {
      "image/png": "[encoded data removed]",
      "text/plain": [
       "<Figure size 1800x432 with 1 Axes>"
      ]
     },
     "metadata": {},
     "output_type": "display_data"
    }
   ],
   "source": [
    "\n",
    "plt.figure( figsize=(25,6))\n",
    "\n",
    "#for ax in fig.axes:\n",
    " #x.tick_params(labelrotation=45)\n",
    "\n",
    "sns.set_color_codes(\"pastel\")\n",
    "\n",
    "ordenado =df_group_leng.sort_values(\"porcentaje\", ascending=False)\n",
    "\n",
    "#for i in range(len(categoricas.columns)):\n",
    "fig = sns.barplot(x = 'porcentaje', y= 'Lenguaje', data = ordenado, edgecolor = 'black')\n",
    "\n",
    "sns.set(font = \"serif\")\n",
    "\n",
    "plt.title('Porcentaje de uso de lenguaje de programacion')\n",
    "\n",
    "plt.xticks(rotation = 45)\n",
    "plt.show(); "
   ]
  },
  {
   "attachments": {},
   "cell_type": "markdown",
   "metadata": {},
   "source": [
    "Vemos que realizar una comparacion entre variables categoricas con el dataframe que ya tiene agrupado por lenguaje no nos sirve, por lo que vamos a trabajar directamente sobre el df_explode que tiene todos los registros."
   ]
  },
  {
   "cell_type": "code",
   "execution_count": 59,
   "metadata": {},
   "outputs": [
    {
     "data": {
      "text/plain": [
       "Index(['level_0', 'index', 'time', 'age', 'gender', 'pais', 'formacion',\n",
       "       'puesto', 'experiencia_prog', 'lenguaje_top', 'exp_ml',\n",
       "       'tamaño_empresa', 'uso_ml', 'salario', 'inversion_ml',\n",
       "       'ppal_herramienta_data', 'lenguaje_prog', 'plataforma', 'plat_cursos',\n",
       "       'nubes', 'plataforma_top', 'Lenguaje', '1', '2', '3', '4', '5', '6',\n",
       "       '7', '8', '9', '10', '11', '12'],\n",
       "      dtype='object')"
      ]
     },
     "execution_count": 59,
     "metadata": {},
     "output_type": "execute_result"
    }
   ],
   "source": [
    "df_explode.columns"
   ]
  },
  {
   "cell_type": "code",
   "execution_count": 60,
   "metadata": {},
   "outputs": [
    {
     "data": {
      "text/html": [
       "<div>\n",
       "<style scoped>\n",
       "    .dataframe tbody tr th:only-of-type {\n",
       "        vertical-align: middle;\n",
       "    }\n",
       "\n",
       "    .dataframe tbody tr th {\n",
       "        vertical-align: top;\n",
       "    }\n",
       "\n",
       "    .dataframe thead th {\n",
       "        text-align: right;\n",
       "    }\n",
       "</style>\n",
       "<table border=\"1\" class=\"dataframe\">\n",
       "  <thead>\n",
       "    <tr style=\"text-align: right;\">\n",
       "      <th></th>\n",
       "      <th>gender</th>\n",
       "      <th>puesto</th>\n",
       "      <th>formacion</th>\n",
       "      <th>experiencia_prog</th>\n",
       "      <th>Lenguaje</th>\n",
       "    </tr>\n",
       "  </thead>\n",
       "  <tbody>\n",
       "    <tr>\n",
       "      <th>0</th>\n",
       "      <td>Man</td>\n",
       "      <td>Other</td>\n",
       "      <td>Bachelor’s degree</td>\n",
       "      <td>5-10 years</td>\n",
       "      <td>Python</td>\n",
       "    </tr>\n",
       "    <tr>\n",
       "      <th>0</th>\n",
       "      <td>Man</td>\n",
       "      <td>Other</td>\n",
       "      <td>Bachelor’s degree</td>\n",
       "      <td>5-10 years</td>\n",
       "      <td>R</td>\n",
       "    </tr>\n",
       "    <tr>\n",
       "      <th>1</th>\n",
       "      <td>Man</td>\n",
       "      <td>Program/Project Manager</td>\n",
       "      <td>Master’s degree</td>\n",
       "      <td>20+ years</td>\n",
       "      <td>SQL</td>\n",
       "    </tr>\n",
       "    <tr>\n",
       "      <th>1</th>\n",
       "      <td>Man</td>\n",
       "      <td>Program/Project Manager</td>\n",
       "      <td>Master’s degree</td>\n",
       "      <td>20+ years</td>\n",
       "      <td>C</td>\n",
       "    </tr>\n",
       "    <tr>\n",
       "      <th>1</th>\n",
       "      <td>Man</td>\n",
       "      <td>Program/Project Manager</td>\n",
       "      <td>Master’s degree</td>\n",
       "      <td>20+ years</td>\n",
       "      <td>C++</td>\n",
       "    </tr>\n",
       "    <tr>\n",
       "      <th>...</th>\n",
       "      <td>...</td>\n",
       "      <td>...</td>\n",
       "      <td>...</td>\n",
       "      <td>...</td>\n",
       "      <td>...</td>\n",
       "    </tr>\n",
       "    <tr>\n",
       "      <th>25969</th>\n",
       "      <td>Man</td>\n",
       "      <td>Student</td>\n",
       "      <td>Master’s degree</td>\n",
       "      <td>1-3 years</td>\n",
       "      <td>Python</td>\n",
       "    </tr>\n",
       "    <tr>\n",
       "      <th>25970</th>\n",
       "      <td>Man</td>\n",
       "      <td>Research Scientist</td>\n",
       "      <td>Doctoral degree</td>\n",
       "      <td>I have never written code</td>\n",
       "      <td>unknown</td>\n",
       "    </tr>\n",
       "    <tr>\n",
       "      <th>25971</th>\n",
       "      <td>Man</td>\n",
       "      <td>Data Scientist</td>\n",
       "      <td>Master’s degree</td>\n",
       "      <td>5-10 years</td>\n",
       "      <td>Python</td>\n",
       "    </tr>\n",
       "    <tr>\n",
       "      <th>25971</th>\n",
       "      <td>Man</td>\n",
       "      <td>Data Scientist</td>\n",
       "      <td>Master’s degree</td>\n",
       "      <td>5-10 years</td>\n",
       "      <td>SQL</td>\n",
       "    </tr>\n",
       "    <tr>\n",
       "      <th>25972</th>\n",
       "      <td>Man</td>\n",
       "      <td>Business Analyst</td>\n",
       "      <td>Bachelor’s degree</td>\n",
       "      <td>I have never written code</td>\n",
       "      <td>unknown</td>\n",
       "    </tr>\n",
       "  </tbody>\n",
       "</table>\n",
       "<p>66919 rows × 5 columns</p>\n",
       "</div>"
      ],
      "text/plain": [
       "      gender                   puesto          formacion  \\\n",
       "0        Man                    Other  Bachelor’s degree   \n",
       "0        Man                    Other  Bachelor’s degree   \n",
       "1        Man  Program/Project Manager    Master’s degree   \n",
       "1        Man  Program/Project Manager    Master’s degree   \n",
       "1        Man  Program/Project Manager    Master’s degree   \n",
       "...      ...                      ...                ...   \n",
       "25969    Man                  Student    Master’s degree   \n",
       "25970    Man       Research Scientist    Doctoral degree   \n",
       "25971    Man           Data Scientist    Master’s degree   \n",
       "25971    Man           Data Scientist    Master’s degree   \n",
       "25972    Man         Business Analyst  Bachelor’s degree   \n",
       "\n",
       "                experiencia_prog Lenguaje  \n",
       "0                     5-10 years   Python  \n",
       "0                     5-10 years        R  \n",
       "1                      20+ years      SQL  \n",
       "1                      20+ years        C  \n",
       "1                      20+ years      C++  \n",
       "...                          ...      ...  \n",
       "25969                  1-3 years   Python  \n",
       "25970  I have never written code  unknown  \n",
       "25971                 5-10 years   Python  \n",
       "25971                 5-10 years      SQL  \n",
       "25972  I have never written code  unknown  \n",
       "\n",
       "[66919 rows x 5 columns]"
      ]
     },
     "execution_count": 60,
     "metadata": {},
     "output_type": "execute_result"
    }
   ],
   "source": [
    "df_lenguajes=df_explode[['gender','puesto','formacion','experiencia_prog', 'Lenguaje']]\n",
    "df_lenguajes"
   ]
  },
  {
   "cell_type": "code",
   "execution_count": 61,
   "metadata": {},
   "outputs": [
    {
     "data": {
      "image/png": "[encoded data removed]",
      "text/plain": [
       "<Figure size 1800x432 with 1 Axes>"
      ]
     },
     "metadata": {},
     "output_type": "display_data"
    }
   ],
   "source": [
    "plt.figure( figsize=(25,6))\n",
    "\n",
    "#for ax in fig.axes:\n",
    " #x.tick_params(labelrotation=45)\n",
    "\n",
    "sns.set_color_codes(\"pastel\")\n",
    "\n",
    "#ordenado =df_group_leng.sort_values(\"porcentaje\", ascending=False)\n",
    "\n",
    "#for i in range(len(categoricas.columns)):\n",
    "fig = sns.countplot(x = 'puesto', data = df_lenguajes, hue= 'Lenguaje',edgecolor = 'black')\n",
    "\n",
    "sns.set(font = \"serif\")\n",
    "\n",
    "plt.title('Porcentaje de uso de lenguaje de programacion')\n",
    "\n",
    "plt.xticks(rotation = 45)\n",
    "plt.show(); "
   ]
  },
  {
   "attachments": {},
   "cell_type": "markdown",
   "metadata": {},
   "source": [
    "Vemos que dentro de las categorizaciones de la columna 'puesto' no deberiamos tener encuenta las categorias de : 'student', 'other' y 'currently not employed'.\n",
    "por lo que vamos a proceder a generar un nuevo DataFrame que no las considere en su analisis."
   ]
  },
  {
   "cell_type": "code",
   "execution_count": 62,
   "metadata": {},
   "outputs": [],
   "source": [
    "lista_puesto= ['Program/Project Manager',\n",
    " 'Software Engineer',\n",
    " 'Research Scientist',\n",
    " 'Data Scientist',\n",
    " 'Data Analyst',\n",
    " 'Machine Learning Engineer',\n",
    " 'Business Analyst',\n",
    " 'Data Engineer',\n",
    " 'Product Manager',\n",
    " 'Statistician',\n",
    " 'Developer Relations/Advocacy',\n",
    " 'DBA/Database Engineer']"
   ]
  },
  {
   "cell_type": "code",
   "execution_count": 63,
   "metadata": {},
   "outputs": [
    {
     "data": {
      "text/html": [
       "<div>\n",
       "<style scoped>\n",
       "    .dataframe tbody tr th:only-of-type {\n",
       "        vertical-align: middle;\n",
       "    }\n",
       "\n",
       "    .dataframe tbody tr th {\n",
       "        vertical-align: top;\n",
       "    }\n",
       "\n",
       "    .dataframe thead th {\n",
       "        text-align: right;\n",
       "    }\n",
       "</style>\n",
       "<table border=\"1\" class=\"dataframe\">\n",
       "  <thead>\n",
       "    <tr style=\"text-align: right;\">\n",
       "      <th></th>\n",
       "      <th>level_0</th>\n",
       "      <th>index</th>\n",
       "      <th>time</th>\n",
       "      <th>age</th>\n",
       "      <th>gender</th>\n",
       "      <th>pais</th>\n",
       "      <th>formacion</th>\n",
       "      <th>puesto</th>\n",
       "      <th>experiencia_prog</th>\n",
       "      <th>lenguaje_top</th>\n",
       "      <th>exp_ml</th>\n",
       "      <th>tamaño_empresa</th>\n",
       "      <th>uso_ml</th>\n",
       "      <th>salario</th>\n",
       "      <th>inversion_ml</th>\n",
       "      <th>ppal_herramienta_data</th>\n",
       "      <th>lenguaje_prog</th>\n",
       "      <th>plataforma</th>\n",
       "      <th>plat_cursos</th>\n",
       "      <th>nubes</th>\n",
       "      <th>plataforma_top</th>\n",
       "      <th>Lenguaje</th>\n",
       "      <th>1</th>\n",
       "      <th>2</th>\n",
       "      <th>3</th>\n",
       "      <th>4</th>\n",
       "      <th>5</th>\n",
       "      <th>6</th>\n",
       "      <th>7</th>\n",
       "      <th>8</th>\n",
       "      <th>9</th>\n",
       "      <th>10</th>\n",
       "      <th>11</th>\n",
       "      <th>12</th>\n",
       "    </tr>\n",
       "  </thead>\n",
       "  <tbody>\n",
       "    <tr>\n",
       "      <th>1</th>\n",
       "      <td>1</td>\n",
       "      <td>1</td>\n",
       "      <td>784</td>\n",
       "      <td>50-54</td>\n",
       "      <td>Man</td>\n",
       "      <td>Indonesia</td>\n",
       "      <td>Master’s degree</td>\n",
       "      <td>Program/Project Manager</td>\n",
       "      <td>20+ years</td>\n",
       "      <td>Python</td>\n",
       "      <td>&lt; 1 year</td>\n",
       "      <td>1000-9,999 employees</td>\n",
       "      <td>We are exploring ML methods (and may one day p...</td>\n",
       "      <td>60,000-69,999</td>\n",
       "      <td>$0 ($USD)</td>\n",
       "      <td>Advanced statistical software (SPSS, SAS, etc.)</td>\n",
       "      <td>SQL, C, C++, Java</td>\n",
       "      <td>Notepad++,Jupyter Notebook</td>\n",
       "      <td>Kaggle Learn Courses,Cloud-certification progr...</td>\n",
       "      <td>NaN</td>\n",
       "      <td>NaN</td>\n",
       "      <td>SQL</td>\n",
       "      <td>SQL</td>\n",
       "      <td>C</td>\n",
       "      <td>C++</td>\n",
       "      <td>Java</td>\n",
       "      <td>None</td>\n",
       "      <td>None</td>\n",
       "      <td>None</td>\n",
       "      <td>None</td>\n",
       "      <td>None</td>\n",
       "      <td>None</td>\n",
       "      <td>None</td>\n",
       "      <td>None</td>\n",
       "    </tr>\n",
       "    <tr>\n",
       "      <th>1</th>\n",
       "      <td>1</td>\n",
       "      <td>1</td>\n",
       "      <td>784</td>\n",
       "      <td>50-54</td>\n",
       "      <td>Man</td>\n",
       "      <td>Indonesia</td>\n",
       "      <td>Master’s degree</td>\n",
       "      <td>Program/Project Manager</td>\n",
       "      <td>20+ years</td>\n",
       "      <td>Python</td>\n",
       "      <td>&lt; 1 year</td>\n",
       "      <td>1000-9,999 employees</td>\n",
       "      <td>We are exploring ML methods (and may one day p...</td>\n",
       "      <td>60,000-69,999</td>\n",
       "      <td>$0 ($USD)</td>\n",
       "      <td>Advanced statistical software (SPSS, SAS, etc.)</td>\n",
       "      <td>SQL, C, C++, Java</td>\n",
       "      <td>Notepad++,Jupyter Notebook</td>\n",
       "      <td>Kaggle Learn Courses,Cloud-certification progr...</td>\n",
       "      <td>NaN</td>\n",
       "      <td>NaN</td>\n",
       "      <td>C</td>\n",
       "      <td>SQL</td>\n",
       "      <td>C</td>\n",
       "      <td>C++</td>\n",
       "      <td>Java</td>\n",
       "      <td>None</td>\n",
       "      <td>None</td>\n",
       "      <td>None</td>\n",
       "      <td>None</td>\n",
       "      <td>None</td>\n",
       "      <td>None</td>\n",
       "      <td>None</td>\n",
       "      <td>None</td>\n",
       "    </tr>\n",
       "  </tbody>\n",
       "</table>\n",
       "</div>"
      ],
      "text/plain": [
       "   level_0  index  time    age gender       pais        formacion  \\\n",
       "1        1      1   784  50-54    Man  Indonesia  Master’s degree   \n",
       "1        1      1   784  50-54    Man  Indonesia  Master’s degree   \n",
       "\n",
       "                    puesto experiencia_prog lenguaje_top    exp_ml  \\\n",
       "1  Program/Project Manager        20+ years       Python  < 1 year   \n",
       "1  Program/Project Manager        20+ years       Python  < 1 year   \n",
       "\n",
       "         tamaño_empresa                                             uso_ml  \\\n",
       "1  1000-9,999 employees  We are exploring ML methods (and may one day p...   \n",
       "1  1000-9,999 employees  We are exploring ML methods (and may one day p...   \n",
       "\n",
       "         salario inversion_ml  \\\n",
       "1  60,000-69,999    $0 ($USD)   \n",
       "1  60,000-69,999    $0 ($USD)   \n",
       "\n",
       "                             ppal_herramienta_data       lenguaje_prog  \\\n",
       "1  Advanced statistical software (SPSS, SAS, etc.)   SQL, C, C++, Java   \n",
       "1  Advanced statistical software (SPSS, SAS, etc.)   SQL, C, C++, Java   \n",
       "\n",
       "                    plataforma  \\\n",
       "1   Notepad++,Jupyter Notebook   \n",
       "1   Notepad++,Jupyter Notebook   \n",
       "\n",
       "                                         plat_cursos nubes plataforma_top  \\\n",
       "1  Kaggle Learn Courses,Cloud-certification progr...   NaN            NaN   \n",
       "1  Kaggle Learn Courses,Cloud-certification progr...   NaN            NaN   \n",
       "\n",
       "  Lenguaje     1   2     3      4     5     6     7     8     9    10    11  \\\n",
       "1      SQL   SQL   C   C++   Java  None  None  None  None  None  None  None   \n",
       "1        C   SQL   C   C++   Java  None  None  None  None  None  None  None   \n",
       "\n",
       "     12  \n",
       "1  None  \n",
       "1  None  "
      ]
     },
     "execution_count": 63,
     "metadata": {},
     "output_type": "execute_result"
    }
   ],
   "source": [
    "df_puesto_filtrado = df_explode[df_explode['puesto'].isin(lista_puesto)]\n",
    "df_puesto_filtrado.head(2)"
   ]
  },
  {
   "cell_type": "code",
   "execution_count": 64,
   "metadata": {},
   "outputs": [
    {
     "data": {
      "text/plain": [
       "array(['Program/Project Manager', 'Software Engineer',\n",
       "       'Research Scientist', 'Data Scientist', 'Data Analyst',\n",
       "       'Machine Learning Engineer', 'Business Analyst', 'Data Engineer',\n",
       "       'Product Manager', 'Statistician', 'Developer Relations/Advocacy',\n",
       "       'DBA/Database Engineer'], dtype=object)"
      ]
     },
     "execution_count": 64,
     "metadata": {},
     "output_type": "execute_result"
    }
   ],
   "source": [
    "df_puesto_filtrado['puesto'].unique()"
   ]
  },
  {
   "cell_type": "code",
   "execution_count": 65,
   "metadata": {},
   "outputs": [
    {
     "data": {
      "image/png": "[encoded data removed]",
      "text/plain": [
       "<Figure size 1800x432 with 1 Axes>"
      ]
     },
     "metadata": {},
     "output_type": "display_data"
    }
   ],
   "source": [
    "plt.figure( figsize=(25,6))\n",
    "\n",
    "#for ax in fig.axes:\n",
    " #x.tick_params(labelrotation=45)\n",
    "\n",
    "sns.set_color_codes(\"dark\")\n",
    "\n",
    "#ordenado =df_puesto_filtrado.sort_values(\"Lenguaje\", ascending=False)\n",
    "\n",
    "#for i in range(len(categoricas.columns)):\n",
    "fig = sns.countplot(x = 'puesto', data = df_puesto_filtrado, hue= 'Lenguaje',edgecolor = 'black')\n",
    "\n",
    "sns.set(font = \"serif\")\n",
    "\n",
    "plt.title('Uso de lenguajes por puesto de trabajo')\n",
    "\n",
    "plt.xticks(rotation = 45)\n",
    "plt.show(); "
   ]
  },
  {
   "cell_type": "code",
   "execution_count": 66,
   "metadata": {},
   "outputs": [
    {
     "data": {
      "text/plain": [
       "Student                         6804\n",
       "Data Scientist                  3616\n",
       "Software Engineer               2449\n",
       "Other                           2393\n",
       "Data Analyst                    2301\n",
       "Currently not employed          1986\n",
       "Research Scientist              1538\n",
       "Machine Learning Engineer       1499\n",
       "Business Analyst                 968\n",
       "Program/Project Manager          849\n",
       "Data Engineer                    668\n",
       "Product Manager                  319\n",
       "Statistician                     313\n",
       "DBA/Database Engineer            171\n",
       "Developer Relations/Advocacy      99\n",
       "Name: puesto, dtype: int64"
      ]
     },
     "execution_count": 66,
     "metadata": {},
     "output_type": "execute_result"
    }
   ],
   "source": [
    "df['puesto'].value_counts()"
   ]
  },
  {
   "cell_type": "code",
   "execution_count": 67,
   "metadata": {},
   "outputs": [],
   "source": [
    "#df_lenguajeprog_sinnulos[['python','R','SQL','C','C++','java','javascript','julia','swift','bash','MATLAB','none','other']]"
   ]
  },
  {
   "cell_type": "code",
   "execution_count": 68,
   "metadata": {},
   "outputs": [],
   "source": [
    "#def separar_col (col):\n",
    "\n",
    "    #try:\n",
    "\n",
    "        #df['Lenguaje'] = df[col].apply(lambda x: x[1:-1].split(',')) \n",
    "\n",
    "    #except:\n",
    "        #return np.nan    "
   ]
  },
  {
   "attachments": {},
   "cell_type": "markdown",
   "metadata": {},
   "source": [
    "Próximos pasos:\n",
    "\n",
    "* Qué conclusión podemos obtener de las columnas de lenguajes de programación?\n",
    "\n",
    "* Cómo gestionar la columna \"salario\" para poder trabajar con ella? "
   ]
  },
  {
   "attachments": {},
   "cell_type": "markdown",
   "metadata": {},
   "source": [
    "---"
   ]
  },
  {
   "attachments": {},
   "cell_type": "markdown",
   "metadata": {},
   "source": [
    "Preguntas:\n",
    "\n",
    "- ¿Cual es el ratio de hombres y mujeres segun el perfil?\n",
    "- ¿Cual es perfil educativo para cada puesto?\n",
    "- Herramientas mas utilizadas segun los perfiles. \n",
    "- ¿Cuál es la diferencia de salarios entre hombres y mujeres segun el perfil?\n",
    "- Perfil segun pais que herramientas usan, en coparativa con España.\n",
    "\n",
    "\n",
    "Extras:\n",
    "- ¿Cómo se distribuye este porcentaje segun los paises?"
   ]
  },
  {
   "cell_type": "code",
   "execution_count": 69,
   "metadata": {},
   "outputs": [
    {
     "data": {
      "text/plain": [
       "level_0                   int64\n",
       "index                     int64\n",
       "time                      int64\n",
       "age                      object\n",
       "gender                   object\n",
       "pais                     object\n",
       "formacion                object\n",
       "puesto                   object\n",
       "experiencia_prog         object\n",
       "lenguaje_top             object\n",
       "exp_ml                   object\n",
       "tamaño_empresa           object\n",
       "uso_ml                   object\n",
       "salario                  object\n",
       "inversion_ml             object\n",
       "ppal_herramienta_data    object\n",
       "lenguaje_prog            object\n",
       "plataforma               object\n",
       "plat_cursos              object\n",
       "nubes                    object\n",
       "plataforma_top           object\n",
       "dtype: object"
      ]
     },
     "execution_count": 69,
     "metadata": {},
     "output_type": "execute_result"
    }
   ],
   "source": [
    "df.dtypes"
   ]
  },
  {
   "attachments": {},
   "cell_type": "markdown",
   "metadata": {},
   "source": [
    "---"
   ]
  },
  {
   "attachments": {},
   "cell_type": "markdown",
   "metadata": {},
   "source": [
    "Voy a tratar de trabajar la columna de salarios"
   ]
  },
  {
   "cell_type": "code",
   "execution_count": 70,
   "metadata": {},
   "outputs": [
    {
     "data": {
      "text/plain": [
       "array(['25,000-29,999', '60,000-69,999', '$0-999', '30,000-39,999', nan,\n",
       "       '15,000-19,999', '70,000-79,999', '2,000-2,999', '10,000-14,999',\n",
       "       '5,000-7,499', '20,000-24,999', '1,000-1,999', '100,000-124,999',\n",
       "       '7,500-9,999', '4,000-4,999', '40,000-49,999', '50,000-59,999',\n",
       "       '3,000-3,999', '300,000-499,999', '200,000-249,999',\n",
       "       '125,000-149,999', '250,000-299,999', '80,000-89,999',\n",
       "       '90,000-99,999', '150,000-199,999', '>$1,000,000',\n",
       "       '$500,000-999,999'], dtype=object)"
      ]
     },
     "execution_count": 70,
     "metadata": {},
     "output_type": "execute_result"
    }
   ],
   "source": [
    "df['salario'].unique()"
   ]
  },
  {
   "cell_type": "code",
   "execution_count": 71,
   "metadata": {},
   "outputs": [
    {
     "name": "stderr",
     "output_type": "stream",
     "text": [
      "/tmp/ipykernel_12105/2148480061.py:1: FutureWarning: The default value of regex will change from True to False in a future version. In addition, single character regular expressions will *not* be treated as literal strings when regex=True.\n",
      "  df['salario']=df[\"salario\"].str.replace(',','').str.replace('$','').str.replace('>','-') #Quitamos todos los simbolos que estaban por demas en el string.\n"
     ]
    }
   ],
   "source": [
    "df['salario']=df[\"salario\"].str.replace(',','').str.replace('$','').str.replace('>','-') #Quitamos todos los simbolos que estaban por demas en el string."
   ]
  },
  {
   "cell_type": "code",
   "execution_count": 72,
   "metadata": {},
   "outputs": [
    {
     "data": {
      "text/plain": [
       "array(['25000-29999', '60000-69999', '0-999', '30000-39999', nan,\n",
       "       '15000-19999', '70000-79999', '2000-2999', '10000-14999',\n",
       "       '5000-7499', '20000-24999', '1000-1999', '100000-124999',\n",
       "       '7500-9999', '4000-4999', '40000-49999', '50000-59999',\n",
       "       '3000-3999', '300000-499999', '200000-249999', '125000-149999',\n",
       "       '250000-299999', '80000-89999', '90000-99999', '150000-199999',\n",
       "       '-1000000', '500000-999999'], dtype=object)"
      ]
     },
     "execution_count": 72,
     "metadata": {},
     "output_type": "execute_result"
    }
   ],
   "source": [
    "df['salario'].unique()"
   ]
  },
  {
   "cell_type": "code",
   "execution_count": null,
   "metadata": {},
   "outputs": [],
   "source": []
  },
  {
   "cell_type": "code",
   "execution_count": 73,
   "metadata": {},
   "outputs": [],
   "source": [
    "df['salario_max']=df[\"salario\"].str.split('-', n=1, expand=True).get(1) # Separamos el rango del salario para quedarnos con el mayor y poder convertir la columna en numerica"
   ]
  },
  {
   "cell_type": "code",
   "execution_count": 74,
   "metadata": {},
   "outputs": [
    {
     "data": {
      "text/plain": [
       "array(['29999', '69999', '999', '39999', nan, '19999', '79999', '2999',\n",
       "       '14999', '7499', '24999', '1999', '124999', '9999', '4999',\n",
       "       '49999', '59999', '3999', '499999', '249999', '149999', '299999',\n",
       "       '89999', '99999', '199999', '1000000', '999999'], dtype=object)"
      ]
     },
     "execution_count": 74,
     "metadata": {},
     "output_type": "execute_result"
    }
   ],
   "source": [
    "df['salario_max'].unique()"
   ]
  },
  {
   "cell_type": "code",
   "execution_count": 75,
   "metadata": {},
   "outputs": [
    {
     "data": {
      "text/html": [
       "<div>\n",
       "<style scoped>\n",
       "    .dataframe tbody tr th:only-of-type {\n",
       "        vertical-align: middle;\n",
       "    }\n",
       "\n",
       "    .dataframe tbody tr th {\n",
       "        vertical-align: top;\n",
       "    }\n",
       "\n",
       "    .dataframe thead th {\n",
       "        text-align: right;\n",
       "    }\n",
       "</style>\n",
       "<table border=\"1\" class=\"dataframe\">\n",
       "  <thead>\n",
       "    <tr style=\"text-align: right;\">\n",
       "      <th></th>\n",
       "      <th>level_0</th>\n",
       "      <th>index</th>\n",
       "      <th>time</th>\n",
       "      <th>age</th>\n",
       "      <th>gender</th>\n",
       "      <th>pais</th>\n",
       "      <th>formacion</th>\n",
       "      <th>puesto</th>\n",
       "      <th>experiencia_prog</th>\n",
       "      <th>lenguaje_top</th>\n",
       "      <th>exp_ml</th>\n",
       "      <th>tamaño_empresa</th>\n",
       "      <th>uso_ml</th>\n",
       "      <th>salario</th>\n",
       "      <th>inversion_ml</th>\n",
       "      <th>ppal_herramienta_data</th>\n",
       "      <th>lenguaje_prog</th>\n",
       "      <th>plataforma</th>\n",
       "      <th>plat_cursos</th>\n",
       "      <th>nubes</th>\n",
       "      <th>plataforma_top</th>\n",
       "      <th>salario_max</th>\n",
       "    </tr>\n",
       "  </thead>\n",
       "  <tbody>\n",
       "  </tbody>\n",
       "</table>\n",
       "</div>"
      ],
      "text/plain": [
       "Empty DataFrame\n",
       "Columns: [level_0, index, time, age, gender, pais, formacion, puesto, experiencia_prog, lenguaje_top, exp_ml, tamaño_empresa, uso_ml, salario, inversion_ml, ppal_herramienta_data, lenguaje_prog, plataforma, plat_cursos, nubes, plataforma_top, salario_max]\n",
       "Index: []"
      ]
     },
     "execution_count": 75,
     "metadata": {},
     "output_type": "execute_result"
    }
   ],
   "source": [
    "df[df['salario_max']== None]"
   ]
  },
  {
   "cell_type": "code",
   "execution_count": 76,
   "metadata": {},
   "outputs": [
    {
     "data": {
      "text/html": [
       "<div>\n",
       "<style scoped>\n",
       "    .dataframe tbody tr th:only-of-type {\n",
       "        vertical-align: middle;\n",
       "    }\n",
       "\n",
       "    .dataframe tbody tr th {\n",
       "        vertical-align: top;\n",
       "    }\n",
       "\n",
       "    .dataframe thead th {\n",
       "        text-align: right;\n",
       "    }\n",
       "</style>\n",
       "<table border=\"1\" class=\"dataframe\">\n",
       "  <thead>\n",
       "    <tr style=\"text-align: right;\">\n",
       "      <th></th>\n",
       "      <th>level_0</th>\n",
       "      <th>index</th>\n",
       "      <th>time</th>\n",
       "      <th>age</th>\n",
       "      <th>gender</th>\n",
       "      <th>pais</th>\n",
       "      <th>formacion</th>\n",
       "      <th>puesto</th>\n",
       "      <th>experiencia_prog</th>\n",
       "      <th>lenguaje_top</th>\n",
       "      <th>exp_ml</th>\n",
       "      <th>tamaño_empresa</th>\n",
       "      <th>uso_ml</th>\n",
       "      <th>salario</th>\n",
       "      <th>inversion_ml</th>\n",
       "      <th>ppal_herramienta_data</th>\n",
       "      <th>lenguaje_prog</th>\n",
       "      <th>plataforma</th>\n",
       "      <th>plat_cursos</th>\n",
       "      <th>nubes</th>\n",
       "      <th>plataforma_top</th>\n",
       "      <th>salario_max</th>\n",
       "    </tr>\n",
       "  </thead>\n",
       "  <tbody>\n",
       "    <tr>\n",
       "      <th>0</th>\n",
       "      <td>0</td>\n",
       "      <td>0</td>\n",
       "      <td>910</td>\n",
       "      <td>50-54</td>\n",
       "      <td>Man</td>\n",
       "      <td>India</td>\n",
       "      <td>Bachelor’s degree</td>\n",
       "      <td>Other</td>\n",
       "      <td>5-10 years</td>\n",
       "      <td>Python</td>\n",
       "      <td>5-10 years</td>\n",
       "      <td>50-249 employees</td>\n",
       "      <td>No (we do not use ML methods)</td>\n",
       "      <td>25000-29999</td>\n",
       "      <td>$100-$999</td>\n",
       "      <td>Local development environments (RStudio, Jupyt...</td>\n",
       "      <td>Python, R</td>\n",
       "      <td>Vim / Emacs</td>\n",
       "      <td>edX,Kaggle Learn Courses,DataCamp,Udacity,Udemy</td>\n",
       "      <td>GitHub , Kaggle</td>\n",
       "      <td>NaN</td>\n",
       "      <td>29999</td>\n",
       "    </tr>\n",
       "    <tr>\n",
       "      <th>1</th>\n",
       "      <td>1</td>\n",
       "      <td>1</td>\n",
       "      <td>784</td>\n",
       "      <td>50-54</td>\n",
       "      <td>Man</td>\n",
       "      <td>Indonesia</td>\n",
       "      <td>Master’s degree</td>\n",
       "      <td>Program/Project Manager</td>\n",
       "      <td>20+ years</td>\n",
       "      <td>Python</td>\n",
       "      <td>&lt; 1 year</td>\n",
       "      <td>1000-9,999 employees</td>\n",
       "      <td>We are exploring ML methods (and may one day p...</td>\n",
       "      <td>60000-69999</td>\n",
       "      <td>$0 ($USD)</td>\n",
       "      <td>Advanced statistical software (SPSS, SAS, etc.)</td>\n",
       "      <td>SQL, C, C++, Java</td>\n",
       "      <td>Notepad++,Jupyter Notebook</td>\n",
       "      <td>Kaggle Learn Courses,Cloud-certification progr...</td>\n",
       "      <td>NaN</td>\n",
       "      <td>NaN</td>\n",
       "      <td>69999</td>\n",
       "    </tr>\n",
       "  </tbody>\n",
       "</table>\n",
       "</div>"
      ],
      "text/plain": [
       "   level_0  index  time    age gender       pais          formacion  \\\n",
       "0        0      0   910  50-54    Man      India  Bachelor’s degree   \n",
       "1        1      1   784  50-54    Man  Indonesia    Master’s degree   \n",
       "\n",
       "                    puesto experiencia_prog lenguaje_top      exp_ml  \\\n",
       "0                    Other       5-10 years       Python  5-10 years   \n",
       "1  Program/Project Manager        20+ years       Python    < 1 year   \n",
       "\n",
       "         tamaño_empresa                                             uso_ml  \\\n",
       "0      50-249 employees                      No (we do not use ML methods)   \n",
       "1  1000-9,999 employees  We are exploring ML methods (and may one day p...   \n",
       "\n",
       "       salario inversion_ml  \\\n",
       "0  25000-29999    $100-$999   \n",
       "1  60000-69999    $0 ($USD)   \n",
       "\n",
       "                               ppal_herramienta_data       lenguaje_prog  \\\n",
       "0  Local development environments (RStudio, Jupyt...           Python, R   \n",
       "1    Advanced statistical software (SPSS, SAS, etc.)   SQL, C, C++, Java   \n",
       "\n",
       "                    plataforma  \\\n",
       "0                  Vim / Emacs   \n",
       "1   Notepad++,Jupyter Notebook   \n",
       "\n",
       "                                         plat_cursos              nubes  \\\n",
       "0    edX,Kaggle Learn Courses,DataCamp,Udacity,Udemy   GitHub , Kaggle    \n",
       "1  Kaggle Learn Courses,Cloud-certification progr...                NaN   \n",
       "\n",
       "  plataforma_top salario_max  \n",
       "0            NaN       29999  \n",
       "1            NaN       69999  "
      ]
     },
     "execution_count": 76,
     "metadata": {},
     "output_type": "execute_result"
    }
   ],
   "source": [
    "df.head(2)"
   ]
  },
  {
   "cell_type": "code",
   "execution_count": 77,
   "metadata": {},
   "outputs": [],
   "source": [
    "df.to_pickle(\"data/data_limpieza.pickle\")"
   ]
  },
  {
   "cell_type": "code",
   "execution_count": 78,
   "metadata": {},
   "outputs": [
    {
     "data": {
      "text/plain": [
       "40.74230932121819"
      ]
     },
     "execution_count": 78,
     "metadata": {},
     "output_type": "execute_result"
    }
   ],
   "source": [
    "df.salario_max.isnull().sum()*100/df.shape[0]"
   ]
  },
  {
   "cell_type": "code",
   "execution_count": 79,
   "metadata": {},
   "outputs": [
    {
     "ename": "TypeError",
     "evalue": "Horizontal orientation requires numeric `x` variable.",
     "output_type": "error",
     "traceback": [
      "\u001b[0;31m---------------------------------------------------------------------------\u001b[0m",
      "\u001b[0;31mTypeError\u001b[0m                                 Traceback (most recent call last)",
      "\u001b[0;32m/tmp/ipykernel_12105/3666022491.py\u001b[0m in \u001b[0;36m<module>\u001b[0;34m\u001b[0m\n\u001b[0;32m----> 1\u001b[0;31m \u001b[0msns\u001b[0m\u001b[0;34m.\u001b[0m\u001b[0mboxplot\u001b[0m\u001b[0;34m(\u001b[0m\u001b[0mx\u001b[0m\u001b[0;34m=\u001b[0m \u001b[0;34m\"salario_max\"\u001b[0m\u001b[0;34m,\u001b[0m \u001b[0mdata\u001b[0m \u001b[0;34m=\u001b[0m \u001b[0mdf\u001b[0m\u001b[0;34m)\u001b[0m\u001b[0;34m\u001b[0m\u001b[0;34m\u001b[0m\u001b[0m\n\u001b[0m\u001b[1;32m      2\u001b[0m \u001b[0mplt\u001b[0m\u001b[0;34m.\u001b[0m\u001b[0mxticks\u001b[0m\u001b[0;34m(\u001b[0m\u001b[0mrotation\u001b[0m \u001b[0;34m=\u001b[0m \u001b[0;36m60\u001b[0m\u001b[0;34m)\u001b[0m\u001b[0;34m;\u001b[0m\u001b[0;34m\u001b[0m\u001b[0;34m\u001b[0m\u001b[0m\n",
      "\u001b[0;32m~/anaconda3/lib/python3.9/site-packages/seaborn/_decorators.py\u001b[0m in \u001b[0;36minner_f\u001b[0;34m(*args, **kwargs)\u001b[0m\n\u001b[1;32m     44\u001b[0m             )\n\u001b[1;32m     45\u001b[0m         \u001b[0mkwargs\u001b[0m\u001b[0;34m.\u001b[0m\u001b[0mupdate\u001b[0m\u001b[0;34m(\u001b[0m\u001b[0;34m{\u001b[0m\u001b[0mk\u001b[0m\u001b[0;34m:\u001b[0m \u001b[0marg\u001b[0m \u001b[0;32mfor\u001b[0m \u001b[0mk\u001b[0m\u001b[0;34m,\u001b[0m \u001b[0marg\u001b[0m \u001b[0;32min\u001b[0m \u001b[0mzip\u001b[0m\u001b[0;34m(\u001b[0m\u001b[0msig\u001b[0m\u001b[0;34m.\u001b[0m\u001b[0mparameters\u001b[0m\u001b[0;34m,\u001b[0m \u001b[0margs\u001b[0m\u001b[0;34m)\u001b[0m\u001b[0;34m}\u001b[0m\u001b[0;34m)\u001b[0m\u001b[0;34m\u001b[0m\u001b[0;34m\u001b[0m\u001b[0m\n\u001b[0;32m---> 46\u001b[0;31m         \u001b[0;32mreturn\u001b[0m \u001b[0mf\u001b[0m\u001b[0;34m(\u001b[0m\u001b[0;34m**\u001b[0m\u001b[0mkwargs\u001b[0m\u001b[0;34m)\u001b[0m\u001b[0;34m\u001b[0m\u001b[0;34m\u001b[0m\u001b[0m\n\u001b[0m\u001b[1;32m     47\u001b[0m     \u001b[0;32mreturn\u001b[0m \u001b[0minner_f\u001b[0m\u001b[0;34m\u001b[0m\u001b[0;34m\u001b[0m\u001b[0m\n\u001b[1;32m     48\u001b[0m \u001b[0;34m\u001b[0m\u001b[0m\n",
      "\u001b[0;32m~/anaconda3/lib/python3.9/site-packages/seaborn/categorical.py\u001b[0m in \u001b[0;36mboxplot\u001b[0;34m(x, y, hue, data, order, hue_order, orient, color, palette, saturation, width, dodge, fliersize, linewidth, whis, ax, **kwargs)\u001b[0m\n\u001b[1;32m   2241\u001b[0m ):\n\u001b[1;32m   2242\u001b[0m \u001b[0;34m\u001b[0m\u001b[0m\n\u001b[0;32m-> 2243\u001b[0;31m     plotter = _BoxPlotter(x, y, hue, data, order, hue_order,\n\u001b[0m\u001b[1;32m   2244\u001b[0m                           \u001b[0morient\u001b[0m\u001b[0;34m,\u001b[0m \u001b[0mcolor\u001b[0m\u001b[0;34m,\u001b[0m \u001b[0mpalette\u001b[0m\u001b[0;34m,\u001b[0m \u001b[0msaturation\u001b[0m\u001b[0;34m,\u001b[0m\u001b[0;34m\u001b[0m\u001b[0;34m\u001b[0m\u001b[0m\n\u001b[1;32m   2245\u001b[0m                           width, dodge, fliersize, linewidth)\n",
      "\u001b[0;32m~/anaconda3/lib/python3.9/site-packages/seaborn/categorical.py\u001b[0m in \u001b[0;36m__init__\u001b[0;34m(self, x, y, hue, data, order, hue_order, orient, color, palette, saturation, width, dodge, fliersize, linewidth)\u001b[0m\n\u001b[1;32m    404\u001b[0m                  width, dodge, fliersize, linewidth):\n\u001b[1;32m    405\u001b[0m \u001b[0;34m\u001b[0m\u001b[0m\n\u001b[0;32m--> 406\u001b[0;31m         \u001b[0mself\u001b[0m\u001b[0;34m.\u001b[0m\u001b[0mestablish_variables\u001b[0m\u001b[0;34m(\u001b[0m\u001b[0mx\u001b[0m\u001b[0;34m,\u001b[0m \u001b[0my\u001b[0m\u001b[0;34m,\u001b[0m \u001b[0mhue\u001b[0m\u001b[0;34m,\u001b[0m \u001b[0mdata\u001b[0m\u001b[0;34m,\u001b[0m \u001b[0morient\u001b[0m\u001b[0;34m,\u001b[0m \u001b[0morder\u001b[0m\u001b[0;34m,\u001b[0m \u001b[0mhue_order\u001b[0m\u001b[0;34m)\u001b[0m\u001b[0;34m\u001b[0m\u001b[0;34m\u001b[0m\u001b[0m\n\u001b[0m\u001b[1;32m    407\u001b[0m         \u001b[0mself\u001b[0m\u001b[0;34m.\u001b[0m\u001b[0mestablish_colors\u001b[0m\u001b[0;34m(\u001b[0m\u001b[0mcolor\u001b[0m\u001b[0;34m,\u001b[0m \u001b[0mpalette\u001b[0m\u001b[0;34m,\u001b[0m \u001b[0msaturation\u001b[0m\u001b[0;34m)\u001b[0m\u001b[0;34m\u001b[0m\u001b[0;34m\u001b[0m\u001b[0m\n\u001b[1;32m    408\u001b[0m \u001b[0;34m\u001b[0m\u001b[0m\n",
      "\u001b[0;32m~/anaconda3/lib/python3.9/site-packages/seaborn/categorical.py\u001b[0m in \u001b[0;36mestablish_variables\u001b[0;34m(self, x, y, hue, data, orient, order, hue_order, units)\u001b[0m\n\u001b[1;32m    154\u001b[0m \u001b[0;34m\u001b[0m\u001b[0m\n\u001b[1;32m    155\u001b[0m             \u001b[0;31m# Figure out the plotting orientation\u001b[0m\u001b[0;34m\u001b[0m\u001b[0;34m\u001b[0m\u001b[0m\n\u001b[0;32m--> 156\u001b[0;31m             orient = infer_orient(\n\u001b[0m\u001b[1;32m    157\u001b[0m                 \u001b[0mx\u001b[0m\u001b[0;34m,\u001b[0m \u001b[0my\u001b[0m\u001b[0;34m,\u001b[0m \u001b[0morient\u001b[0m\u001b[0;34m,\u001b[0m \u001b[0mrequire_numeric\u001b[0m\u001b[0;34m=\u001b[0m\u001b[0mself\u001b[0m\u001b[0;34m.\u001b[0m\u001b[0mrequire_numeric\u001b[0m\u001b[0;34m\u001b[0m\u001b[0;34m\u001b[0m\u001b[0m\n\u001b[1;32m    158\u001b[0m             )\n",
      "\u001b[0;32m~/anaconda3/lib/python3.9/site-packages/seaborn/_core.py\u001b[0m in \u001b[0;36minfer_orient\u001b[0;34m(x, y, orient, require_numeric)\u001b[0m\n\u001b[1;32m   1326\u001b[0m             \u001b[0mwarnings\u001b[0m\u001b[0;34m.\u001b[0m\u001b[0mwarn\u001b[0m\u001b[0;34m(\u001b[0m\u001b[0msingle_var_warning\u001b[0m\u001b[0;34m.\u001b[0m\u001b[0mformat\u001b[0m\u001b[0;34m(\u001b[0m\u001b[0;34m\"Vertical\"\u001b[0m\u001b[0;34m,\u001b[0m \u001b[0;34m\"x\"\u001b[0m\u001b[0;34m)\u001b[0m\u001b[0;34m)\u001b[0m\u001b[0;34m\u001b[0m\u001b[0;34m\u001b[0m\u001b[0m\n\u001b[1;32m   1327\u001b[0m         \u001b[0;32mif\u001b[0m \u001b[0mrequire_numeric\u001b[0m \u001b[0;32mand\u001b[0m \u001b[0mx_type\u001b[0m \u001b[0;34m!=\u001b[0m \u001b[0;34m\"numeric\"\u001b[0m\u001b[0;34m:\u001b[0m\u001b[0;34m\u001b[0m\u001b[0;34m\u001b[0m\u001b[0m\n\u001b[0;32m-> 1328\u001b[0;31m             \u001b[0;32mraise\u001b[0m \u001b[0mTypeError\u001b[0m\u001b[0;34m(\u001b[0m\u001b[0mnonnumeric_dv_error\u001b[0m\u001b[0;34m.\u001b[0m\u001b[0mformat\u001b[0m\u001b[0;34m(\u001b[0m\u001b[0;34m\"Horizontal\"\u001b[0m\u001b[0;34m,\u001b[0m \u001b[0;34m\"x\"\u001b[0m\u001b[0;34m)\u001b[0m\u001b[0;34m)\u001b[0m\u001b[0;34m\u001b[0m\u001b[0;34m\u001b[0m\u001b[0m\n\u001b[0m\u001b[1;32m   1329\u001b[0m         \u001b[0;32mreturn\u001b[0m \u001b[0;34m\"h\"\u001b[0m\u001b[0;34m\u001b[0m\u001b[0;34m\u001b[0m\u001b[0m\n\u001b[1;32m   1330\u001b[0m \u001b[0;34m\u001b[0m\u001b[0m\n",
      "\u001b[0;31mTypeError\u001b[0m: Horizontal orientation requires numeric `x` variable."
     ]
    }
   ],
   "source": [
    "sns.boxplot(x= \"salario_max\", data = df)\n",
    "plt.xticks(rotation = 60);"
   ]
  },
  {
   "attachments": {},
   "cell_type": "markdown",
   "metadata": {},
   "source": [
    "### Nos ha dado un valor None ---> ver como solucionamos lo del rango de 1000000.\n"
   ]
  },
  {
   "attachments": {},
   "cell_type": "markdown",
   "metadata": {},
   "source": [
    "## Convertir columna en numero y categorizar o ver de dividir el DataFrame en funcion de outliers  y los nulos\n",
    "## Tener presente que hay muchos nulos en esta columna!"
   ]
  }
 ],
 "metadata": {
  "kernelspec": {
   "display_name": "Python 3.9.7 ('base')",
   "language": "python",
   "name": "python3"
  },
  "language_info": {
   "codemirror_mode": {
    "name": "ipython",
    "version": 3
   },
   "file_extension": ".py",
   "mimetype": "text/x-python",
   "name": "python",
   "nbconvert_exporter": "python",
   "pygments_lexer": "ipython3",
   "version": "3.9.7"
  },
  "orig_nbformat": 4,
  "vscode": {
   "interpreter": {
    "hash": "0620710c65b0f5ccc651a2aa8870ae0eb4c70492424a8d7866846658189426a3"
   }
  }
 },
 "nbformat": 4,
 "nbformat_minor": 2
}
