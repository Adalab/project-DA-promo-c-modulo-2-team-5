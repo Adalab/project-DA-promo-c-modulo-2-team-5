{
 "cells": [
  {
   "attachments": {},
   "cell_type": "markdown",
   "metadata": {},
   "source": [
    "Preguntas nuevas:\n",
    "\n",
    "- ¿Cual es el ratio de hombres y mujeres segun el perfil?\n",
    "- ¿Cual es perfil educativo para cada puesto?\n",
    "- Herramientas mas utilizadas segun los perfiles. \n",
    "- ¿Cuál es la diferencia de salarios entre hombres y mujeres segun el perfil?\n",
    "- Perfil segun pais que herramientas usan, en coparativa con España.\n",
    "\n",
    "\n",
    "Extras:\n",
    "- ¿Cómo se distribuye este porcentaje segun los paises?"
   ]
  },
  {
   "cell_type": "code",
   "execution_count": 1,
   "metadata": {},
   "outputs": [],
   "source": [
    "import pandas as pd\n",
    "import matplotlib.pyplot as plt\n",
    "import seaborn as sns \n",
    "import numpy as np"
   ]
  },
  {
   "cell_type": "code",
   "execution_count": 2,
   "metadata": {},
   "outputs": [],
   "source": [
    "df = pd.read_pickle(\"data/data_limpieza.pickle\")"
   ]
  },
  {
   "cell_type": "code",
   "execution_count": 3,
   "metadata": {},
   "outputs": [
    {
     "data": {
      "text/html": [
       "<div>\n",
       "<style scoped>\n",
       "    .dataframe tbody tr th:only-of-type {\n",
       "        vertical-align: middle;\n",
       "    }\n",
       "\n",
       "    .dataframe tbody tr th {\n",
       "        vertical-align: top;\n",
       "    }\n",
       "\n",
       "    .dataframe thead th {\n",
       "        text-align: right;\n",
       "    }\n",
       "</style>\n",
       "<table border=\"1\" class=\"dataframe\">\n",
       "  <thead>\n",
       "    <tr style=\"text-align: right;\">\n",
       "      <th></th>\n",
       "      <th>level_0</th>\n",
       "      <th>index</th>\n",
       "      <th>time</th>\n",
       "      <th>age</th>\n",
       "      <th>gender</th>\n",
       "      <th>pais</th>\n",
       "      <th>formacion</th>\n",
       "      <th>puesto</th>\n",
       "      <th>experiencia_prog</th>\n",
       "      <th>lenguaje_top</th>\n",
       "      <th>...</th>\n",
       "      <th>uso_ml</th>\n",
       "      <th>salario</th>\n",
       "      <th>inversion_ml</th>\n",
       "      <th>ppal_herramienta_data</th>\n",
       "      <th>lenguaje_prog</th>\n",
       "      <th>plataforma</th>\n",
       "      <th>plat_cursos</th>\n",
       "      <th>nubes</th>\n",
       "      <th>plataforma_top</th>\n",
       "      <th>salario_max</th>\n",
       "    </tr>\n",
       "  </thead>\n",
       "  <tbody>\n",
       "    <tr>\n",
       "      <th>0</th>\n",
       "      <td>0</td>\n",
       "      <td>0</td>\n",
       "      <td>910</td>\n",
       "      <td>50-54</td>\n",
       "      <td>Man</td>\n",
       "      <td>India</td>\n",
       "      <td>Bachelor’s degree</td>\n",
       "      <td>Other</td>\n",
       "      <td>5-10 years</td>\n",
       "      <td>Python</td>\n",
       "      <td>...</td>\n",
       "      <td>No (we do not use ML methods)</td>\n",
       "      <td>25000-29999</td>\n",
       "      <td>$100-$999</td>\n",
       "      <td>Local development environments (RStudio, Jupyt...</td>\n",
       "      <td>Python, R</td>\n",
       "      <td>Vim / Emacs</td>\n",
       "      <td>edX,Kaggle Learn Courses,DataCamp,Udacity,Udemy</td>\n",
       "      <td>GitHub , Kaggle</td>\n",
       "      <td>NaN</td>\n",
       "      <td>29999</td>\n",
       "    </tr>\n",
       "    <tr>\n",
       "      <th>1</th>\n",
       "      <td>1</td>\n",
       "      <td>1</td>\n",
       "      <td>784</td>\n",
       "      <td>50-54</td>\n",
       "      <td>Man</td>\n",
       "      <td>Indonesia</td>\n",
       "      <td>Master’s degree</td>\n",
       "      <td>Program/Project Manager</td>\n",
       "      <td>20+ years</td>\n",
       "      <td>Python</td>\n",
       "      <td>...</td>\n",
       "      <td>We are exploring ML methods (and may one day p...</td>\n",
       "      <td>60000-69999</td>\n",
       "      <td>$0 ($USD)</td>\n",
       "      <td>Advanced statistical software (SPSS, SAS, etc.)</td>\n",
       "      <td>SQL, C, C++, Java</td>\n",
       "      <td>Notepad++,Jupyter Notebook</td>\n",
       "      <td>Kaggle Learn Courses,Cloud-certification progr...</td>\n",
       "      <td>NaN</td>\n",
       "      <td>NaN</td>\n",
       "      <td>69999</td>\n",
       "    </tr>\n",
       "  </tbody>\n",
       "</table>\n",
       "<p>2 rows × 22 columns</p>\n",
       "</div>"
      ],
      "text/plain": [
       "   level_0  index  time    age gender       pais          formacion  \\\n",
       "0        0      0   910  50-54    Man      India  Bachelor’s degree   \n",
       "1        1      1   784  50-54    Man  Indonesia    Master’s degree   \n",
       "\n",
       "                    puesto experiencia_prog lenguaje_top  ...  \\\n",
       "0                    Other       5-10 years       Python  ...   \n",
       "1  Program/Project Manager        20+ years       Python  ...   \n",
       "\n",
       "                                              uso_ml      salario  \\\n",
       "0                      No (we do not use ML methods)  25000-29999   \n",
       "1  We are exploring ML methods (and may one day p...  60000-69999   \n",
       "\n",
       "  inversion_ml                              ppal_herramienta_data  \\\n",
       "0    $100-$999  Local development environments (RStudio, Jupyt...   \n",
       "1    $0 ($USD)    Advanced statistical software (SPSS, SAS, etc.)   \n",
       "\n",
       "        lenguaje_prog                   plataforma  \\\n",
       "0           Python, R                  Vim / Emacs   \n",
       "1   SQL, C, C++, Java   Notepad++,Jupyter Notebook   \n",
       "\n",
       "                                         plat_cursos              nubes  \\\n",
       "0    edX,Kaggle Learn Courses,DataCamp,Udacity,Udemy   GitHub , Kaggle    \n",
       "1  Kaggle Learn Courses,Cloud-certification progr...                NaN   \n",
       "\n",
       "  plataforma_top salario_max  \n",
       "0            NaN       29999  \n",
       "1            NaN       69999  \n",
       "\n",
       "[2 rows x 22 columns]"
      ]
     },
     "execution_count": 3,
     "metadata": {},
     "output_type": "execute_result"
    }
   ],
   "source": [
    "df.head(2)"
   ]
  },
  {
   "cell_type": "code",
   "execution_count": 4,
   "metadata": {},
   "outputs": [
    {
     "data": {
      "text/html": [
       "<div>\n",
       "<style scoped>\n",
       "    .dataframe tbody tr th:only-of-type {\n",
       "        vertical-align: middle;\n",
       "    }\n",
       "\n",
       "    .dataframe tbody tr th {\n",
       "        vertical-align: top;\n",
       "    }\n",
       "\n",
       "    .dataframe thead th {\n",
       "        text-align: right;\n",
       "    }\n",
       "</style>\n",
       "<table border=\"1\" class=\"dataframe\">\n",
       "  <thead>\n",
       "    <tr style=\"text-align: right;\">\n",
       "      <th></th>\n",
       "      <th>level_0</th>\n",
       "      <th>index</th>\n",
       "      <th>time</th>\n",
       "      <th>age</th>\n",
       "      <th>gender</th>\n",
       "      <th>pais</th>\n",
       "      <th>formacion</th>\n",
       "      <th>puesto</th>\n",
       "      <th>experiencia_prog</th>\n",
       "      <th>lenguaje_top</th>\n",
       "      <th>...</th>\n",
       "      <th>uso_ml</th>\n",
       "      <th>salario</th>\n",
       "      <th>inversion_ml</th>\n",
       "      <th>ppal_herramienta_data</th>\n",
       "      <th>lenguaje_prog</th>\n",
       "      <th>plataforma</th>\n",
       "      <th>plat_cursos</th>\n",
       "      <th>nubes</th>\n",
       "      <th>plataforma_top</th>\n",
       "      <th>salario_max</th>\n",
       "    </tr>\n",
       "  </thead>\n",
       "  <tbody>\n",
       "    <tr>\n",
       "      <th>24530</th>\n",
       "      <td>24530</td>\n",
       "      <td>24530</td>\n",
       "      <td>572</td>\n",
       "      <td>25-29</td>\n",
       "      <td>Man</td>\n",
       "      <td>India</td>\n",
       "      <td>Master’s degree</td>\n",
       "      <td>Student</td>\n",
       "      <td>3-5 years</td>\n",
       "      <td>Python</td>\n",
       "      <td>...</td>\n",
       "      <td>NaN</td>\n",
       "      <td>NaN</td>\n",
       "      <td>NaN</td>\n",
       "      <td>Local development environments (RStudio, Jupyt...</td>\n",
       "      <td>Python</td>\n",
       "      <td>Jupyter (JupyterLab, Jupyter Notebooks, etc) ,...</td>\n",
       "      <td>University Courses (resulting in a university ...</td>\n",
       "      <td>NaN</td>\n",
       "      <td>NaN</td>\n",
       "      <td>NaN</td>\n",
       "    </tr>\n",
       "    <tr>\n",
       "      <th>3189</th>\n",
       "      <td>3189</td>\n",
       "      <td>3189</td>\n",
       "      <td>731</td>\n",
       "      <td>25-29</td>\n",
       "      <td>Man</td>\n",
       "      <td>India</td>\n",
       "      <td>Bachelor’s degree</td>\n",
       "      <td>Data Scientist</td>\n",
       "      <td>&lt; 1 years</td>\n",
       "      <td>Python</td>\n",
       "      <td>...</td>\n",
       "      <td>I do not know</td>\n",
       "      <td>7500-9999</td>\n",
       "      <td>$100,000 or more ($USD)</td>\n",
       "      <td>Basic statistical software (Microsoft Excel, G...</td>\n",
       "      <td>Python, SQL</td>\n",
       "      <td>Visual Studio ,PyCharm , Spyder,Jupyter Notebo...</td>\n",
       "      <td>Kaggle Learn Courses,University Courses (resul...</td>\n",
       "      <td>GitHub , Colab</td>\n",
       "      <td>Amazon Web Services (AWS)</td>\n",
       "      <td>9999</td>\n",
       "    </tr>\n",
       "    <tr>\n",
       "      <th>9132</th>\n",
       "      <td>9132</td>\n",
       "      <td>9132</td>\n",
       "      <td>773</td>\n",
       "      <td>50-54</td>\n",
       "      <td>Man</td>\n",
       "      <td>Argentina</td>\n",
       "      <td>Some college/university study without earning ...</td>\n",
       "      <td>Other</td>\n",
       "      <td>3-5 years</td>\n",
       "      <td>Python</td>\n",
       "      <td>...</td>\n",
       "      <td>No (we do not use ML methods)</td>\n",
       "      <td>4000-4999</td>\n",
       "      <td>$100-$999</td>\n",
       "      <td>Local development environments (RStudio, Jupyt...</td>\n",
       "      <td>Python, SQL</td>\n",
       "      <td>Jupyter (JupyterLab, Jupyter Notebooks, etc) ,...</td>\n",
       "      <td>Kaggle Learn Courses,University Courses (resul...</td>\n",
       "      <td>GitHub , Kaggle</td>\n",
       "      <td>NaN</td>\n",
       "      <td>4999</td>\n",
       "    </tr>\n",
       "    <tr>\n",
       "      <th>6384</th>\n",
       "      <td>6384</td>\n",
       "      <td>6384</td>\n",
       "      <td>168</td>\n",
       "      <td>18-21</td>\n",
       "      <td>Man</td>\n",
       "      <td>India</td>\n",
       "      <td>Bachelor’s degree</td>\n",
       "      <td>Student</td>\n",
       "      <td>1-3 years</td>\n",
       "      <td>Python</td>\n",
       "      <td>...</td>\n",
       "      <td>NaN</td>\n",
       "      <td>NaN</td>\n",
       "      <td>NaN</td>\n",
       "      <td>NaN</td>\n",
       "      <td>Python, R, SQL</td>\n",
       "      <td>RStudio ,PyCharm , Spyder,Jupyter Notebook</td>\n",
       "      <td>NaN</td>\n",
       "      <td>NaN</td>\n",
       "      <td>NaN</td>\n",
       "      <td>NaN</td>\n",
       "    </tr>\n",
       "    <tr>\n",
       "      <th>12450</th>\n",
       "      <td>12450</td>\n",
       "      <td>12450</td>\n",
       "      <td>386</td>\n",
       "      <td>40-44</td>\n",
       "      <td>Man</td>\n",
       "      <td>Ireland</td>\n",
       "      <td>Master’s degree</td>\n",
       "      <td>Student</td>\n",
       "      <td>&lt; 1 years</td>\n",
       "      <td>C++</td>\n",
       "      <td>...</td>\n",
       "      <td>NaN</td>\n",
       "      <td>NaN</td>\n",
       "      <td>NaN</td>\n",
       "      <td>NaN</td>\n",
       "      <td>C</td>\n",
       "      <td>MATLAB</td>\n",
       "      <td>University Courses (resulting in a university ...</td>\n",
       "      <td>NaN</td>\n",
       "      <td>NaN</td>\n",
       "      <td>NaN</td>\n",
       "    </tr>\n",
       "  </tbody>\n",
       "</table>\n",
       "<p>5 rows × 22 columns</p>\n",
       "</div>"
      ],
      "text/plain": [
       "       level_0  index  time    age gender       pais  \\\n",
       "24530    24530  24530   572  25-29    Man      India   \n",
       "3189      3189   3189   731  25-29    Man      India   \n",
       "9132      9132   9132   773  50-54    Man  Argentina   \n",
       "6384      6384   6384   168  18-21    Man      India   \n",
       "12450    12450  12450   386  40-44    Man    Ireland   \n",
       "\n",
       "                                               formacion          puesto  \\\n",
       "24530                                    Master’s degree         Student   \n",
       "3189                                   Bachelor’s degree  Data Scientist   \n",
       "9132   Some college/university study without earning ...           Other   \n",
       "6384                                   Bachelor’s degree         Student   \n",
       "12450                                    Master’s degree         Student   \n",
       "\n",
       "      experiencia_prog lenguaje_top  ...                         uso_ml  \\\n",
       "24530        3-5 years       Python  ...                            NaN   \n",
       "3189         < 1 years       Python  ...                  I do not know   \n",
       "9132         3-5 years       Python  ...  No (we do not use ML methods)   \n",
       "6384         1-3 years       Python  ...                            NaN   \n",
       "12450        < 1 years          C++  ...                            NaN   \n",
       "\n",
       "         salario             inversion_ml  \\\n",
       "24530        NaN                      NaN   \n",
       "3189   7500-9999  $100,000 or more ($USD)   \n",
       "9132   4000-4999                $100-$999   \n",
       "6384         NaN                      NaN   \n",
       "12450        NaN                      NaN   \n",
       "\n",
       "                                   ppal_herramienta_data   lenguaje_prog  \\\n",
       "24530  Local development environments (RStudio, Jupyt...          Python   \n",
       "3189   Basic statistical software (Microsoft Excel, G...     Python, SQL   \n",
       "9132   Local development environments (RStudio, Jupyt...     Python, SQL   \n",
       "6384                                                 NaN  Python, R, SQL   \n",
       "12450                                                NaN               C   \n",
       "\n",
       "                                              plataforma  \\\n",
       "24530  Jupyter (JupyterLab, Jupyter Notebooks, etc) ,...   \n",
       "3189   Visual Studio ,PyCharm , Spyder,Jupyter Notebo...   \n",
       "9132   Jupyter (JupyterLab, Jupyter Notebooks, etc) ,...   \n",
       "6384          RStudio ,PyCharm , Spyder,Jupyter Notebook   \n",
       "12450                                            MATLAB    \n",
       "\n",
       "                                             plat_cursos              nubes  \\\n",
       "24530  University Courses (resulting in a university ...                NaN   \n",
       "3189   Kaggle Learn Courses,University Courses (resul...    GitHub , Colab    \n",
       "9132   Kaggle Learn Courses,University Courses (resul...   GitHub , Kaggle    \n",
       "6384                                                 NaN                NaN   \n",
       "12450  University Courses (resulting in a university ...                NaN   \n",
       "\n",
       "                    plataforma_top salario_max  \n",
       "24530                          NaN         NaN  \n",
       "3189    Amazon Web Services (AWS)         9999  \n",
       "9132                           NaN        4999  \n",
       "6384                           NaN         NaN  \n",
       "12450                          NaN         NaN  \n",
       "\n",
       "[5 rows x 22 columns]"
      ]
     },
     "execution_count": 4,
     "metadata": {},
     "output_type": "execute_result"
    }
   ],
   "source": [
    "df.sample(5)"
   ]
  },
  {
   "cell_type": "code",
   "execution_count": 5,
   "metadata": {},
   "outputs": [
    {
     "data": {
      "text/plain": [
       "level_0                  0\n",
       "index                    0\n",
       "time                     0\n",
       "age                      0\n",
       "gender                   0\n",
       "pais                     0\n",
       "formacion                0\n",
       "puesto                   0\n",
       "experiencia_prog         0\n",
       "lenguaje_top             0\n",
       "exp_ml                   0\n",
       "tamaño_empresa           0\n",
       "uso_ml                   0\n",
       "salario                  0\n",
       "inversion_ml             0\n",
       "ppal_herramienta_data    0\n",
       "lenguaje_prog            0\n",
       "plataforma               0\n",
       "plat_cursos              0\n",
       "nubes                    0\n",
       "plataforma_top           0\n",
       "salario_max              0\n",
       "dtype: int64"
      ]
     },
     "execution_count": 5,
     "metadata": {},
     "output_type": "execute_result"
    }
   ],
   "source": [
    "df[df[\"salario\"] == \"1000000\"].count()"
   ]
  },
  {
   "cell_type": "code",
   "execution_count": 6,
   "metadata": {},
   "outputs": [
    {
     "data": {
      "text/plain": [
       "10582"
      ]
     },
     "execution_count": 6,
     "metadata": {},
     "output_type": "execute_result"
    }
   ],
   "source": [
    "df[\"salario_max\"].isnull().sum()"
   ]
  },
  {
   "cell_type": "code",
   "execution_count": 7,
   "metadata": {},
   "outputs": [
    {
     "data": {
      "text/plain": [
       "10582"
      ]
     },
     "execution_count": 7,
     "metadata": {},
     "output_type": "execute_result"
    }
   ],
   "source": [
    "df[\"salario\"].isnull().sum()"
   ]
  },
  {
   "cell_type": "code",
   "execution_count": 8,
   "metadata": {},
   "outputs": [
    {
     "data": {
      "text/plain": [
       "level_0                   int64\n",
       "index                     int64\n",
       "time                      int64\n",
       "age                      object\n",
       "gender                   object\n",
       "pais                     object\n",
       "formacion                object\n",
       "puesto                   object\n",
       "experiencia_prog         object\n",
       "lenguaje_top             object\n",
       "exp_ml                   object\n",
       "tamaño_empresa           object\n",
       "uso_ml                   object\n",
       "salario                  object\n",
       "inversion_ml             object\n",
       "ppal_herramienta_data    object\n",
       "lenguaje_prog            object\n",
       "plataforma               object\n",
       "plat_cursos              object\n",
       "nubes                    object\n",
       "plataforma_top           object\n",
       "salario_max              object\n",
       "dtype: object"
      ]
     },
     "execution_count": 8,
     "metadata": {},
     "output_type": "execute_result"
    }
   ],
   "source": [
    "df.dtypes"
   ]
  },
  {
   "cell_type": "code",
   "execution_count": 9,
   "metadata": {},
   "outputs": [
    {
     "data": {
      "text/plain": [
       "0        29999.0\n",
       "1        69999.0\n",
       "2          999.0\n",
       "3        39999.0\n",
       "4        39999.0\n",
       "          ...   \n",
       "25968    19999.0\n",
       "25969        NaN\n",
       "25970      999.0\n",
       "25971        NaN\n",
       "25972      999.0\n",
       "Name: salario_max, Length: 25973, dtype: float64"
      ]
     },
     "execution_count": 9,
     "metadata": {},
     "output_type": "execute_result"
    }
   ],
   "source": [
    "pd.to_numeric(df[\"salario_max\"], errors = \"coerce\")"
   ]
  },
  {
   "cell_type": "code",
   "execution_count": 10,
   "metadata": {},
   "outputs": [
    {
     "data": {
      "text/plain": [
       "level_0                   int64\n",
       "index                     int64\n",
       "time                      int64\n",
       "age                      object\n",
       "gender                   object\n",
       "pais                     object\n",
       "formacion                object\n",
       "puesto                   object\n",
       "experiencia_prog         object\n",
       "lenguaje_top             object\n",
       "exp_ml                   object\n",
       "tamaño_empresa           object\n",
       "uso_ml                   object\n",
       "salario                  object\n",
       "inversion_ml             object\n",
       "ppal_herramienta_data    object\n",
       "lenguaje_prog            object\n",
       "plataforma               object\n",
       "plat_cursos              object\n",
       "nubes                    object\n",
       "plataforma_top           object\n",
       "salario_max              object\n",
       "dtype: object"
      ]
     },
     "execution_count": 10,
     "metadata": {},
     "output_type": "execute_result"
    }
   ],
   "source": [
    "df.dtypes"
   ]
  },
  {
   "cell_type": "code",
   "execution_count": 11,
   "metadata": {},
   "outputs": [],
   "source": [
    "def salario_max(col):\n",
    "    try:\n",
    "        return int(col)\n",
    "\n",
    "    except:\n",
    "        return np.nan"
   ]
  },
  {
   "cell_type": "code",
   "execution_count": 12,
   "metadata": {},
   "outputs": [],
   "source": [
    "df[\"salario_max\"] = df[\"salario_max\"].apply(salario_max)"
   ]
  },
  {
   "cell_type": "code",
   "execution_count": 13,
   "metadata": {},
   "outputs": [
    {
     "data": {
      "text/plain": [
       "level_0                    int64\n",
       "index                      int64\n",
       "time                       int64\n",
       "age                       object\n",
       "gender                    object\n",
       "pais                      object\n",
       "formacion                 object\n",
       "puesto                    object\n",
       "experiencia_prog          object\n",
       "lenguaje_top              object\n",
       "exp_ml                    object\n",
       "tamaño_empresa            object\n",
       "uso_ml                    object\n",
       "salario                   object\n",
       "inversion_ml              object\n",
       "ppal_herramienta_data     object\n",
       "lenguaje_prog             object\n",
       "plataforma                object\n",
       "plat_cursos               object\n",
       "nubes                     object\n",
       "plataforma_top            object\n",
       "salario_max              float64\n",
       "dtype: object"
      ]
     },
     "execution_count": 13,
     "metadata": {},
     "output_type": "execute_result"
    }
   ],
   "source": [
    "df.dtypes"
   ]
  },
  {
   "cell_type": "code",
   "execution_count": 14,
   "metadata": {},
   "outputs": [
    {
     "data": {
      "text/plain": [
       "10582"
      ]
     },
     "execution_count": 14,
     "metadata": {},
     "output_type": "execute_result"
    }
   ],
   "source": [
    "df[\"salario_max\"].isnull().sum()"
   ]
  },
  {
   "cell_type": "code",
   "execution_count": 15,
   "metadata": {},
   "outputs": [
    {
     "data": {
      "text/html": [
       "<div>\n",
       "<style scoped>\n",
       "    .dataframe tbody tr th:only-of-type {\n",
       "        vertical-align: middle;\n",
       "    }\n",
       "\n",
       "    .dataframe tbody tr th {\n",
       "        vertical-align: top;\n",
       "    }\n",
       "\n",
       "    .dataframe thead th {\n",
       "        text-align: right;\n",
       "    }\n",
       "</style>\n",
       "<table border=\"1\" class=\"dataframe\">\n",
       "  <thead>\n",
       "    <tr style=\"text-align: right;\">\n",
       "      <th></th>\n",
       "      <th>level_0</th>\n",
       "      <th>index</th>\n",
       "      <th>time</th>\n",
       "      <th>age</th>\n",
       "      <th>gender</th>\n",
       "      <th>pais</th>\n",
       "      <th>formacion</th>\n",
       "      <th>puesto</th>\n",
       "      <th>experiencia_prog</th>\n",
       "      <th>lenguaje_top</th>\n",
       "      <th>...</th>\n",
       "      <th>uso_ml</th>\n",
       "      <th>salario</th>\n",
       "      <th>inversion_ml</th>\n",
       "      <th>ppal_herramienta_data</th>\n",
       "      <th>lenguaje_prog</th>\n",
       "      <th>plataforma</th>\n",
       "      <th>plat_cursos</th>\n",
       "      <th>nubes</th>\n",
       "      <th>plataforma_top</th>\n",
       "      <th>salario_max</th>\n",
       "    </tr>\n",
       "  </thead>\n",
       "  <tbody>\n",
       "    <tr>\n",
       "      <th>0</th>\n",
       "      <td>0</td>\n",
       "      <td>0</td>\n",
       "      <td>910</td>\n",
       "      <td>50-54</td>\n",
       "      <td>Man</td>\n",
       "      <td>India</td>\n",
       "      <td>Bachelor’s degree</td>\n",
       "      <td>Other</td>\n",
       "      <td>5-10 years</td>\n",
       "      <td>Python</td>\n",
       "      <td>...</td>\n",
       "      <td>No (we do not use ML methods)</td>\n",
       "      <td>25000-29999</td>\n",
       "      <td>$100-$999</td>\n",
       "      <td>Local development environments (RStudio, Jupyt...</td>\n",
       "      <td>Python, R</td>\n",
       "      <td>Vim / Emacs</td>\n",
       "      <td>edX,Kaggle Learn Courses,DataCamp,Udacity,Udemy</td>\n",
       "      <td>GitHub , Kaggle</td>\n",
       "      <td>NaN</td>\n",
       "      <td>29999.0</td>\n",
       "    </tr>\n",
       "    <tr>\n",
       "      <th>1</th>\n",
       "      <td>1</td>\n",
       "      <td>1</td>\n",
       "      <td>784</td>\n",
       "      <td>50-54</td>\n",
       "      <td>Man</td>\n",
       "      <td>Indonesia</td>\n",
       "      <td>Master’s degree</td>\n",
       "      <td>Program/Project Manager</td>\n",
       "      <td>20+ years</td>\n",
       "      <td>Python</td>\n",
       "      <td>...</td>\n",
       "      <td>We are exploring ML methods (and may one day p...</td>\n",
       "      <td>60000-69999</td>\n",
       "      <td>$0 ($USD)</td>\n",
       "      <td>Advanced statistical software (SPSS, SAS, etc.)</td>\n",
       "      <td>SQL, C, C++, Java</td>\n",
       "      <td>Notepad++,Jupyter Notebook</td>\n",
       "      <td>Kaggle Learn Courses,Cloud-certification progr...</td>\n",
       "      <td>NaN</td>\n",
       "      <td>NaN</td>\n",
       "      <td>69999.0</td>\n",
       "    </tr>\n",
       "  </tbody>\n",
       "</table>\n",
       "<p>2 rows × 22 columns</p>\n",
       "</div>"
      ],
      "text/plain": [
       "   level_0  index  time    age gender       pais          formacion  \\\n",
       "0        0      0   910  50-54    Man      India  Bachelor’s degree   \n",
       "1        1      1   784  50-54    Man  Indonesia    Master’s degree   \n",
       "\n",
       "                    puesto experiencia_prog lenguaje_top  ...  \\\n",
       "0                    Other       5-10 years       Python  ...   \n",
       "1  Program/Project Manager        20+ years       Python  ...   \n",
       "\n",
       "                                              uso_ml      salario  \\\n",
       "0                      No (we do not use ML methods)  25000-29999   \n",
       "1  We are exploring ML methods (and may one day p...  60000-69999   \n",
       "\n",
       "  inversion_ml                              ppal_herramienta_data  \\\n",
       "0    $100-$999  Local development environments (RStudio, Jupyt...   \n",
       "1    $0 ($USD)    Advanced statistical software (SPSS, SAS, etc.)   \n",
       "\n",
       "        lenguaje_prog                   plataforma  \\\n",
       "0           Python, R                  Vim / Emacs   \n",
       "1   SQL, C, C++, Java   Notepad++,Jupyter Notebook   \n",
       "\n",
       "                                         plat_cursos              nubes  \\\n",
       "0    edX,Kaggle Learn Courses,DataCamp,Udacity,Udemy   GitHub , Kaggle    \n",
       "1  Kaggle Learn Courses,Cloud-certification progr...                NaN   \n",
       "\n",
       "  plataforma_top salario_max  \n",
       "0            NaN     29999.0  \n",
       "1            NaN     69999.0  \n",
       "\n",
       "[2 rows x 22 columns]"
      ]
     },
     "execution_count": 15,
     "metadata": {},
     "output_type": "execute_result"
    }
   ],
   "source": [
    "df.head(2)"
   ]
  },
  {
   "cell_type": "code",
   "execution_count": 16,
   "metadata": {},
   "outputs": [
    {
     "data": {
      "text/plain": [
       "False    15391\n",
       "True     10582\n",
       "Name: salario_max, dtype: int64"
      ]
     },
     "execution_count": 16,
     "metadata": {},
     "output_type": "execute_result"
    }
   ],
   "source": [
    "df[\"salario_max\"].isnull().value_counts()"
   ]
  },
  {
   "cell_type": "code",
   "execution_count": 17,
   "metadata": {},
   "outputs": [],
   "source": [
    "df_estudiantes = df[df[\"puesto\"] == \"Student\"]"
   ]
  },
  {
   "cell_type": "code",
   "execution_count": 18,
   "metadata": {},
   "outputs": [
    {
     "data": {
      "text/plain": [
       "(6804, 22)"
      ]
     },
     "execution_count": 18,
     "metadata": {},
     "output_type": "execute_result"
    }
   ],
   "source": [
    "df_estudiantes.shape"
   ]
  },
  {
   "cell_type": "code",
   "execution_count": 19,
   "metadata": {},
   "outputs": [
    {
     "data": {
      "text/plain": [
       "6804"
      ]
     },
     "execution_count": 19,
     "metadata": {},
     "output_type": "execute_result"
    }
   ],
   "source": [
    "df_estudiantes[\"salario_max\"].isnull().sum()"
   ]
  },
  {
   "cell_type": "code",
   "execution_count": 20,
   "metadata": {},
   "outputs": [],
   "source": [
    "df_other = df[df[\"puesto\"] == \"Other\"]"
   ]
  },
  {
   "cell_type": "code",
   "execution_count": 21,
   "metadata": {},
   "outputs": [
    {
     "data": {
      "text/plain": [
       "(2393, 22)"
      ]
     },
     "execution_count": 21,
     "metadata": {},
     "output_type": "execute_result"
    }
   ],
   "source": [
    "df_other.shape"
   ]
  },
  {
   "cell_type": "code",
   "execution_count": 22,
   "metadata": {},
   "outputs": [
    {
     "data": {
      "text/plain": [
       "189"
      ]
     },
     "execution_count": 22,
     "metadata": {},
     "output_type": "execute_result"
    }
   ],
   "source": [
    "df_other[\"salario_max\"].isnull().sum()"
   ]
  },
  {
   "cell_type": "code",
   "execution_count": 23,
   "metadata": {},
   "outputs": [],
   "source": [
    "df_desem = df[df[\"puesto\"] == \"Currently not employed\"]"
   ]
  },
  {
   "cell_type": "code",
   "execution_count": 24,
   "metadata": {},
   "outputs": [
    {
     "data": {
      "text/plain": [
       "(1986, 22)"
      ]
     },
     "execution_count": 24,
     "metadata": {},
     "output_type": "execute_result"
    }
   ],
   "source": [
    "df_desem.shape"
   ]
  },
  {
   "cell_type": "code",
   "execution_count": 25,
   "metadata": {},
   "outputs": [
    {
     "data": {
      "text/plain": [
       "1986"
      ]
     },
     "execution_count": 25,
     "metadata": {},
     "output_type": "execute_result"
    }
   ],
   "source": [
    "df_desem[\"salario_max\"].isnull().sum()"
   ]
  },
  {
   "cell_type": "code",
   "execution_count": 58,
   "metadata": {},
   "outputs": [],
   "source": [
    "df[\"rango_salario\"] = pd.cut(df[\"salario_max\"], 12, right = True, labels = [\"Salario muy bajo\", \"Salario bajo\", \"Salario bajo-medio\", \"Salario bajo-medio\", \"Salario medio\", \"Salario medio-alto\", \"Salario alto\", \"Salario alto\", \"Salario muy alto\", \"Salario muy alto\", \"Salario altísimo\", \"Salario altísimo\"], ordered = False)"
   ]
  },
  {
   "cell_type": "code",
   "execution_count": 59,
   "metadata": {},
   "outputs": [
    {
     "data": {
      "text/html": [
       "<div>\n",
       "<style scoped>\n",
       "    .dataframe tbody tr th:only-of-type {\n",
       "        vertical-align: middle;\n",
       "    }\n",
       "\n",
       "    .dataframe tbody tr th {\n",
       "        vertical-align: top;\n",
       "    }\n",
       "\n",
       "    .dataframe thead th {\n",
       "        text-align: right;\n",
       "    }\n",
       "</style>\n",
       "<table border=\"1\" class=\"dataframe\">\n",
       "  <thead>\n",
       "    <tr style=\"text-align: right;\">\n",
       "      <th></th>\n",
       "      <th>level_0</th>\n",
       "      <th>index</th>\n",
       "      <th>time</th>\n",
       "      <th>age</th>\n",
       "      <th>gender</th>\n",
       "      <th>pais</th>\n",
       "      <th>formacion</th>\n",
       "      <th>puesto</th>\n",
       "      <th>experiencia_prog</th>\n",
       "      <th>lenguaje_top</th>\n",
       "      <th>...</th>\n",
       "      <th>salario</th>\n",
       "      <th>inversion_ml</th>\n",
       "      <th>ppal_herramienta_data</th>\n",
       "      <th>lenguaje_prog</th>\n",
       "      <th>plataforma</th>\n",
       "      <th>plat_cursos</th>\n",
       "      <th>nubes</th>\n",
       "      <th>plataforma_top</th>\n",
       "      <th>salario_max</th>\n",
       "      <th>rango_salario</th>\n",
       "    </tr>\n",
       "  </thead>\n",
       "  <tbody>\n",
       "    <tr>\n",
       "      <th>25909</th>\n",
       "      <td>25909</td>\n",
       "      <td>25909</td>\n",
       "      <td>204</td>\n",
       "      <td>25-29</td>\n",
       "      <td>Woman</td>\n",
       "      <td>India</td>\n",
       "      <td>Master’s degree</td>\n",
       "      <td>Data Analyst</td>\n",
       "      <td>&lt; 1 years</td>\n",
       "      <td>Python</td>\n",
       "      <td>...</td>\n",
       "      <td>NaN</td>\n",
       "      <td>NaN</td>\n",
       "      <td>NaN</td>\n",
       "      <td>Python, SQL</td>\n",
       "      <td>Jupyter Notebook</td>\n",
       "      <td>NaN</td>\n",
       "      <td>NaN</td>\n",
       "      <td>NaN</td>\n",
       "      <td>NaN</td>\n",
       "      <td>NaN</td>\n",
       "    </tr>\n",
       "    <tr>\n",
       "      <th>12434</th>\n",
       "      <td>12434</td>\n",
       "      <td>12434</td>\n",
       "      <td>429</td>\n",
       "      <td>18-21</td>\n",
       "      <td>Man</td>\n",
       "      <td>India</td>\n",
       "      <td>Bachelor’s degree</td>\n",
       "      <td>Student</td>\n",
       "      <td>1-3 years</td>\n",
       "      <td>Python</td>\n",
       "      <td>...</td>\n",
       "      <td>NaN</td>\n",
       "      <td>NaN</td>\n",
       "      <td>Business intelligence software (Salesforce, Ta...</td>\n",
       "      <td>Python, SQL, C++</td>\n",
       "      <td>Visual Studio Code (VSCode) ,Jupyter Notebook</td>\n",
       "      <td>Udemy</td>\n",
       "      <td>NaN</td>\n",
       "      <td>NaN</td>\n",
       "      <td>NaN</td>\n",
       "      <td>NaN</td>\n",
       "    </tr>\n",
       "    <tr>\n",
       "      <th>8815</th>\n",
       "      <td>8815</td>\n",
       "      <td>8815</td>\n",
       "      <td>378</td>\n",
       "      <td>18-21</td>\n",
       "      <td>Man</td>\n",
       "      <td>India</td>\n",
       "      <td>Some college/university study without earning ...</td>\n",
       "      <td>Currently not employed</td>\n",
       "      <td>3-5 years</td>\n",
       "      <td>Python</td>\n",
       "      <td>...</td>\n",
       "      <td>NaN</td>\n",
       "      <td>NaN</td>\n",
       "      <td>NaN</td>\n",
       "      <td>Python</td>\n",
       "      <td>Jupyter (JupyterLab, Jupyter Notebooks, etc) ,...</td>\n",
       "      <td>NaN</td>\n",
       "      <td>NaN</td>\n",
       "      <td>NaN</td>\n",
       "      <td>NaN</td>\n",
       "      <td>NaN</td>\n",
       "    </tr>\n",
       "    <tr>\n",
       "      <th>18195</th>\n",
       "      <td>18195</td>\n",
       "      <td>18195</td>\n",
       "      <td>854</td>\n",
       "      <td>40-44</td>\n",
       "      <td>Man</td>\n",
       "      <td>Other</td>\n",
       "      <td>Bachelor’s degree</td>\n",
       "      <td>Program/Project Manager</td>\n",
       "      <td>1-3 years</td>\n",
       "      <td>Python</td>\n",
       "      <td>...</td>\n",
       "      <td>5000-7499</td>\n",
       "      <td>$100-$999</td>\n",
       "      <td>Basic statistical software (Microsoft Excel, G...</td>\n",
       "      <td>Python</td>\n",
       "      <td>MATLAB</td>\n",
       "      <td>LinkedIn Learning</td>\n",
       "      <td>Other</td>\n",
       "      <td>NaN</td>\n",
       "      <td>7499.0</td>\n",
       "      <td>Salario muy bajo</td>\n",
       "    </tr>\n",
       "    <tr>\n",
       "      <th>25596</th>\n",
       "      <td>25596</td>\n",
       "      <td>25596</td>\n",
       "      <td>496</td>\n",
       "      <td>18-21</td>\n",
       "      <td>Man</td>\n",
       "      <td>Pakistan</td>\n",
       "      <td>Bachelor’s degree</td>\n",
       "      <td>Data Scientist</td>\n",
       "      <td>1-3 years</td>\n",
       "      <td>Python</td>\n",
       "      <td>...</td>\n",
       "      <td>1000-1999</td>\n",
       "      <td>$1000-$9,999</td>\n",
       "      <td>Basic statistical software (Microsoft Excel, G...</td>\n",
       "      <td>SQL, C, C++, Java</td>\n",
       "      <td>PyCharm , Notepad++</td>\n",
       "      <td>Kaggle Learn Courses,Udemy</td>\n",
       "      <td>GitHub</td>\n",
       "      <td>VMware Cloud</td>\n",
       "      <td>1999.0</td>\n",
       "      <td>Salario muy bajo</td>\n",
       "    </tr>\n",
       "    <tr>\n",
       "      <th>12583</th>\n",
       "      <td>12583</td>\n",
       "      <td>12583</td>\n",
       "      <td>8220</td>\n",
       "      <td>25-29</td>\n",
       "      <td>Man</td>\n",
       "      <td>Mexico</td>\n",
       "      <td>Doctoral degree</td>\n",
       "      <td>Data Scientist</td>\n",
       "      <td>&lt; 1 years</td>\n",
       "      <td>Python</td>\n",
       "      <td>...</td>\n",
       "      <td>0-999</td>\n",
       "      <td>$0 ($USD)</td>\n",
       "      <td>Local development environments (RStudio, Jupyt...</td>\n",
       "      <td>Python</td>\n",
       "      <td>Spyder</td>\n",
       "      <td>University Courses (resulting in a university ...</td>\n",
       "      <td>NaN</td>\n",
       "      <td>NaN</td>\n",
       "      <td>999.0</td>\n",
       "      <td>Salario muy bajo</td>\n",
       "    </tr>\n",
       "    <tr>\n",
       "      <th>3898</th>\n",
       "      <td>3898</td>\n",
       "      <td>3898</td>\n",
       "      <td>521</td>\n",
       "      <td>25-29</td>\n",
       "      <td>Man</td>\n",
       "      <td>Germany</td>\n",
       "      <td>Master’s degree</td>\n",
       "      <td>Research Scientist</td>\n",
       "      <td>3-5 years</td>\n",
       "      <td>Python</td>\n",
       "      <td>...</td>\n",
       "      <td>10000-14999</td>\n",
       "      <td>$100-$999</td>\n",
       "      <td>Basic statistical software (Microsoft Excel, G...</td>\n",
       "      <td>Python, SQL, C, Java</td>\n",
       "      <td>Jupyter (JupyterLab, Jupyter Notebooks, etc) ,...</td>\n",
       "      <td>Udemy,LinkedIn Learning,University Courses (re...</td>\n",
       "      <td>GitHub , Kaggle , Colab</td>\n",
       "      <td>NaN</td>\n",
       "      <td>14999.0</td>\n",
       "      <td>Salario muy bajo</td>\n",
       "    </tr>\n",
       "    <tr>\n",
       "      <th>25001</th>\n",
       "      <td>25001</td>\n",
       "      <td>25001</td>\n",
       "      <td>58753</td>\n",
       "      <td>35-39</td>\n",
       "      <td>Man</td>\n",
       "      <td>Ukraine</td>\n",
       "      <td>Doctoral degree</td>\n",
       "      <td>Software Engineer</td>\n",
       "      <td>10-20 years</td>\n",
       "      <td>Python</td>\n",
       "      <td>...</td>\n",
       "      <td>80000-89999</td>\n",
       "      <td>$1000-$9,999</td>\n",
       "      <td>Local development environments (RStudio, Jupyt...</td>\n",
       "      <td>Python, SQL, Javascript, Bash, Other</td>\n",
       "      <td>Visual Studio Code (VSCode) , Vim / Emacs,Jupy...</td>\n",
       "      <td>Kaggle Learn Courses</td>\n",
       "      <td>I do not share my work publicly</td>\n",
       "      <td>NaN</td>\n",
       "      <td>89999.0</td>\n",
       "      <td>Salario bajo</td>\n",
       "    </tr>\n",
       "    <tr>\n",
       "      <th>18944</th>\n",
       "      <td>18944</td>\n",
       "      <td>18944</td>\n",
       "      <td>459289</td>\n",
       "      <td>40-44</td>\n",
       "      <td>Man</td>\n",
       "      <td>India</td>\n",
       "      <td>Bachelor’s degree</td>\n",
       "      <td>Currently not employed</td>\n",
       "      <td>&lt; 1 years</td>\n",
       "      <td>Python</td>\n",
       "      <td>...</td>\n",
       "      <td>NaN</td>\n",
       "      <td>NaN</td>\n",
       "      <td>Basic statistical software (Microsoft Excel, G...</td>\n",
       "      <td>Python</td>\n",
       "      <td>Visual Studio ,Jupyter Notebook</td>\n",
       "      <td>Kaggle Learn Courses,DataCamp</td>\n",
       "      <td>NaN</td>\n",
       "      <td>NaN</td>\n",
       "      <td>NaN</td>\n",
       "      <td>NaN</td>\n",
       "    </tr>\n",
       "    <tr>\n",
       "      <th>6736</th>\n",
       "      <td>6736</td>\n",
       "      <td>6736</td>\n",
       "      <td>710</td>\n",
       "      <td>22-24</td>\n",
       "      <td>Man</td>\n",
       "      <td>India</td>\n",
       "      <td>Master’s degree</td>\n",
       "      <td>Data Analyst</td>\n",
       "      <td>&lt; 1 years</td>\n",
       "      <td>Python</td>\n",
       "      <td>...</td>\n",
       "      <td>0-999</td>\n",
       "      <td>$1000-$9,999</td>\n",
       "      <td>Local development environments (RStudio, Jupyt...</td>\n",
       "      <td>Python</td>\n",
       "      <td>Jupyter Notebook</td>\n",
       "      <td>University Courses (resulting in a university ...</td>\n",
       "      <td>GitHub</td>\n",
       "      <td>NaN</td>\n",
       "      <td>999.0</td>\n",
       "      <td>Salario muy bajo</td>\n",
       "    </tr>\n",
       "  </tbody>\n",
       "</table>\n",
       "<p>10 rows × 23 columns</p>\n",
       "</div>"
      ],
      "text/plain": [
       "       level_0  index    time    age gender      pais  \\\n",
       "25909    25909  25909     204  25-29  Woman     India   \n",
       "12434    12434  12434     429  18-21    Man     India   \n",
       "8815      8815   8815     378  18-21    Man     India   \n",
       "18195    18195  18195     854  40-44    Man     Other   \n",
       "25596    25596  25596     496  18-21    Man  Pakistan   \n",
       "12583    12583  12583    8220  25-29    Man    Mexico   \n",
       "3898      3898   3898     521  25-29    Man   Germany   \n",
       "25001    25001  25001   58753  35-39    Man   Ukraine   \n",
       "18944    18944  18944  459289  40-44    Man     India   \n",
       "6736      6736   6736     710  22-24    Man     India   \n",
       "\n",
       "                                               formacion  \\\n",
       "25909                                    Master’s degree   \n",
       "12434                                  Bachelor’s degree   \n",
       "8815   Some college/university study without earning ...   \n",
       "18195                                  Bachelor’s degree   \n",
       "25596                                  Bachelor’s degree   \n",
       "12583                                    Doctoral degree   \n",
       "3898                                     Master’s degree   \n",
       "25001                                    Doctoral degree   \n",
       "18944                                  Bachelor’s degree   \n",
       "6736                                     Master’s degree   \n",
       "\n",
       "                        puesto experiencia_prog lenguaje_top  ...  \\\n",
       "25909             Data Analyst        < 1 years       Python  ...   \n",
       "12434                  Student        1-3 years       Python  ...   \n",
       "8815    Currently not employed        3-5 years       Python  ...   \n",
       "18195  Program/Project Manager        1-3 years       Python  ...   \n",
       "25596           Data Scientist        1-3 years       Python  ...   \n",
       "12583           Data Scientist        < 1 years       Python  ...   \n",
       "3898        Research Scientist        3-5 years       Python  ...   \n",
       "25001        Software Engineer      10-20 years       Python  ...   \n",
       "18944   Currently not employed        < 1 years       Python  ...   \n",
       "6736              Data Analyst        < 1 years       Python  ...   \n",
       "\n",
       "           salario  inversion_ml  \\\n",
       "25909          NaN           NaN   \n",
       "12434          NaN           NaN   \n",
       "8815           NaN           NaN   \n",
       "18195    5000-7499     $100-$999   \n",
       "25596    1000-1999  $1000-$9,999   \n",
       "12583        0-999     $0 ($USD)   \n",
       "3898   10000-14999     $100-$999   \n",
       "25001  80000-89999  $1000-$9,999   \n",
       "18944          NaN           NaN   \n",
       "6736         0-999  $1000-$9,999   \n",
       "\n",
       "                                   ppal_herramienta_data  \\\n",
       "25909                                                NaN   \n",
       "12434  Business intelligence software (Salesforce, Ta...   \n",
       "8815                                                 NaN   \n",
       "18195  Basic statistical software (Microsoft Excel, G...   \n",
       "25596  Basic statistical software (Microsoft Excel, G...   \n",
       "12583  Local development environments (RStudio, Jupyt...   \n",
       "3898   Basic statistical software (Microsoft Excel, G...   \n",
       "25001  Local development environments (RStudio, Jupyt...   \n",
       "18944  Basic statistical software (Microsoft Excel, G...   \n",
       "6736   Local development environments (RStudio, Jupyt...   \n",
       "\n",
       "                              lenguaje_prog  \\\n",
       "25909                           Python, SQL   \n",
       "12434                      Python, SQL, C++   \n",
       "8815                                 Python   \n",
       "18195                                Python   \n",
       "25596                     SQL, C, C++, Java   \n",
       "12583                                Python   \n",
       "3898                   Python, SQL, C, Java   \n",
       "25001  Python, SQL, Javascript, Bash, Other   \n",
       "18944                                Python   \n",
       "6736                                 Python   \n",
       "\n",
       "                                              plataforma  \\\n",
       "25909                                   Jupyter Notebook   \n",
       "12434      Visual Studio Code (VSCode) ,Jupyter Notebook   \n",
       "8815   Jupyter (JupyterLab, Jupyter Notebooks, etc) ,...   \n",
       "18195                                            MATLAB    \n",
       "25596                                PyCharm , Notepad++   \n",
       "12583                                             Spyder   \n",
       "3898   Jupyter (JupyterLab, Jupyter Notebooks, etc) ,...   \n",
       "25001  Visual Studio Code (VSCode) , Vim / Emacs,Jupy...   \n",
       "18944                    Visual Studio ,Jupyter Notebook   \n",
       "6736                                    Jupyter Notebook   \n",
       "\n",
       "                                             plat_cursos  \\\n",
       "25909                                                NaN   \n",
       "12434                                              Udemy   \n",
       "8815                                                 NaN   \n",
       "18195                                  LinkedIn Learning   \n",
       "25596                         Kaggle Learn Courses,Udemy   \n",
       "12583  University Courses (resulting in a university ...   \n",
       "3898   Udemy,LinkedIn Learning,University Courses (re...   \n",
       "25001                               Kaggle Learn Courses   \n",
       "18944                      Kaggle Learn Courses,DataCamp   \n",
       "6736   University Courses (resulting in a university ...   \n",
       "\n",
       "                                 nubes  plataforma_top salario_max  \\\n",
       "25909                              NaN             NaN         NaN   \n",
       "12434                              NaN             NaN         NaN   \n",
       "8815                               NaN             NaN         NaN   \n",
       "18195                            Other             NaN      7499.0   \n",
       "25596                          GitHub    VMware Cloud       1999.0   \n",
       "12583                              NaN             NaN       999.0   \n",
       "3898          GitHub , Kaggle , Colab              NaN     14999.0   \n",
       "25001  I do not share my work publicly             NaN     89999.0   \n",
       "18944                              NaN             NaN         NaN   \n",
       "6736                           GitHub              NaN       999.0   \n",
       "\n",
       "          rango_salario  \n",
       "25909               NaN  \n",
       "12434               NaN  \n",
       "8815                NaN  \n",
       "18195  Salario muy bajo  \n",
       "25596  Salario muy bajo  \n",
       "12583  Salario muy bajo  \n",
       "3898   Salario muy bajo  \n",
       "25001      Salario bajo  \n",
       "18944               NaN  \n",
       "6736   Salario muy bajo  \n",
       "\n",
       "[10 rows x 23 columns]"
      ]
     },
     "execution_count": 59,
     "metadata": {},
     "output_type": "execute_result"
    }
   ],
   "source": [
    "df.sample(10)"
   ]
  },
  {
   "cell_type": "markdown",
   "metadata": {},
   "source": []
  },
  {
   "cell_type": "code",
   "execution_count": 26,
   "metadata": {},
   "outputs": [
    {
     "data": {
      "text/plain": [
       "999.0        3369\n",
       "1999.0        969\n",
       "14999.0       950\n",
       "39999.0       741\n",
       "124999.0      725\n",
       "7499.0        699\n",
       "59999.0       697\n",
       "49999.0       688\n",
       "24999.0       587\n",
       "2999.0        575\n",
       "19999.0       573\n",
       "9999.0        552\n",
       "69999.0       551\n",
       "29999.0       470\n",
       "79999.0       464\n",
       "4999.0        456\n",
       "199999.0      392\n",
       "89999.0       391\n",
       "3999.0        380\n",
       "149999.0      379\n",
       "99999.0       350\n",
       "249999.0      177\n",
       "499999.0       91\n",
       "299999.0       75\n",
       "1000000.0      58\n",
       "999999.0       32\n",
       "Name: salario_max, dtype: int64"
      ]
     },
     "execution_count": 26,
     "metadata": {},
     "output_type": "execute_result"
    }
   ],
   "source": [
    "df[\"salario_max\"].value_counts()"
   ]
  },
  {
   "cell_type": "code",
   "execution_count": 27,
   "metadata": {},
   "outputs": [],
   "source": [
    "df_salarios_pais= pd.DataFrame(df.groupby(['pais','gender', 'puesto'])['salario_max'].mean().round(2))"
   ]
  },
  {
   "cell_type": "code",
   "execution_count": 28,
   "metadata": {},
   "outputs": [],
   "source": [
    "pd.set_option('display.max_rows', None)"
   ]
  },
  {
   "cell_type": "markdown",
   "metadata": {},
   "source": [
    "df_salarios_pais.sort_values('salario_max', ascending= True)"
   ]
  },
  {
   "cell_type": "code",
   "execution_count": null,
   "metadata": {},
   "outputs": [],
   "source": []
  },
  {
   "attachments": {},
   "cell_type": "markdown",
   "metadata": {},
   "source": [
    "#### Filtrar paises para quedarnos solo con Europa a la hora de analizar los sueldos, para luego poder categorizarlos con el .cut() y comparar la diferencia entre generos y/o por puestos."
   ]
  },
  {
   "attachments": {},
   "cell_type": "markdown",
   "metadata": {},
   "source": [
    "categorizar los salarios (confiamos en el .cut())\n",
    "el cosito del KNN para los nulos!!!\n"
   ]
  },
  {
   "cell_type": "code",
   "execution_count": 30,
   "metadata": {},
   "outputs": [
    {
     "ename": "SyntaxError",
     "evalue": "invalid syntax (3754623592.py, line 1)",
     "output_type": "error",
     "traceback": [
      "\u001b[0;36m  File \u001b[0;32m\"/tmp/ipykernel_18010/3754623592.py\"\u001b[0;36m, line \u001b[0;32m1\u001b[0m\n\u001b[0;31m    $ pip install a-world-of-countries  # Instalador de libreria para poder clasificar los  paises por continentes\u001b[0m\n\u001b[0m    ^\u001b[0m\n\u001b[0;31mSyntaxError\u001b[0m\u001b[0;31m:\u001b[0m invalid syntax\n"
     ]
    }
   ],
   "source": [
    "$ pip install a-world-of-countries  # Instalador de libreria para poder clasificar los  paises por continentes"
   ]
  },
  {
   "cell_type": "code",
   "execution_count": null,
   "metadata": {},
   "outputs": [],
   "source": [
    "# Import the AWOC package.\n",
    "import awoc\n",
    "\n",
    "# Initialize the AWOC class.\n",
    "my_world = awoc.AWOC()"
   ]
  },
  {
   "cell_type": "code",
   "execution_count": null,
   "metadata": {},
   "outputs": [],
   "source": [
    "europa= my_world.get_countries_list_of('Europe')"
   ]
  },
  {
   "cell_type": "code",
   "execution_count": null,
   "metadata": {},
   "outputs": [
    {
     "data": {
      "text/plain": [
       "['Albania',\n",
       " 'Andorra',\n",
       " 'Austria',\n",
       " 'Belarus',\n",
       " 'Belgium',\n",
       " 'Bosnia and Herzegovina',\n",
       " 'Bulgaria',\n",
       " 'Croatia',\n",
       " 'Cyprus',\n",
       " 'Czech Republic',\n",
       " 'Denmark',\n",
       " 'Estonia',\n",
       " 'Faroe Islands',\n",
       " 'Finland',\n",
       " 'France',\n",
       " 'Germany',\n",
       " 'Gibraltar',\n",
       " 'Greece',\n",
       " 'Guernsey',\n",
       " 'Hungary',\n",
       " 'Iceland',\n",
       " 'Ireland',\n",
       " 'Isle of Man',\n",
       " 'Italy',\n",
       " 'Jersey',\n",
       " 'Kosovo',\n",
       " 'Latvia',\n",
       " 'Liechtenstein',\n",
       " 'Lithuania',\n",
       " 'Luxembourg',\n",
       " 'Macedonia',\n",
       " 'Malta',\n",
       " 'Moldova',\n",
       " 'Monaco',\n",
       " 'Montenegro',\n",
       " 'Netherlands',\n",
       " 'Norway',\n",
       " 'Poland',\n",
       " 'Portugal',\n",
       " 'Romania',\n",
       " 'Russia',\n",
       " 'San Marino',\n",
       " 'Serbia',\n",
       " 'Slovakia',\n",
       " 'Slovenia',\n",
       " 'Spain',\n",
       " 'Svalbard and Jan Mayen',\n",
       " 'Sweden',\n",
       " 'Switzerland',\n",
       " 'Ukraine',\n",
       " 'United Kingdom',\n",
       " 'Vatican']"
      ]
     },
     "execution_count": 61,
     "metadata": {},
     "output_type": "execute_result"
    }
   ],
   "source": [
    "europa"
   ]
  },
  {
   "cell_type": "code",
   "execution_count": null,
   "metadata": {},
   "outputs": [
    {
     "ename": "KeyboardInterrupt",
     "evalue": "",
     "output_type": "error",
     "traceback": [
      "\u001b[0;31m---------------------------------------------------------------------------\u001b[0m",
      "\u001b[0;31mKeyboardInterrupt\u001b[0m                         Traceback (most recent call last)",
      "\u001b[0;32m/var/folders/db/hp0l5_js4yv8br5y2tc3frpm0000gn/T/ipykernel_52962/1579063448.py\u001b[0m in \u001b[0;36m<module>\u001b[0;34m\u001b[0m\n\u001b[1;32m      4\u001b[0m             \u001b[0mdf\u001b[0m\u001b[0;34m[\u001b[0m\u001b[0;34m'europa'\u001b[0m\u001b[0;34m]\u001b[0m\u001b[0;34m=\u001b[0m \u001b[0;34m'SI'\u001b[0m\u001b[0;34m\u001b[0m\u001b[0;34m\u001b[0m\u001b[0m\n\u001b[1;32m      5\u001b[0m         \u001b[0;32melse\u001b[0m\u001b[0;34m:\u001b[0m\u001b[0;34m\u001b[0m\u001b[0;34m\u001b[0m\u001b[0m\n\u001b[0;32m----> 6\u001b[0;31m             \u001b[0mdf\u001b[0m\u001b[0;34m[\u001b[0m\u001b[0;34m'europa'\u001b[0m\u001b[0;34m]\u001b[0m\u001b[0;34m=\u001b[0m \u001b[0;34m'NO'\u001b[0m\u001b[0;34m\u001b[0m\u001b[0;34m\u001b[0m\u001b[0m\n\u001b[0m",
      "\u001b[0;32m~/anaconda3/lib/python3.9/site-packages/pandas/core/frame.py\u001b[0m in \u001b[0;36m__setitem__\u001b[0;34m(self, key, value)\u001b[0m\n\u001b[1;32m   3976\u001b[0m         \u001b[0;32melse\u001b[0m\u001b[0;34m:\u001b[0m\u001b[0;34m\u001b[0m\u001b[0;34m\u001b[0m\u001b[0m\n\u001b[1;32m   3977\u001b[0m             \u001b[0;31m# set column\u001b[0m\u001b[0;34m\u001b[0m\u001b[0;34m\u001b[0m\u001b[0m\n\u001b[0;32m-> 3978\u001b[0;31m             \u001b[0mself\u001b[0m\u001b[0;34m.\u001b[0m\u001b[0m_set_item\u001b[0m\u001b[0;34m(\u001b[0m\u001b[0mkey\u001b[0m\u001b[0;34m,\u001b[0m \u001b[0mvalue\u001b[0m\u001b[0;34m)\u001b[0m\u001b[0;34m\u001b[0m\u001b[0;34m\u001b[0m\u001b[0m\n\u001b[0m\u001b[1;32m   3979\u001b[0m \u001b[0;34m\u001b[0m\u001b[0m\n\u001b[1;32m   3980\u001b[0m     \u001b[0;32mdef\u001b[0m \u001b[0m_setitem_slice\u001b[0m\u001b[0;34m(\u001b[0m\u001b[0mself\u001b[0m\u001b[0;34m,\u001b[0m \u001b[0mkey\u001b[0m\u001b[0;34m:\u001b[0m \u001b[0mslice\u001b[0m\u001b[0;34m,\u001b[0m \u001b[0mvalue\u001b[0m\u001b[0;34m)\u001b[0m\u001b[0;34m:\u001b[0m\u001b[0;34m\u001b[0m\u001b[0;34m\u001b[0m\u001b[0m\n",
      "\u001b[0;32m~/anaconda3/lib/python3.9/site-packages/pandas/core/frame.py\u001b[0m in \u001b[0;36m_set_item\u001b[0;34m(self, key, value)\u001b[0m\n\u001b[1;32m   4183\u001b[0m                     \u001b[0mvalue\u001b[0m \u001b[0;34m=\u001b[0m \u001b[0mnp\u001b[0m\u001b[0;34m.\u001b[0m\u001b[0mtile\u001b[0m\u001b[0;34m(\u001b[0m\u001b[0mvalue\u001b[0m\u001b[0;34m,\u001b[0m \u001b[0;34m(\u001b[0m\u001b[0mlen\u001b[0m\u001b[0;34m(\u001b[0m\u001b[0mexisting_piece\u001b[0m\u001b[0;34m.\u001b[0m\u001b[0mcolumns\u001b[0m\u001b[0;34m)\u001b[0m\u001b[0;34m,\u001b[0m \u001b[0;36m1\u001b[0m\u001b[0;34m)\u001b[0m\u001b[0;34m)\u001b[0m\u001b[0;34m.\u001b[0m\u001b[0mT\u001b[0m\u001b[0;34m\u001b[0m\u001b[0;34m\u001b[0m\u001b[0m\n\u001b[1;32m   4184\u001b[0m \u001b[0;34m\u001b[0m\u001b[0m\n\u001b[0;32m-> 4185\u001b[0;31m         \u001b[0mself\u001b[0m\u001b[0;34m.\u001b[0m\u001b[0m_set_item_mgr\u001b[0m\u001b[0;34m(\u001b[0m\u001b[0mkey\u001b[0m\u001b[0;34m,\u001b[0m \u001b[0mvalue\u001b[0m\u001b[0;34m)\u001b[0m\u001b[0;34m\u001b[0m\u001b[0;34m\u001b[0m\u001b[0m\n\u001b[0m\u001b[1;32m   4186\u001b[0m \u001b[0;34m\u001b[0m\u001b[0m\n\u001b[1;32m   4187\u001b[0m     def _set_value(\n",
      "\u001b[0;32m~/anaconda3/lib/python3.9/site-packages/pandas/core/frame.py\u001b[0m in \u001b[0;36m_set_item_mgr\u001b[0;34m(self, key, value)\u001b[0m\n\u001b[1;32m   4142\u001b[0m             \u001b[0mself\u001b[0m\u001b[0;34m.\u001b[0m\u001b[0m_mgr\u001b[0m\u001b[0;34m.\u001b[0m\u001b[0minsert\u001b[0m\u001b[0;34m(\u001b[0m\u001b[0mlen\u001b[0m\u001b[0;34m(\u001b[0m\u001b[0mself\u001b[0m\u001b[0;34m.\u001b[0m\u001b[0m_info_axis\u001b[0m\u001b[0;34m)\u001b[0m\u001b[0;34m,\u001b[0m \u001b[0mkey\u001b[0m\u001b[0;34m,\u001b[0m \u001b[0mvalue\u001b[0m\u001b[0;34m)\u001b[0m\u001b[0;34m\u001b[0m\u001b[0;34m\u001b[0m\u001b[0m\n\u001b[1;32m   4143\u001b[0m         \u001b[0;32melse\u001b[0m\u001b[0;34m:\u001b[0m\u001b[0;34m\u001b[0m\u001b[0;34m\u001b[0m\u001b[0m\n\u001b[0;32m-> 4144\u001b[0;31m             \u001b[0mself\u001b[0m\u001b[0;34m.\u001b[0m\u001b[0m_iset_item_mgr\u001b[0m\u001b[0;34m(\u001b[0m\u001b[0mloc\u001b[0m\u001b[0;34m,\u001b[0m \u001b[0mvalue\u001b[0m\u001b[0;34m)\u001b[0m\u001b[0;34m\u001b[0m\u001b[0;34m\u001b[0m\u001b[0m\n\u001b[0m\u001b[1;32m   4145\u001b[0m \u001b[0;34m\u001b[0m\u001b[0m\n\u001b[1;32m   4146\u001b[0m         \u001b[0;31m# check if we are modifying a copy\u001b[0m\u001b[0;34m\u001b[0m\u001b[0;34m\u001b[0m\u001b[0m\n",
      "\u001b[0;32m~/anaconda3/lib/python3.9/site-packages/pandas/core/frame.py\u001b[0m in \u001b[0;36m_iset_item_mgr\u001b[0;34m(self, loc, value, inplace)\u001b[0m\n\u001b[1;32m   4132\u001b[0m     ) -> None:\n\u001b[1;32m   4133\u001b[0m         \u001b[0;31m# when called from _set_item_mgr loc can be anything returned from get_loc\u001b[0m\u001b[0;34m\u001b[0m\u001b[0;34m\u001b[0m\u001b[0m\n\u001b[0;32m-> 4134\u001b[0;31m         \u001b[0mself\u001b[0m\u001b[0;34m.\u001b[0m\u001b[0m_mgr\u001b[0m\u001b[0;34m.\u001b[0m\u001b[0miset\u001b[0m\u001b[0;34m(\u001b[0m\u001b[0mloc\u001b[0m\u001b[0;34m,\u001b[0m \u001b[0mvalue\u001b[0m\u001b[0;34m,\u001b[0m \u001b[0minplace\u001b[0m\u001b[0;34m=\u001b[0m\u001b[0minplace\u001b[0m\u001b[0;34m)\u001b[0m\u001b[0;34m\u001b[0m\u001b[0;34m\u001b[0m\u001b[0m\n\u001b[0m\u001b[1;32m   4135\u001b[0m         \u001b[0mself\u001b[0m\u001b[0;34m.\u001b[0m\u001b[0m_clear_item_cache\u001b[0m\u001b[0;34m(\u001b[0m\u001b[0;34m)\u001b[0m\u001b[0;34m\u001b[0m\u001b[0;34m\u001b[0m\u001b[0m\n\u001b[1;32m   4136\u001b[0m \u001b[0;34m\u001b[0m\u001b[0m\n",
      "\u001b[0;31mKeyboardInterrupt\u001b[0m: "
     ]
    }
   ],
   "source": [
    "for x in df['pais']:\n",
    "   for i in europa: \n",
    "        if x in (europa):\n",
    "            df['europa']= 'SI'\n",
    "        else:\n",
    "            df['europa']= 'NO'"
   ]
  },
  {
   "cell_type": "code",
   "execution_count": 33,
   "metadata": {},
   "outputs": [
    {
     "data": {
      "image/png": "[encoded data removed]",
      "text/plain": [
       "<Figure size 432x288 with 1 Axes>"
      ]
     },
     "metadata": {
      "needs_background": "light"
     },
     "output_type": "display_data"
    }
   ],
   "source": [
    "sns.boxplot(x= \"salario_max\", data = df)\n",
    "plt.xticks(rotation = 60); "
   ]
  },
  {
   "attachments": {},
   "cell_type": "markdown",
   "metadata": {},
   "source": [
    "#### Ver si podemos hacer la iteracion con un apply u otro metodo."
   ]
  },
  {
   "cell_type": "code",
   "execution_count": null,
   "metadata": {},
   "outputs": [
    {
     "data": {
      "text/plain": [
       "array(['NO'], dtype=object)"
      ]
     },
     "execution_count": 66,
     "metadata": {},
     "output_type": "execute_result"
    }
   ],
   "source": [
    "df['europa'].unique()"
   ]
  },
  {
   "cell_type": "markdown",
   "metadata": {},
   "source": [
    "¿Qué logramos en este sprint?:\n",
    "- Lenguaje_prog\n",
    "- Salario_max (casi lo hemos conseguido categorizar)\n",
    "- Varias visualizaciones (gráficas)\n",
    "- Separar salarios por países\n",
    "- Importar la librería de europa y filtrar los datos por Europa\n",
    "- Profundizar en las preguntas y aproximarnos a la elaboración de dataframes al respecto de ellas\n",
    "\n",
    "Próximos objetivos:\n",
    "- Filtrar por todos los países de Europa\n",
    "- Terminar de acordar los dataframes a las preguntas\n",
    "- Elaborar las conclusiones de cada pregunta\n",
    "- Organizar los archivos por preguntas (por ejemplo) o por tipo (EDA o limpieza) y hacer el README\n",
    "- Presentación"
   ]
  }
 ],
 "metadata": {
  "kernelspec": {
   "display_name": "Python 3.9.7 ('base')",
   "language": "python",
   "name": "python3"
  },
  "language_info": {
   "codemirror_mode": {
    "name": "ipython",
    "version": 3
   },
   "file_extension": ".py",
   "mimetype": "text/x-python",
   "name": "python",
   "nbconvert_exporter": "python",
   "pygments_lexer": "ipython3",
   "version": "3.9.7"
  },
  "orig_nbformat": 4,
  "vscode": {
   "interpreter": {
    "hash": "0620710c65b0f5ccc651a2aa8870ae0eb4c70492424a8d7866846658189426a3"
   }
  }
 },
 "nbformat": 4,
 "nbformat_minor": 2
}
